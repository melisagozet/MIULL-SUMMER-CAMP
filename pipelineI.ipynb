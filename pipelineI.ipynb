{
  "nbformat": 4,
  "nbformat_minor": 0,
  "metadata": {
    "colab": {
      "name": "pipelineI.ipynb",
      "provenance": [],
      "collapsed_sections": []
    },
    "kernelspec": {
      "name": "python3",
      "display_name": "Python 3"
    },
    "language_info": {
      "name": "python"
    }
  },
  "cells": [
    {
      "cell_type": "markdown",
      "source": [
        "# End-to-End Diabetes Machine Learning Pipeline I\n",
        "\n",
        "1. Exploratory Data Analysis\n",
        "2. Data Preprocessing & Feature Engineering\n",
        "3. Base Models\n",
        "4. Automated Hyperparameter Optimization\n",
        "5. Stacking & Ensemble Learning\n",
        "6. Prediction for a New Observation\n",
        "7. Pipeline Main Function\n",
        "\n",
        "pipeline bir boru hattı demektir, uç uca boruları ekleyerek belirli bir aktarma işlemini temsil etmektedir. "
      ],
      "metadata": {
        "id": "2HM34wgPGRzK"
      }
    },
    {
      "cell_type": "code",
      "execution_count": null,
      "metadata": {
        "id": "L8o6-w-tF0p8"
      },
      "outputs": [],
      "source": [
        "import joblib\n",
        "import pandas as pd\n",
        "import seaborn as sns\n",
        "from matplotlib import pyplot as plt\n",
        "from sklearn.ensemble import RandomForestClassifier, GradientBoostingClassifier, VotingClassifier, AdaBoostClassifier\n",
        "from sklearn.linear_model import LogisticRegression\n",
        "from sklearn.model_selection import cross_validate, GridSearchCV\n",
        "from sklearn.neighbors import KNeighborsClassifier\n",
        "from sklearn.svm import SVC\n",
        "from sklearn.tree import DecisionTreeClassifier\n",
        "from sklearn.preprocessing import StandardScaler"
      ]
    },
    {
      "cell_type": "code",
      "source": [
        "!pip install catboost"
      ],
      "metadata": {
        "colab": {
          "base_uri": "https://localhost:8080/"
        },
        "id": "sI_plvMzGdi6",
        "outputId": "2c3db3ac-8105-4934-fbd0-84fd301e88c1"
      },
      "execution_count": null,
      "outputs": [
        {
          "output_type": "stream",
          "name": "stdout",
          "text": [
            "Looking in indexes: https://pypi.org/simple, https://us-python.pkg.dev/colab-wheels/public/simple/\n",
            "Requirement already satisfied: catboost in /usr/local/lib/python3.7/dist-packages (1.0.6)\n",
            "Requirement already satisfied: graphviz in /usr/local/lib/python3.7/dist-packages (from catboost) (0.10.1)\n",
            "Requirement already satisfied: six in /usr/local/lib/python3.7/dist-packages (from catboost) (1.15.0)\n",
            "Requirement already satisfied: plotly in /usr/local/lib/python3.7/dist-packages (from catboost) (5.5.0)\n",
            "Requirement already satisfied: pandas>=0.24.0 in /usr/local/lib/python3.7/dist-packages (from catboost) (1.3.5)\n",
            "Requirement already satisfied: matplotlib in /usr/local/lib/python3.7/dist-packages (from catboost) (3.2.2)\n",
            "Requirement already satisfied: numpy>=1.16.0 in /usr/local/lib/python3.7/dist-packages (from catboost) (1.21.6)\n",
            "Requirement already satisfied: scipy in /usr/local/lib/python3.7/dist-packages (from catboost) (1.7.3)\n",
            "Requirement already satisfied: python-dateutil>=2.7.3 in /usr/local/lib/python3.7/dist-packages (from pandas>=0.24.0->catboost) (2.8.2)\n",
            "Requirement already satisfied: pytz>=2017.3 in /usr/local/lib/python3.7/dist-packages (from pandas>=0.24.0->catboost) (2022.1)\n",
            "Requirement already satisfied: cycler>=0.10 in /usr/local/lib/python3.7/dist-packages (from matplotlib->catboost) (0.11.0)\n",
            "Requirement already satisfied: kiwisolver>=1.0.1 in /usr/local/lib/python3.7/dist-packages (from matplotlib->catboost) (1.4.4)\n",
            "Requirement already satisfied: pyparsing!=2.0.4,!=2.1.2,!=2.1.6,>=2.0.1 in /usr/local/lib/python3.7/dist-packages (from matplotlib->catboost) (3.0.9)\n",
            "Requirement already satisfied: typing-extensions in /usr/local/lib/python3.7/dist-packages (from kiwisolver>=1.0.1->matplotlib->catboost) (4.1.1)\n",
            "Requirement already satisfied: tenacity>=6.2.0 in /usr/local/lib/python3.7/dist-packages (from plotly->catboost) (8.0.1)\n"
          ]
        }
      ]
    },
    {
      "cell_type": "code",
      "source": [
        "!pip install lightgbm"
      ],
      "metadata": {
        "colab": {
          "base_uri": "https://localhost:8080/"
        },
        "id": "k5spo5znGgMg",
        "outputId": "ab9942c0-ac59-4b07-d8c2-33819ba30ac3"
      },
      "execution_count": null,
      "outputs": [
        {
          "output_type": "stream",
          "name": "stdout",
          "text": [
            "Looking in indexes: https://pypi.org/simple, https://us-python.pkg.dev/colab-wheels/public/simple/\n",
            "Requirement already satisfied: lightgbm in /usr/local/lib/python3.7/dist-packages (2.2.3)\n",
            "Requirement already satisfied: scipy in /usr/local/lib/python3.7/dist-packages (from lightgbm) (1.7.3)\n",
            "Requirement already satisfied: numpy in /usr/local/lib/python3.7/dist-packages (from lightgbm) (1.21.6)\n",
            "Requirement already satisfied: scikit-learn in /usr/local/lib/python3.7/dist-packages (from lightgbm) (1.0.2)\n",
            "Requirement already satisfied: threadpoolctl>=2.0.0 in /usr/local/lib/python3.7/dist-packages (from scikit-learn->lightgbm) (3.1.0)\n",
            "Requirement already satisfied: joblib>=0.11 in /usr/local/lib/python3.7/dist-packages (from scikit-learn->lightgbm) (1.1.0)\n"
          ]
        }
      ]
    },
    {
      "cell_type": "code",
      "source": [
        "!pip install xgboost"
      ],
      "metadata": {
        "colab": {
          "base_uri": "https://localhost:8080/"
        },
        "id": "x6-mEuGhGiAq",
        "outputId": "e0ced4a7-328a-4a1e-86ca-158c5ea5297b"
      },
      "execution_count": null,
      "outputs": [
        {
          "output_type": "stream",
          "name": "stdout",
          "text": [
            "Looking in indexes: https://pypi.org/simple, https://us-python.pkg.dev/colab-wheels/public/simple/\n",
            "Requirement already satisfied: xgboost in /usr/local/lib/python3.7/dist-packages (0.90)\n",
            "Requirement already satisfied: numpy in /usr/local/lib/python3.7/dist-packages (from xgboost) (1.21.6)\n",
            "Requirement already satisfied: scipy in /usr/local/lib/python3.7/dist-packages (from xgboost) (1.7.3)\n"
          ]
        }
      ]
    },
    {
      "cell_type": "code",
      "source": [
        "from xgboost import XGBClassifier\n",
        "from lightgbm import LGBMClassifier\n",
        "from catboost import CatBoostClassifier\n",
        "\n",
        "pd.set_option('display.max_columns', None)\n",
        "pd.set_option('display.width', 500)"
      ],
      "metadata": {
        "id": "YaEhb5rsGkBV"
      },
      "execution_count": null,
      "outputs": []
    },
    {
      "cell_type": "markdown",
      "source": [
        "### 1. Exploratory Data Analysis"
      ],
      "metadata": {
        "id": "qAnW1b1pGouv"
      }
    },
    {
      "cell_type": "code",
      "source": [
        "def check_df(dataframe, head=5):\n",
        "    print(\"##################### Shape #####################\")\n",
        "    print(dataframe.shape)\n",
        "    print(\"##################### Types #####################\")\n",
        "    print(dataframe.dtypes)\n",
        "    print(\"##################### Head #####################\")\n",
        "    print(dataframe.head(head))\n",
        "    print(\"##################### Tail #####################\")\n",
        "    print(dataframe.tail(head))\n",
        "    print(\"##################### NA #####################\")\n",
        "    print(dataframe.isnull().sum())\n",
        "    print(\"##################### Quantiles #####################\")\n",
        "    print(dataframe.quantile([0, 0.05, 0.50, 0.95, 0.99, 1]).T)"
      ],
      "metadata": {
        "id": "qDD9fSjmGnzY"
      },
      "execution_count": null,
      "outputs": []
    },
    {
      "cell_type": "markdown",
      "source": [
        "veri seti hakkında genel özel bilgi çıkarır."
      ],
      "metadata": {
        "id": "3HET8SsJNWaF"
      }
    },
    {
      "cell_type": "code",
      "source": [
        "def cat_summary(dataframe, col_name, plot=False):\n",
        "    print(pd.DataFrame({col_name: dataframe[col_name].value_counts(),\n",
        "                        \"Ratio\": 100 * dataframe[col_name].value_counts() / len(dataframe)}))\n",
        "    print(\"##########################################\")\n",
        "    if plot:\n",
        "        sns.countplot(x=dataframe[col_name], data=dataframe)\n",
        "        plt.show(block=True)"
      ],
      "metadata": {
        "id": "KD1YNUWKGl8H"
      },
      "execution_count": null,
      "outputs": []
    },
    {
      "cell_type": "markdown",
      "source": [
        "sınıf frekansı ve sınıfların oranını ifade ediyor. plot=False değil de True yaparsan ilgili kategorik değişken için sütun grafiği oluşturuyor."
      ],
      "metadata": {
        "id": "IXjpc0ZvSIdQ"
      }
    },
    {
      "cell_type": "code",
      "source": [
        "def num_summary(dataframe, numerical_col, plot=False):\n",
        "    quantiles = [0.05, 0.10, 0.20, 0.30, 0.40, 0.50, 0.60, 0.70, 0.80, 0.90, 0.95, 0.99]\n",
        "    print(dataframe[numerical_col].describe(quantiles).T)\n",
        "\n",
        "    if plot:\n",
        "        dataframe[numerical_col].hist(bins=20)\n",
        "        plt.xlabel(numerical_col)\n",
        "        plt.title(numerical_col)\n",
        "        plt.show(block=True)"
      ],
      "metadata": {
        "id": "5nC8NgGfGw1f"
      },
      "execution_count": null,
      "outputs": []
    },
    {
      "cell_type": "markdown",
      "source": [
        "sayısal değişkenleri inceleme fonksiyonu aslında describe işlemi gerçekleştiriyor. Yine plot true yaparsan grafiğinide görebilirsin."
      ],
      "metadata": {
        "id": "UTLOw_QFSYdq"
      }
    },
    {
      "cell_type": "code",
      "source": [
        "def target_summary_with_num(dataframe, target, numerical_col):\n",
        "    print(dataframe.groupby(target).agg({numerical_col: \"mean\"}), end=\"\\n\\n\\n\")\n"
      ],
      "metadata": {
        "id": "Dbnv4j2dGw4D"
      },
      "execution_count": null,
      "outputs": []
    },
    {
      "cell_type": "markdown",
      "source": [
        "bağımlı değişkeni sayısal bir değişken ile özetlemek istersen kullanabilirsin."
      ],
      "metadata": {
        "id": "TKL2fx_pSkF9"
      }
    },
    {
      "cell_type": "code",
      "source": [
        "def target_summary_with_cat(dataframe, target, categorical_col):\n",
        "    print(pd.DataFrame({\"TARGET_MEAN\": dataframe.groupby(categorical_col)[target].mean()}), end=\"\\n\\n\\n\")\n"
      ],
      "metadata": {
        "id": "HQ00nG2AGw8D"
      },
      "execution_count": null,
      "outputs": []
    },
    {
      "cell_type": "markdown",
      "source": [
        "bağımlı değişkeni kategorik bir değişken ile özetlemek istersen kullanabilirsin."
      ],
      "metadata": {
        "id": "_jO7FaoCStN5"
      }
    },
    {
      "cell_type": "code",
      "source": [
        "def correlation_matrix(df, cols):\n",
        "    fig = plt.gcf()\n",
        "    fig.set_size_inches(10, 8)\n",
        "    plt.xticks(fontsize=10)\n",
        "    plt.yticks(fontsize=10)\n",
        "    fig = sns.heatmap(df[cols].corr(), annot=True, linewidths=0.5, annot_kws={'size': 12}, linecolor='w', cmap='RdBu')\n",
        "    plt.show(block=True)"
      ],
      "metadata": {
        "id": "_zFOGpkEGw_V"
      },
      "execution_count": null,
      "outputs": []
    },
    {
      "cell_type": "markdown",
      "source": [
        "sayısal değişkenler arası korelasyonu hesaplayacak."
      ],
      "metadata": {
        "id": "BOar7lmaSzTm"
      }
    },
    {
      "cell_type": "code",
      "source": [
        "def grab_col_names(dataframe, cat_th=10, car_th=20):\n",
        "    \"\"\"\n",
        "\n",
        "    Veri setindeki kategorik, numerik ve kategorik fakat kardinal değişkenlerin isimlerini verir.\n",
        "    Not: Kategorik değişkenlerin içerisine numerik görünümlü kategorik değişkenler de dahildir.\n",
        "\n",
        "    Parameters\n",
        "    ------\n",
        "        dataframe: dataframe\n",
        "                Değişken isimleri alınmak istenilen dataframe\n",
        "        cat_th: int, optional\n",
        "                numerik fakat kategorik olan değişkenler için sınıf eşik değeri\n",
        "        car_th: int, optinal\n",
        "                kategorik fakat kardinal değişkenler için sınıf eşik değeri\n",
        "\n",
        "    Returns\n",
        "    ------\n",
        "        cat_cols: list\n",
        "                Kategorik değişken listesi\n",
        "        num_cols: list\n",
        "                Numerik değişken listesi\n",
        "        cat_but_car: list\n",
        "                Kategorik görünümlü kardinal değişken listesi\n",
        "\n",
        "    Examples\n",
        "    ------\n",
        "        import seaborn as sns\n",
        "        df = sns.load_dataset(\"iris\")\n",
        "        print(grab_col_names(df))\n",
        "\n",
        "\n",
        "    Notes\n",
        "    ------\n",
        "        cat_cols + num_cols + cat_but_car = toplam değişken sayısı\n",
        "        num_but_cat cat_cols'un içerisinde.\n",
        "        Return olan 3 liste toplamı toplam değişken sayısına eşittir: cat_cols + num_cols + cat_but_car = değişken sayısı\n",
        "\n",
        "    \"\"\"\n",
        "\n",
        "    # cat_cols, cat_but_car\n",
        "    cat_cols = [col for col in dataframe.columns if dataframe[col].dtypes == \"O\"]\n",
        "    num_but_cat = [col for col in dataframe.columns if dataframe[col].nunique() < cat_th and\n",
        "                   dataframe[col].dtypes != \"O\"]\n",
        "    cat_but_car = [col for col in dataframe.columns if dataframe[col].nunique() > car_th and\n",
        "                   dataframe[col].dtypes == \"O\"]\n",
        "    cat_cols = cat_cols + num_but_cat\n",
        "    cat_cols = [col for col in cat_cols if col not in cat_but_car]\n",
        "\n",
        "    # num_cols\n",
        "    num_cols = [col for col in dataframe.columns if dataframe[col].dtypes != \"O\"]\n",
        "    num_cols = [col for col in num_cols if col not in num_but_cat]\n",
        "\n",
        "    # print(f\"Observations: {dataframe.shape[0]}\")\n",
        "    # print(f\"Variables: {dataframe.shape[1]}\")\n",
        "    # print(f'cat_cols: {len(cat_cols)}')\n",
        "    # print(f'num_cols: {len(num_cols)}')\n",
        "    # print(f'cat_but_car: {len(cat_but_car)}')\n",
        "    # print(f'num_but_cat: {len(num_but_cat)}')\n",
        "    return cat_cols, num_cols, cat_but_car"
      ],
      "metadata": {
        "id": "drxOCtVBG5My"
      },
      "execution_count": null,
      "outputs": []
    },
    {
      "cell_type": "markdown",
      "source": [
        "kategorik, sayısal ve kategorik gibi gözüken kardinal değişkenleri verir."
      ],
      "metadata": {
        "id": "z06dyvsWS6dz"
      }
    },
    {
      "cell_type": "code",
      "source": [
        "from google.colab import drive\n",
        "drive.mount(\"/content/gdrive\")"
      ],
      "metadata": {
        "colab": {
          "base_uri": "https://localhost:8080/"
        },
        "id": "7DW2rP63G9Uy",
        "outputId": "8ae3f970-c6e1-4669-a437-f0cef726a30c"
      },
      "execution_count": null,
      "outputs": [
        {
          "output_type": "stream",
          "name": "stdout",
          "text": [
            "Drive already mounted at /content/gdrive; to attempt to forcibly remount, call drive.mount(\"/content/gdrive\", force_remount=True).\n"
          ]
        }
      ]
    },
    {
      "cell_type": "code",
      "source": [
        "df = pd.read_csv(\"/content/gdrive/My Drive/machine_learning/diabetes.csv\")\n",
        "df.head()"
      ],
      "metadata": {
        "colab": {
          "base_uri": "https://localhost:8080/",
          "height": 206
        },
        "id": "Q_u0TMm2Ljpf",
        "outputId": "16285dbd-abdf-4c23-a8f6-1583cb7506f6"
      },
      "execution_count": null,
      "outputs": [
        {
          "output_type": "execute_result",
          "data": {
            "text/plain": [
              "   Pregnancies  Glucose  BloodPressure  SkinThickness  Insulin   BMI  DiabetesPedigreeFunction  Age  Outcome\n",
              "0            6      148             72             35        0  33.6                     0.627   50        1\n",
              "1            1       85             66             29        0  26.6                     0.351   31        0\n",
              "2            8      183             64              0        0  23.3                     0.672   32        1\n",
              "3            1       89             66             23       94  28.1                     0.167   21        0\n",
              "4            0      137             40             35      168  43.1                     2.288   33        1"
            ],
            "text/html": [
              "\n",
              "  <div id=\"df-88035d1f-e628-4879-af4d-52e1724f6643\">\n",
              "    <div class=\"colab-df-container\">\n",
              "      <div>\n",
              "<style scoped>\n",
              "    .dataframe tbody tr th:only-of-type {\n",
              "        vertical-align: middle;\n",
              "    }\n",
              "\n",
              "    .dataframe tbody tr th {\n",
              "        vertical-align: top;\n",
              "    }\n",
              "\n",
              "    .dataframe thead th {\n",
              "        text-align: right;\n",
              "    }\n",
              "</style>\n",
              "<table border=\"1\" class=\"dataframe\">\n",
              "  <thead>\n",
              "    <tr style=\"text-align: right;\">\n",
              "      <th></th>\n",
              "      <th>Pregnancies</th>\n",
              "      <th>Glucose</th>\n",
              "      <th>BloodPressure</th>\n",
              "      <th>SkinThickness</th>\n",
              "      <th>Insulin</th>\n",
              "      <th>BMI</th>\n",
              "      <th>DiabetesPedigreeFunction</th>\n",
              "      <th>Age</th>\n",
              "      <th>Outcome</th>\n",
              "    </tr>\n",
              "  </thead>\n",
              "  <tbody>\n",
              "    <tr>\n",
              "      <th>0</th>\n",
              "      <td>6</td>\n",
              "      <td>148</td>\n",
              "      <td>72</td>\n",
              "      <td>35</td>\n",
              "      <td>0</td>\n",
              "      <td>33.6</td>\n",
              "      <td>0.627</td>\n",
              "      <td>50</td>\n",
              "      <td>1</td>\n",
              "    </tr>\n",
              "    <tr>\n",
              "      <th>1</th>\n",
              "      <td>1</td>\n",
              "      <td>85</td>\n",
              "      <td>66</td>\n",
              "      <td>29</td>\n",
              "      <td>0</td>\n",
              "      <td>26.6</td>\n",
              "      <td>0.351</td>\n",
              "      <td>31</td>\n",
              "      <td>0</td>\n",
              "    </tr>\n",
              "    <tr>\n",
              "      <th>2</th>\n",
              "      <td>8</td>\n",
              "      <td>183</td>\n",
              "      <td>64</td>\n",
              "      <td>0</td>\n",
              "      <td>0</td>\n",
              "      <td>23.3</td>\n",
              "      <td>0.672</td>\n",
              "      <td>32</td>\n",
              "      <td>1</td>\n",
              "    </tr>\n",
              "    <tr>\n",
              "      <th>3</th>\n",
              "      <td>1</td>\n",
              "      <td>89</td>\n",
              "      <td>66</td>\n",
              "      <td>23</td>\n",
              "      <td>94</td>\n",
              "      <td>28.1</td>\n",
              "      <td>0.167</td>\n",
              "      <td>21</td>\n",
              "      <td>0</td>\n",
              "    </tr>\n",
              "    <tr>\n",
              "      <th>4</th>\n",
              "      <td>0</td>\n",
              "      <td>137</td>\n",
              "      <td>40</td>\n",
              "      <td>35</td>\n",
              "      <td>168</td>\n",
              "      <td>43.1</td>\n",
              "      <td>2.288</td>\n",
              "      <td>33</td>\n",
              "      <td>1</td>\n",
              "    </tr>\n",
              "  </tbody>\n",
              "</table>\n",
              "</div>\n",
              "      <button class=\"colab-df-convert\" onclick=\"convertToInteractive('df-88035d1f-e628-4879-af4d-52e1724f6643')\"\n",
              "              title=\"Convert this dataframe to an interactive table.\"\n",
              "              style=\"display:none;\">\n",
              "        \n",
              "  <svg xmlns=\"http://www.w3.org/2000/svg\" height=\"24px\"viewBox=\"0 0 24 24\"\n",
              "       width=\"24px\">\n",
              "    <path d=\"M0 0h24v24H0V0z\" fill=\"none\"/>\n",
              "    <path d=\"M18.56 5.44l.94 2.06.94-2.06 2.06-.94-2.06-.94-.94-2.06-.94 2.06-2.06.94zm-11 1L8.5 8.5l.94-2.06 2.06-.94-2.06-.94L8.5 2.5l-.94 2.06-2.06.94zm10 10l.94 2.06.94-2.06 2.06-.94-2.06-.94-.94-2.06-.94 2.06-2.06.94z\"/><path d=\"M17.41 7.96l-1.37-1.37c-.4-.4-.92-.59-1.43-.59-.52 0-1.04.2-1.43.59L10.3 9.45l-7.72 7.72c-.78.78-.78 2.05 0 2.83L4 21.41c.39.39.9.59 1.41.59.51 0 1.02-.2 1.41-.59l7.78-7.78 2.81-2.81c.8-.78.8-2.07 0-2.86zM5.41 20L4 18.59l7.72-7.72 1.47 1.35L5.41 20z\"/>\n",
              "  </svg>\n",
              "      </button>\n",
              "      \n",
              "  <style>\n",
              "    .colab-df-container {\n",
              "      display:flex;\n",
              "      flex-wrap:wrap;\n",
              "      gap: 12px;\n",
              "    }\n",
              "\n",
              "    .colab-df-convert {\n",
              "      background-color: #E8F0FE;\n",
              "      border: none;\n",
              "      border-radius: 50%;\n",
              "      cursor: pointer;\n",
              "      display: none;\n",
              "      fill: #1967D2;\n",
              "      height: 32px;\n",
              "      padding: 0 0 0 0;\n",
              "      width: 32px;\n",
              "    }\n",
              "\n",
              "    .colab-df-convert:hover {\n",
              "      background-color: #E2EBFA;\n",
              "      box-shadow: 0px 1px 2px rgba(60, 64, 67, 0.3), 0px 1px 3px 1px rgba(60, 64, 67, 0.15);\n",
              "      fill: #174EA6;\n",
              "    }\n",
              "\n",
              "    [theme=dark] .colab-df-convert {\n",
              "      background-color: #3B4455;\n",
              "      fill: #D2E3FC;\n",
              "    }\n",
              "\n",
              "    [theme=dark] .colab-df-convert:hover {\n",
              "      background-color: #434B5C;\n",
              "      box-shadow: 0px 1px 3px 1px rgba(0, 0, 0, 0.15);\n",
              "      filter: drop-shadow(0px 1px 2px rgba(0, 0, 0, 0.3));\n",
              "      fill: #FFFFFF;\n",
              "    }\n",
              "  </style>\n",
              "\n",
              "      <script>\n",
              "        const buttonEl =\n",
              "          document.querySelector('#df-88035d1f-e628-4879-af4d-52e1724f6643 button.colab-df-convert');\n",
              "        buttonEl.style.display =\n",
              "          google.colab.kernel.accessAllowed ? 'block' : 'none';\n",
              "\n",
              "        async function convertToInteractive(key) {\n",
              "          const element = document.querySelector('#df-88035d1f-e628-4879-af4d-52e1724f6643');\n",
              "          const dataTable =\n",
              "            await google.colab.kernel.invokeFunction('convertToInteractive',\n",
              "                                                     [key], {});\n",
              "          if (!dataTable) return;\n",
              "\n",
              "          const docLinkHtml = 'Like what you see? Visit the ' +\n",
              "            '<a target=\"_blank\" href=https://colab.research.google.com/notebooks/data_table.ipynb>data table notebook</a>'\n",
              "            + ' to learn more about interactive tables.';\n",
              "          element.innerHTML = '';\n",
              "          dataTable['output_type'] = 'display_data';\n",
              "          await google.colab.output.renderOutput(dataTable, element);\n",
              "          const docLink = document.createElement('div');\n",
              "          docLink.innerHTML = docLinkHtml;\n",
              "          element.appendChild(docLink);\n",
              "        }\n",
              "      </script>\n",
              "    </div>\n",
              "  </div>\n",
              "  "
            ]
          },
          "metadata": {},
          "execution_count": 14
        }
      ]
    },
    {
      "cell_type": "code",
      "source": [
        "check_df(df)"
      ],
      "metadata": {
        "colab": {
          "base_uri": "https://localhost:8080/"
        },
        "id": "XRz_cV4KG8lJ",
        "outputId": "6be252a1-8c52-41d6-d9e8-c480df076ed3"
      },
      "execution_count": null,
      "outputs": [
        {
          "output_type": "stream",
          "name": "stdout",
          "text": [
            "##################### Shape #####################\n",
            "(768, 9)\n",
            "##################### Types #####################\n",
            "Pregnancies                   int64\n",
            "Glucose                       int64\n",
            "BloodPressure                 int64\n",
            "SkinThickness                 int64\n",
            "Insulin                       int64\n",
            "BMI                         float64\n",
            "DiabetesPedigreeFunction    float64\n",
            "Age                           int64\n",
            "Outcome                       int64\n",
            "dtype: object\n",
            "##################### Head #####################\n",
            "   Pregnancies  Glucose  BloodPressure  SkinThickness  Insulin   BMI  DiabetesPedigreeFunction  Age  Outcome\n",
            "0            6      148             72             35        0  33.6                     0.627   50        1\n",
            "1            1       85             66             29        0  26.6                     0.351   31        0\n",
            "2            8      183             64              0        0  23.3                     0.672   32        1\n",
            "3            1       89             66             23       94  28.1                     0.167   21        0\n",
            "4            0      137             40             35      168  43.1                     2.288   33        1\n",
            "##################### Tail #####################\n",
            "     Pregnancies  Glucose  BloodPressure  SkinThickness  Insulin   BMI  DiabetesPedigreeFunction  Age  Outcome\n",
            "763           10      101             76             48      180  32.9                     0.171   63        0\n",
            "764            2      122             70             27        0  36.8                     0.340   27        0\n",
            "765            5      121             72             23      112  26.2                     0.245   30        0\n",
            "766            1      126             60              0        0  30.1                     0.349   47        1\n",
            "767            1       93             70             31        0  30.4                     0.315   23        0\n",
            "##################### NA #####################\n",
            "Pregnancies                 0\n",
            "Glucose                     0\n",
            "BloodPressure               0\n",
            "SkinThickness               0\n",
            "Insulin                     0\n",
            "BMI                         0\n",
            "DiabetesPedigreeFunction    0\n",
            "Age                         0\n",
            "Outcome                     0\n",
            "dtype: int64\n",
            "##################### Quantiles #####################\n",
            "                            0.00      0.05      0.50       0.95       0.99    1.00\n",
            "Pregnancies                0.000   0.00000    3.0000   10.00000   13.00000   17.00\n",
            "Glucose                    0.000  79.00000  117.0000  181.00000  196.00000  199.00\n",
            "BloodPressure              0.000  38.70000   72.0000   90.00000  106.00000  122.00\n",
            "SkinThickness              0.000   0.00000   23.0000   44.00000   51.33000   99.00\n",
            "Insulin                    0.000   0.00000   30.5000  293.00000  519.90000  846.00\n",
            "BMI                        0.000  21.80000   32.0000   44.39500   50.75900   67.10\n",
            "DiabetesPedigreeFunction   0.078   0.14035    0.3725    1.13285    1.69833    2.42\n",
            "Age                       21.000  21.00000   29.0000   58.00000   67.00000   81.00\n",
            "Outcome                    0.000   0.00000    0.0000    1.00000    1.00000    1.00\n"
          ]
        }
      ]
    },
    {
      "cell_type": "markdown",
      "source": [
        "bazı bilgiler iş bilgisine göre sorun yaratabilir mesela bu veri setinde kan basıncı 0 olamaz ama 0 yazılmıştır. Muhtemelen NA olan değerler 0 ile değiştirilmiş. Bu kurs kapsamında bu incelenmemiştir ama sen ayrıca detayına bakabilirsin."
      ],
      "metadata": {
        "id": "alsHia8_TYM2"
      }
    },
    {
      "cell_type": "code",
      "source": [
        "# Değişken türlerinin ayrıştırılması\n",
        "cat_cols, num_cols, cat_but_car = grab_col_names(df, cat_th=5, car_th=20)\n",
        "\n",
        "# Kategorik değişkenlerin incelenmesi\n",
        "for col in cat_cols:\n",
        "    cat_summary(df, col)\n",
        "\n",
        "# Sayısal değişkenlerin incelenmesi\n",
        "print(df[num_cols].describe().T)\n",
        "\n",
        "# for col in num_cols:\n",
        "#     num_summary(df, col, plot=True)\n",
        "\n",
        "# Sayısal değişkenkerin birbirleri ile korelasyonu\n",
        "correlation_matrix(df, num_cols)"
      ],
      "metadata": {
        "colab": {
          "base_uri": "https://localhost:8080/",
          "height": 833
        },
        "id": "Of5J2ybMHALj",
        "outputId": "00866c13-4988-4919-dda9-fa308ee12481"
      },
      "execution_count": null,
      "outputs": [
        {
          "output_type": "stream",
          "name": "stdout",
          "text": [
            "   Outcome      Ratio\n",
            "0      500  65.104167\n",
            "1      268  34.895833\n",
            "##########################################\n",
            "                          count        mean         std     min       25%       50%        75%     max\n",
            "Pregnancies               768.0    3.845052    3.369578   0.000   1.00000    3.0000    6.00000   17.00\n",
            "Glucose                   768.0  120.894531   31.972618   0.000  99.00000  117.0000  140.25000  199.00\n",
            "BloodPressure             768.0   69.105469   19.355807   0.000  62.00000   72.0000   80.00000  122.00\n",
            "SkinThickness             768.0   20.536458   15.952218   0.000   0.00000   23.0000   32.00000   99.00\n",
            "Insulin                   768.0   79.799479  115.244002   0.000   0.00000   30.5000  127.25000  846.00\n",
            "BMI                       768.0   31.992578    7.884160   0.000  27.30000   32.0000   36.60000   67.10\n",
            "DiabetesPedigreeFunction  768.0    0.471876    0.331329   0.078   0.24375    0.3725    0.62625    2.42\n",
            "Age                       768.0   33.240885   11.760232  21.000  24.00000   29.0000   41.00000   81.00\n"
          ]
        },
        {
          "output_type": "display_data",
          "data": {
            "text/plain": [
              "<Figure size 720x576 with 2 Axes>"
            ],
            "image/png": "[encoded data removed]"
          },
          "metadata": {
            "needs_background": "light"
          }
        }
      ]
    },
    {
      "cell_type": "code",
      "source": [
        "# Target ile sayısal değişkenlerin incelemesi\n",
        "for col in num_cols:\n",
        "    target_summary_with_num(df, \"Outcome\", col)"
      ],
      "metadata": {
        "colab": {
          "base_uri": "https://localhost:8080/"
        },
        "id": "KebS2pIMUXPc",
        "outputId": "bfd439fd-a7ad-4479-aea9-02191b49fe3c"
      },
      "execution_count": null,
      "outputs": [
        {
          "output_type": "stream",
          "name": "stdout",
          "text": [
            "         Pregnancies\n",
            "Outcome             \n",
            "0           3.298000\n",
            "1           4.865672\n",
            "\n",
            "\n",
            "            Glucose\n",
            "Outcome            \n",
            "0        109.980000\n",
            "1        141.257463\n",
            "\n",
            "\n",
            "         BloodPressure\n",
            "Outcome               \n",
            "0            68.184000\n",
            "1            70.824627\n",
            "\n",
            "\n",
            "         SkinThickness\n",
            "Outcome               \n",
            "0            19.664000\n",
            "1            22.164179\n",
            "\n",
            "\n",
            "            Insulin\n",
            "Outcome            \n",
            "0         68.792000\n",
            "1        100.335821\n",
            "\n",
            "\n",
            "               BMI\n",
            "Outcome           \n",
            "0        30.304200\n",
            "1        35.142537\n",
            "\n",
            "\n",
            "         DiabetesPedigreeFunction\n",
            "Outcome                          \n",
            "0                        0.429734\n",
            "1                        0.550500\n",
            "\n",
            "\n",
            "               Age\n",
            "Outcome           \n",
            "0        31.190000\n",
            "1        37.067164\n",
            "\n",
            "\n"
          ]
        }
      ]
    },
    {
      "cell_type": "markdown",
      "source": [
        "### 2. Data Preprocessing & Feature Engineering"
      ],
      "metadata": {
        "id": "j8wey0rgHCBQ"
      }
    },
    {
      "cell_type": "code",
      "source": [
        "def outlier_thresholds(dataframe, col_name, q1=0.25, q3=0.75):\n",
        "    quartile1 = dataframe[col_name].quantile(q1)\n",
        "    quartile3 = dataframe[col_name].quantile(q3)\n",
        "    interquantile_range = quartile3 - quartile1\n",
        "    up_limit = quartile3 + 1.5 * interquantile_range\n",
        "    low_limit = quartile1 - 1.5 * interquantile_range\n",
        "    return low_limit, up_limit"
      ],
      "metadata": {
        "id": "LA2_ydgRHDBL"
      },
      "execution_count": null,
      "outputs": []
    },
    {
      "cell_type": "markdown",
      "source": [
        "fonksiyon görevi, kendisine verilen değişkeni alt ve üst eşik değerlerini hesaplamaktır."
      ],
      "metadata": {
        "id": "0cuoLiq4Vjh-"
      }
    },
    {
      "cell_type": "code",
      "source": [
        "def replace_with_thresholds(dataframe, variable):\n",
        "    low_limit, up_limit = outlier_thresholds(dataframe, variable)\n",
        "    dataframe.loc[(dataframe[variable] < low_limit), variable] = low_limit\n",
        "    dataframe.loc[(dataframe[variable] > up_limit), variable] = up_limit\n"
      ],
      "metadata": {
        "id": "I5aSJ79bHHaR"
      },
      "execution_count": null,
      "outputs": []
    },
    {
      "cell_type": "code",
      "source": [
        "def check_outlier(dataframe, col_name, q1=0.25, q3=0.75):\n",
        "    low_limit, up_limit = outlier_thresholds(dataframe, col_name, q1, q3)\n",
        "    if dataframe[(dataframe[col_name] > up_limit) | (dataframe[col_name] < low_limit)].any(axis=None):\n",
        "        return True\n",
        "    else:\n",
        "        return False"
      ],
      "metadata": {
        "id": "8dhiGTXCHI23"
      },
      "execution_count": null,
      "outputs": []
    },
    {
      "cell_type": "code",
      "source": [
        "def one_hot_encoder(dataframe, categorical_cols, drop_first=False):\n",
        "    dataframe = pd.get_dummies(dataframe, columns=categorical_cols, drop_first=drop_first)\n",
        "    return dataframe\n",
        "# drop_first=False true yaparsan label encoder yapar."
      ],
      "metadata": {
        "id": "gFokI_v3HL9V"
      },
      "execution_count": null,
      "outputs": []
    },
    {
      "cell_type": "code",
      "source": [
        "df.head()"
      ],
      "metadata": {
        "colab": {
          "base_uri": "https://localhost:8080/",
          "height": 206
        },
        "id": "2bVZxRSAHL__",
        "outputId": "0923ced4-ffd6-40c9-d63d-40e31388e323"
      },
      "execution_count": null,
      "outputs": [
        {
          "output_type": "execute_result",
          "data": {
            "text/plain": [
              "   Pregnancies  Glucose  BloodPressure  SkinThickness  Insulin   BMI  DiabetesPedigreeFunction  Age  Outcome\n",
              "0            6      148             72             35        0  33.6                     0.627   50        1\n",
              "1            1       85             66             29        0  26.6                     0.351   31        0\n",
              "2            8      183             64              0        0  23.3                     0.672   32        1\n",
              "3            1       89             66             23       94  28.1                     0.167   21        0\n",
              "4            0      137             40             35      168  43.1                     2.288   33        1"
            ],
            "text/html": [
              "\n",
              "  <div id=\"df-47a73a35-78ff-482e-9fef-20ae2bc8107e\">\n",
              "    <div class=\"colab-df-container\">\n",
              "      <div>\n",
              "<style scoped>\n",
              "    .dataframe tbody tr th:only-of-type {\n",
              "        vertical-align: middle;\n",
              "    }\n",
              "\n",
              "    .dataframe tbody tr th {\n",
              "        vertical-align: top;\n",
              "    }\n",
              "\n",
              "    .dataframe thead th {\n",
              "        text-align: right;\n",
              "    }\n",
              "</style>\n",
              "<table border=\"1\" class=\"dataframe\">\n",
              "  <thead>\n",
              "    <tr style=\"text-align: right;\">\n",
              "      <th></th>\n",
              "      <th>Pregnancies</th>\n",
              "      <th>Glucose</th>\n",
              "      <th>BloodPressure</th>\n",
              "      <th>SkinThickness</th>\n",
              "      <th>Insulin</th>\n",
              "      <th>BMI</th>\n",
              "      <th>DiabetesPedigreeFunction</th>\n",
              "      <th>Age</th>\n",
              "      <th>Outcome</th>\n",
              "    </tr>\n",
              "  </thead>\n",
              "  <tbody>\n",
              "    <tr>\n",
              "      <th>0</th>\n",
              "      <td>6</td>\n",
              "      <td>148</td>\n",
              "      <td>72</td>\n",
              "      <td>35</td>\n",
              "      <td>0</td>\n",
              "      <td>33.6</td>\n",
              "      <td>0.627</td>\n",
              "      <td>50</td>\n",
              "      <td>1</td>\n",
              "    </tr>\n",
              "    <tr>\n",
              "      <th>1</th>\n",
              "      <td>1</td>\n",
              "      <td>85</td>\n",
              "      <td>66</td>\n",
              "      <td>29</td>\n",
              "      <td>0</td>\n",
              "      <td>26.6</td>\n",
              "      <td>0.351</td>\n",
              "      <td>31</td>\n",
              "      <td>0</td>\n",
              "    </tr>\n",
              "    <tr>\n",
              "      <th>2</th>\n",
              "      <td>8</td>\n",
              "      <td>183</td>\n",
              "      <td>64</td>\n",
              "      <td>0</td>\n",
              "      <td>0</td>\n",
              "      <td>23.3</td>\n",
              "      <td>0.672</td>\n",
              "      <td>32</td>\n",
              "      <td>1</td>\n",
              "    </tr>\n",
              "    <tr>\n",
              "      <th>3</th>\n",
              "      <td>1</td>\n",
              "      <td>89</td>\n",
              "      <td>66</td>\n",
              "      <td>23</td>\n",
              "      <td>94</td>\n",
              "      <td>28.1</td>\n",
              "      <td>0.167</td>\n",
              "      <td>21</td>\n",
              "      <td>0</td>\n",
              "    </tr>\n",
              "    <tr>\n",
              "      <th>4</th>\n",
              "      <td>0</td>\n",
              "      <td>137</td>\n",
              "      <td>40</td>\n",
              "      <td>35</td>\n",
              "      <td>168</td>\n",
              "      <td>43.1</td>\n",
              "      <td>2.288</td>\n",
              "      <td>33</td>\n",
              "      <td>1</td>\n",
              "    </tr>\n",
              "  </tbody>\n",
              "</table>\n",
              "</div>\n",
              "      <button class=\"colab-df-convert\" onclick=\"convertToInteractive('df-47a73a35-78ff-482e-9fef-20ae2bc8107e')\"\n",
              "              title=\"Convert this dataframe to an interactive table.\"\n",
              "              style=\"display:none;\">\n",
              "        \n",
              "  <svg xmlns=\"http://www.w3.org/2000/svg\" height=\"24px\"viewBox=\"0 0 24 24\"\n",
              "       width=\"24px\">\n",
              "    <path d=\"M0 0h24v24H0V0z\" fill=\"none\"/>\n",
              "    <path d=\"M18.56 5.44l.94 2.06.94-2.06 2.06-.94-2.06-.94-.94-2.06-.94 2.06-2.06.94zm-11 1L8.5 8.5l.94-2.06 2.06-.94-2.06-.94L8.5 2.5l-.94 2.06-2.06.94zm10 10l.94 2.06.94-2.06 2.06-.94-2.06-.94-.94-2.06-.94 2.06-2.06.94z\"/><path d=\"M17.41 7.96l-1.37-1.37c-.4-.4-.92-.59-1.43-.59-.52 0-1.04.2-1.43.59L10.3 9.45l-7.72 7.72c-.78.78-.78 2.05 0 2.83L4 21.41c.39.39.9.59 1.41.59.51 0 1.02-.2 1.41-.59l7.78-7.78 2.81-2.81c.8-.78.8-2.07 0-2.86zM5.41 20L4 18.59l7.72-7.72 1.47 1.35L5.41 20z\"/>\n",
              "  </svg>\n",
              "      </button>\n",
              "      \n",
              "  <style>\n",
              "    .colab-df-container {\n",
              "      display:flex;\n",
              "      flex-wrap:wrap;\n",
              "      gap: 12px;\n",
              "    }\n",
              "\n",
              "    .colab-df-convert {\n",
              "      background-color: #E8F0FE;\n",
              "      border: none;\n",
              "      border-radius: 50%;\n",
              "      cursor: pointer;\n",
              "      display: none;\n",
              "      fill: #1967D2;\n",
              "      height: 32px;\n",
              "      padding: 0 0 0 0;\n",
              "      width: 32px;\n",
              "    }\n",
              "\n",
              "    .colab-df-convert:hover {\n",
              "      background-color: #E2EBFA;\n",
              "      box-shadow: 0px 1px 2px rgba(60, 64, 67, 0.3), 0px 1px 3px 1px rgba(60, 64, 67, 0.15);\n",
              "      fill: #174EA6;\n",
              "    }\n",
              "\n",
              "    [theme=dark] .colab-df-convert {\n",
              "      background-color: #3B4455;\n",
              "      fill: #D2E3FC;\n",
              "    }\n",
              "\n",
              "    [theme=dark] .colab-df-convert:hover {\n",
              "      background-color: #434B5C;\n",
              "      box-shadow: 0px 1px 3px 1px rgba(0, 0, 0, 0.15);\n",
              "      filter: drop-shadow(0px 1px 2px rgba(0, 0, 0, 0.3));\n",
              "      fill: #FFFFFF;\n",
              "    }\n",
              "  </style>\n",
              "\n",
              "      <script>\n",
              "        const buttonEl =\n",
              "          document.querySelector('#df-47a73a35-78ff-482e-9fef-20ae2bc8107e button.colab-df-convert');\n",
              "        buttonEl.style.display =\n",
              "          google.colab.kernel.accessAllowed ? 'block' : 'none';\n",
              "\n",
              "        async function convertToInteractive(key) {\n",
              "          const element = document.querySelector('#df-47a73a35-78ff-482e-9fef-20ae2bc8107e');\n",
              "          const dataTable =\n",
              "            await google.colab.kernel.invokeFunction('convertToInteractive',\n",
              "                                                     [key], {});\n",
              "          if (!dataTable) return;\n",
              "\n",
              "          const docLinkHtml = 'Like what you see? Visit the ' +\n",
              "            '<a target=\"_blank\" href=https://colab.research.google.com/notebooks/data_table.ipynb>data table notebook</a>'\n",
              "            + ' to learn more about interactive tables.';\n",
              "          element.innerHTML = '';\n",
              "          dataTable['output_type'] = 'display_data';\n",
              "          await google.colab.output.renderOutput(dataTable, element);\n",
              "          const docLink = document.createElement('div');\n",
              "          docLink.innerHTML = docLinkHtml;\n",
              "          element.appendChild(docLink);\n",
              "        }\n",
              "      </script>\n",
              "    </div>\n",
              "  </div>\n",
              "  "
            ]
          },
          "metadata": {},
          "execution_count": 22
        }
      ]
    },
    {
      "cell_type": "code",
      "source": [
        "# Değişken isimleri büyütmek\n",
        "df.columns = [col.upper() for col in df.columns]"
      ],
      "metadata": {
        "id": "GrKTQJgqHMCn"
      },
      "execution_count": null,
      "outputs": []
    },
    {
      "cell_type": "code",
      "source": [
        "# Glucose\n",
        "df['NEW_GLUCOSE_CAT'] = pd.cut(x=df['GLUCOSE'], bins=[-1, 139, 200], labels=[\"normal\", \"prediabetes\"])"
      ],
      "metadata": {
        "id": "PhvKijGGHOxA"
      },
      "execution_count": null,
      "outputs": []
    },
    {
      "cell_type": "markdown",
      "source": [
        "Burada dikkat edilmesi gereken nokta, Glucose verisini ağaç yöntemi uygulandığında en optimum hangi değerden ayrılır sorusunu bulmak için oldukça zengin bir içeriğe sahip fakat biz yukarıda 2 sınıflı kategorik bir değişken haline getirdik ve bu oluşturulan yeni değişken tam olarak glucose verisinin tüm bilgilerini içermiyor. Yeni bir değişken oluşturdum eskisini silmeli miyim sorusuna yanıtta hayırdır. Belki yeni değişken bizim için önemli olmayacak silme konusuna sonradan karar vermelisin."
      ],
      "metadata": {
        "id": "ZKisXySuYCqF"
      }
    },
    {
      "cell_type": "code",
      "source": [
        "# Age\n",
        "df.loc[(df['AGE'] < 35), \"NEW_AGE_CAT\"] = 'young'\n",
        "df.loc[(df['AGE'] >= 35) & (df['AGE'] <= 55), \"NEW_AGE_CAT\"] = 'middleage'\n",
        "df.loc[(df['AGE'] > 55), \"NEW_AGE_CAT\"] = 'old'"
      ],
      "metadata": {
        "id": "dHAgwr2YHQJh"
      },
      "execution_count": null,
      "outputs": []
    },
    {
      "cell_type": "code",
      "source": [
        "# BMI\n",
        "df['NEW_BMI_RANGE'] = pd.cut(x=df['BMI'], bins=[-1, 18.5, 24.9, 29.9, 100],\n",
        "                             labels=[\"underweight\", \"healty\", \"overweight\", \"obese\"])\n",
        "\n",
        "#bins -1 den başlatmak -1 dahil değil 0 dahil sonrası demek sıfırı sürecin içine katmak için bu şekilde yazılmıştır."
      ],
      "metadata": {
        "id": "iMz64h-GHQMI"
      },
      "execution_count": null,
      "outputs": []
    },
    {
      "cell_type": "code",
      "source": [
        "# BloodPressure\n",
        "df['NEW_BLOODPRESSURE'] = pd.cut(x=df['BLOODPRESSURE'], bins=[-1, 79, 89, 123], labels=[\"normal\", \"hs1\", \"hs2\"])"
      ],
      "metadata": {
        "id": "VIXITyJyHQO4"
      },
      "execution_count": null,
      "outputs": []
    },
    {
      "cell_type": "code",
      "source": [
        "check_df(df)"
      ],
      "metadata": {
        "colab": {
          "base_uri": "https://localhost:8080/"
        },
        "id": "vLgqUlOPHQRe",
        "outputId": "59232c30-f365-4dfa-a748-f78a03cf26f7"
      },
      "execution_count": null,
      "outputs": [
        {
          "output_type": "stream",
          "name": "stdout",
          "text": [
            "##################### Shape #####################\n",
            "(768, 13)\n",
            "##################### Types #####################\n",
            "PREGNANCIES                    int64\n",
            "GLUCOSE                        int64\n",
            "BLOODPRESSURE                  int64\n",
            "SKINTHICKNESS                  int64\n",
            "INSULIN                        int64\n",
            "BMI                          float64\n",
            "DIABETESPEDIGREEFUNCTION     float64\n",
            "AGE                            int64\n",
            "OUTCOME                        int64\n",
            "NEW_GLUCOSE_CAT             category\n",
            "NEW_AGE_CAT                   object\n",
            "NEW_BMI_RANGE               category\n",
            "NEW_BLOODPRESSURE           category\n",
            "dtype: object\n",
            "##################### Head #####################\n",
            "   PREGNANCIES  GLUCOSE  BLOODPRESSURE  SKINTHICKNESS  INSULIN   BMI  DIABETESPEDIGREEFUNCTION  AGE  OUTCOME NEW_GLUCOSE_CAT NEW_AGE_CAT NEW_BMI_RANGE NEW_BLOODPRESSURE\n",
            "0            6      148             72             35        0  33.6                     0.627   50        1     prediabetes   middleage         obese            normal\n",
            "1            1       85             66             29        0  26.6                     0.351   31        0          normal       young    overweight            normal\n",
            "2            8      183             64              0        0  23.3                     0.672   32        1     prediabetes       young        healty            normal\n",
            "3            1       89             66             23       94  28.1                     0.167   21        0          normal       young    overweight            normal\n",
            "4            0      137             40             35      168  43.1                     2.288   33        1          normal       young         obese            normal\n",
            "##################### Tail #####################\n",
            "     PREGNANCIES  GLUCOSE  BLOODPRESSURE  SKINTHICKNESS  INSULIN   BMI  DIABETESPEDIGREEFUNCTION  AGE  OUTCOME NEW_GLUCOSE_CAT NEW_AGE_CAT NEW_BMI_RANGE NEW_BLOODPRESSURE\n",
            "763           10      101             76             48      180  32.9                     0.171   63        0          normal         old         obese            normal\n",
            "764            2      122             70             27        0  36.8                     0.340   27        0          normal       young         obese            normal\n",
            "765            5      121             72             23      112  26.2                     0.245   30        0          normal       young    overweight            normal\n",
            "766            1      126             60              0        0  30.1                     0.349   47        1          normal   middleage         obese            normal\n",
            "767            1       93             70             31        0  30.4                     0.315   23        0          normal       young         obese            normal\n",
            "##################### NA #####################\n",
            "PREGNANCIES                 0\n",
            "GLUCOSE                     0\n",
            "BLOODPRESSURE               0\n",
            "SKINTHICKNESS               0\n",
            "INSULIN                     0\n",
            "BMI                         0\n",
            "DIABETESPEDIGREEFUNCTION    0\n",
            "AGE                         0\n",
            "OUTCOME                     0\n",
            "NEW_GLUCOSE_CAT             0\n",
            "NEW_AGE_CAT                 0\n",
            "NEW_BMI_RANGE               0\n",
            "NEW_BLOODPRESSURE           0\n",
            "dtype: int64\n",
            "##################### Quantiles #####################\n",
            "                            0.00      0.05      0.50       0.95       0.99    1.00\n",
            "PREGNANCIES                0.000   0.00000    3.0000   10.00000   13.00000   17.00\n",
            "GLUCOSE                    0.000  79.00000  117.0000  181.00000  196.00000  199.00\n",
            "BLOODPRESSURE              0.000  38.70000   72.0000   90.00000  106.00000  122.00\n",
            "SKINTHICKNESS              0.000   0.00000   23.0000   44.00000   51.33000   99.00\n",
            "INSULIN                    0.000   0.00000   30.5000  293.00000  519.90000  846.00\n",
            "BMI                        0.000  21.80000   32.0000   44.39500   50.75900   67.10\n",
            "DIABETESPEDIGREEFUNCTION   0.078   0.14035    0.3725    1.13285    1.69833    2.42\n",
            "AGE                       21.000  21.00000   29.0000   58.00000   67.00000   81.00\n",
            "OUTCOME                    0.000   0.00000    0.0000    1.00000    1.00000    1.00\n"
          ]
        }
      ]
    },
    {
      "cell_type": "code",
      "source": [
        "cat_cols, num_cols, cat_but_car = grab_col_names(df, cat_th=5, car_th=20)"
      ],
      "metadata": {
        "id": "k6qW3tUmHWzN"
      },
      "execution_count": null,
      "outputs": []
    },
    {
      "cell_type": "code",
      "source": [
        "for col in cat_cols:\n",
        "    cat_summary(df, col)"
      ],
      "metadata": {
        "colab": {
          "base_uri": "https://localhost:8080/"
        },
        "id": "k14X7J8uHW11",
        "outputId": "76dd15c4-b746-4ac4-c636-5a14324f43a9"
      },
      "execution_count": null,
      "outputs": [
        {
          "output_type": "stream",
          "name": "stdout",
          "text": [
            "           NEW_AGE_CAT      Ratio\n",
            "young              488  63.541667\n",
            "middleage          230  29.947917\n",
            "old                 50   6.510417\n",
            "##########################################\n",
            "   OUTCOME      Ratio\n",
            "0      500  65.104167\n",
            "1      268  34.895833\n",
            "##########################################\n",
            "             NEW_GLUCOSE_CAT      Ratio\n",
            "normal                   571  74.348958\n",
            "prediabetes              197  25.651042\n",
            "##########################################\n",
            "             NEW_BMI_RANGE      Ratio\n",
            "obese                  472  61.458333\n",
            "overweight             179  23.307292\n",
            "healty                 102  13.281250\n",
            "underweight             15   1.953125\n",
            "##########################################\n",
            "        NEW_BLOODPRESSURE      Ratio\n",
            "normal                563  73.307292\n",
            "hs1                   145  18.880208\n",
            "hs2                    60   7.812500\n",
            "##########################################\n"
          ]
        }
      ]
    },
    {
      "cell_type": "code",
      "source": [
        "for col in cat_cols:\n",
        "    target_summary_with_cat(df, \"OUTCOME\", col)"
      ],
      "metadata": {
        "colab": {
          "base_uri": "https://localhost:8080/"
        },
        "id": "1Aj9f8CfHW4M",
        "outputId": "a089b204-f70c-4250-ff76-4881716ba4a4"
      },
      "execution_count": null,
      "outputs": [
        {
          "output_type": "stream",
          "name": "stdout",
          "text": [
            "             TARGET_MEAN\n",
            "NEW_AGE_CAT             \n",
            "middleage       0.543478\n",
            "old             0.340000\n",
            "young           0.258197\n",
            "\n",
            "\n",
            "         TARGET_MEAN\n",
            "OUTCOME             \n",
            "0                0.0\n",
            "1                1.0\n",
            "\n",
            "\n",
            "                 TARGET_MEAN\n",
            "NEW_GLUCOSE_CAT             \n",
            "normal              0.232925\n",
            "prediabetes         0.685279\n",
            "\n",
            "\n",
            "               TARGET_MEAN\n",
            "NEW_BMI_RANGE             \n",
            "underweight       0.133333\n",
            "healty            0.068627\n",
            "overweight        0.223464\n",
            "obese             0.463983\n",
            "\n",
            "\n",
            "                   TARGET_MEAN\n",
            "NEW_BLOODPRESSURE             \n",
            "normal                0.316163\n",
            "hs1                   0.420690\n",
            "hs2                   0.483333\n",
            "\n",
            "\n"
          ]
        }
      ]
    },
    {
      "cell_type": "code",
      "source": [
        "cat_cols = [col for col in cat_cols if \"OUTCOME\" not in col]"
      ],
      "metadata": {
        "id": "Q2V6nUcEHW6k"
      },
      "execution_count": null,
      "outputs": []
    },
    {
      "cell_type": "code",
      "source": [
        "df = one_hot_encoder(df, cat_cols, drop_first=True)"
      ],
      "metadata": {
        "id": "_uEQHA2CHW9J"
      },
      "execution_count": null,
      "outputs": []
    },
    {
      "cell_type": "code",
      "source": [
        "check_df(df)"
      ],
      "metadata": {
        "colab": {
          "base_uri": "https://localhost:8080/"
        },
        "id": "tYZLGy0xHeUR",
        "outputId": "450e50be-bc4d-44b5-9966-baa01dbc2c8f"
      },
      "execution_count": null,
      "outputs": [
        {
          "output_type": "stream",
          "name": "stdout",
          "text": [
            "##################### Shape #####################\n",
            "(768, 17)\n",
            "##################### Types #####################\n",
            "PREGNANCIES                      int64\n",
            "GLUCOSE                          int64\n",
            "BLOODPRESSURE                    int64\n",
            "SKINTHICKNESS                    int64\n",
            "INSULIN                          int64\n",
            "BMI                            float64\n",
            "DIABETESPEDIGREEFUNCTION       float64\n",
            "AGE                              int64\n",
            "OUTCOME                          int64\n",
            "NEW_AGE_CAT_old                  uint8\n",
            "NEW_AGE_CAT_young                uint8\n",
            "NEW_GLUCOSE_CAT_prediabetes      uint8\n",
            "NEW_BMI_RANGE_healty             uint8\n",
            "NEW_BMI_RANGE_overweight         uint8\n",
            "NEW_BMI_RANGE_obese              uint8\n",
            "NEW_BLOODPRESSURE_hs1            uint8\n",
            "NEW_BLOODPRESSURE_hs2            uint8\n",
            "dtype: object\n",
            "##################### Head #####################\n",
            "   PREGNANCIES  GLUCOSE  BLOODPRESSURE  SKINTHICKNESS  INSULIN   BMI  DIABETESPEDIGREEFUNCTION  AGE  OUTCOME  NEW_AGE_CAT_old  NEW_AGE_CAT_young  NEW_GLUCOSE_CAT_prediabetes  NEW_BMI_RANGE_healty  NEW_BMI_RANGE_overweight  NEW_BMI_RANGE_obese  NEW_BLOODPRESSURE_hs1  NEW_BLOODPRESSURE_hs2\n",
            "0            6      148             72             35        0  33.6                     0.627   50        1                0                  0                            1                     0                         0                    1                      0                      0\n",
            "1            1       85             66             29        0  26.6                     0.351   31        0                0                  1                            0                     0                         1                    0                      0                      0\n",
            "2            8      183             64              0        0  23.3                     0.672   32        1                0                  1                            1                     1                         0                    0                      0                      0\n",
            "3            1       89             66             23       94  28.1                     0.167   21        0                0                  1                            0                     0                         1                    0                      0                      0\n",
            "4            0      137             40             35      168  43.1                     2.288   33        1                0                  1                            0                     0                         0                    1                      0                      0\n",
            "##################### Tail #####################\n",
            "     PREGNANCIES  GLUCOSE  BLOODPRESSURE  SKINTHICKNESS  INSULIN   BMI  DIABETESPEDIGREEFUNCTION  AGE  OUTCOME  NEW_AGE_CAT_old  NEW_AGE_CAT_young  NEW_GLUCOSE_CAT_prediabetes  NEW_BMI_RANGE_healty  NEW_BMI_RANGE_overweight  NEW_BMI_RANGE_obese  NEW_BLOODPRESSURE_hs1  NEW_BLOODPRESSURE_hs2\n",
            "763           10      101             76             48      180  32.9                     0.171   63        0                1                  0                            0                     0                         0                    1                      0                      0\n",
            "764            2      122             70             27        0  36.8                     0.340   27        0                0                  1                            0                     0                         0                    1                      0                      0\n",
            "765            5      121             72             23      112  26.2                     0.245   30        0                0                  1                            0                     0                         1                    0                      0                      0\n",
            "766            1      126             60              0        0  30.1                     0.349   47        1                0                  0                            0                     0                         0                    1                      0                      0\n",
            "767            1       93             70             31        0  30.4                     0.315   23        0                0                  1                            0                     0                         0                    1                      0                      0\n",
            "##################### NA #####################\n",
            "PREGNANCIES                    0\n",
            "GLUCOSE                        0\n",
            "BLOODPRESSURE                  0\n",
            "SKINTHICKNESS                  0\n",
            "INSULIN                        0\n",
            "BMI                            0\n",
            "DIABETESPEDIGREEFUNCTION       0\n",
            "AGE                            0\n",
            "OUTCOME                        0\n",
            "NEW_AGE_CAT_old                0\n",
            "NEW_AGE_CAT_young              0\n",
            "NEW_GLUCOSE_CAT_prediabetes    0\n",
            "NEW_BMI_RANGE_healty           0\n",
            "NEW_BMI_RANGE_overweight       0\n",
            "NEW_BMI_RANGE_obese            0\n",
            "NEW_BLOODPRESSURE_hs1          0\n",
            "NEW_BLOODPRESSURE_hs2          0\n",
            "dtype: int64\n",
            "##################### Quantiles #####################\n",
            "                               0.00      0.05      0.50       0.95       0.99    1.00\n",
            "PREGNANCIES                   0.000   0.00000    3.0000   10.00000   13.00000   17.00\n",
            "GLUCOSE                       0.000  79.00000  117.0000  181.00000  196.00000  199.00\n",
            "BLOODPRESSURE                 0.000  38.70000   72.0000   90.00000  106.00000  122.00\n",
            "SKINTHICKNESS                 0.000   0.00000   23.0000   44.00000   51.33000   99.00\n",
            "INSULIN                       0.000   0.00000   30.5000  293.00000  519.90000  846.00\n",
            "BMI                           0.000  21.80000   32.0000   44.39500   50.75900   67.10\n",
            "DIABETESPEDIGREEFUNCTION      0.078   0.14035    0.3725    1.13285    1.69833    2.42\n",
            "AGE                          21.000  21.00000   29.0000   58.00000   67.00000   81.00\n",
            "OUTCOME                       0.000   0.00000    0.0000    1.00000    1.00000    1.00\n",
            "NEW_AGE_CAT_old               0.000   0.00000    0.0000    1.00000    1.00000    1.00\n",
            "NEW_AGE_CAT_young             0.000   0.00000    1.0000    1.00000    1.00000    1.00\n",
            "NEW_GLUCOSE_CAT_prediabetes   0.000   0.00000    0.0000    1.00000    1.00000    1.00\n",
            "NEW_BMI_RANGE_healty          0.000   0.00000    0.0000    1.00000    1.00000    1.00\n",
            "NEW_BMI_RANGE_overweight      0.000   0.00000    0.0000    1.00000    1.00000    1.00\n",
            "NEW_BMI_RANGE_obese           0.000   0.00000    1.0000    1.00000    1.00000    1.00\n",
            "NEW_BLOODPRESSURE_hs1         0.000   0.00000    0.0000    1.00000    1.00000    1.00\n",
            "NEW_BLOODPRESSURE_hs2         0.000   0.00000    0.0000    1.00000    1.00000    1.00\n"
          ]
        }
      ]
    },
    {
      "cell_type": "code",
      "source": [
        "df.columns = [col.upper() for col in df.columns]"
      ],
      "metadata": {
        "id": "h5qwyRADHeXE"
      },
      "execution_count": null,
      "outputs": []
    },
    {
      "cell_type": "code",
      "source": [
        "# Son güncel değişken türlerimi tutuyorum. eklediğin değişkenleri de grab_col_names fonk uygula\n",
        "cat_cols, num_cols, cat_but_car = grab_col_names(df, cat_th=5, car_th=20)\n",
        "cat_cols = [col for col in cat_cols if \"OUTCOME\" not in col]"
      ],
      "metadata": {
        "id": "mBFrSXpUHiS9"
      },
      "execution_count": null,
      "outputs": []
    },
    {
      "cell_type": "code",
      "source": [
        "cat_cols"
      ],
      "metadata": {
        "colab": {
          "base_uri": "https://localhost:8080/"
        },
        "id": "hnn0sBX7bL6w",
        "outputId": "2478453e-6c35-4dfe-e0a9-69769353beb5"
      },
      "execution_count": null,
      "outputs": [
        {
          "output_type": "execute_result",
          "data": {
            "text/plain": [
              "['NEW_AGE_CAT_OLD',\n",
              " 'NEW_AGE_CAT_YOUNG',\n",
              " 'NEW_GLUCOSE_CAT_PREDIABETES',\n",
              " 'NEW_BMI_RANGE_HEALTY',\n",
              " 'NEW_BMI_RANGE_OVERWEIGHT',\n",
              " 'NEW_BMI_RANGE_OBESE',\n",
              " 'NEW_BLOODPRESSURE_HS1',\n",
              " 'NEW_BLOODPRESSURE_HS2']"
            ]
          },
          "metadata": {},
          "execution_count": 52
        }
      ]
    },
    {
      "cell_type": "code",
      "source": [
        "for col in num_cols:\n",
        "    print(col, check_outlier(df, col, 0.05, 0.95))\n",
        "\n",
        "#çok değişkenli bir etki aykırı olmayan bir değeri aykırı hale getirebilir o yüzden iqr, box plot tek başına yetmeyebilir. \n",
        "# aşırı aykırı olanları ucundan bir traşlıyım düşüncesi ile *check_outlier(df, col, 0.05, 0.95)* bunu kullanabiliriz."
      ],
      "metadata": {
        "colab": {
          "base_uri": "https://localhost:8080/"
        },
        "id": "sdeCprVsHiWB",
        "outputId": "72762ed8-2b5b-4b6e-bcdb-5f7e1f2cd804"
      },
      "execution_count": null,
      "outputs": [
        {
          "output_type": "stream",
          "name": "stdout",
          "text": [
            "PREGNANCIES False\n",
            "GLUCOSE False\n",
            "BLOODPRESSURE False\n",
            "SKINTHICKNESS False\n",
            "INSULIN True\n",
            "BMI False\n",
            "DIABETESPEDIGREEFUNCTION False\n",
            "AGE False\n"
          ]
        }
      ]
    },
    {
      "cell_type": "code",
      "source": [
        "replace_with_thresholds(df, \"INSULIN\")"
      ],
      "metadata": {
        "id": "oFAok0BrHiY7"
      },
      "execution_count": null,
      "outputs": []
    },
    {
      "cell_type": "code",
      "source": [
        "# Standartlaştırma\n",
        "X_scaled = StandardScaler().fit_transform(df[num_cols])\n",
        "df[num_cols] = pd.DataFrame(X_scaled, columns=df[num_cols].columns)"
      ],
      "metadata": {
        "id": "60xLsCvFHld3"
      },
      "execution_count": null,
      "outputs": []
    },
    {
      "cell_type": "code",
      "source": [
        "y = df[\"OUTCOME\"]\n",
        "X = df.drop([\"OUTCOME\"], axis=1)"
      ],
      "metadata": {
        "id": "3lC1R6FnHlgt"
      },
      "execution_count": null,
      "outputs": []
    },
    {
      "cell_type": "code",
      "source": [
        "check_df(X)"
      ],
      "metadata": {
        "colab": {
          "base_uri": "https://localhost:8080/"
        },
        "id": "4JLn3TfjHllo",
        "outputId": "c4ded533-4ac9-4032-a947-f3da747dc0d8"
      },
      "execution_count": null,
      "outputs": [
        {
          "output_type": "stream",
          "name": "stdout",
          "text": [
            "##################### Shape #####################\n",
            "(768, 16)\n",
            "##################### Types #####################\n",
            "PREGNANCIES                    float64\n",
            "GLUCOSE                        float64\n",
            "BLOODPRESSURE                  float64\n",
            "SKINTHICKNESS                  float64\n",
            "INSULIN                        float64\n",
            "BMI                            float64\n",
            "DIABETESPEDIGREEFUNCTION       float64\n",
            "AGE                            float64\n",
            "NEW_AGE_CAT_OLD                  uint8\n",
            "NEW_AGE_CAT_YOUNG                uint8\n",
            "NEW_GLUCOSE_CAT_PREDIABETES      uint8\n",
            "NEW_BMI_RANGE_HEALTY             uint8\n",
            "NEW_BMI_RANGE_OVERWEIGHT         uint8\n",
            "NEW_BMI_RANGE_OBESE              uint8\n",
            "NEW_BLOODPRESSURE_HS1            uint8\n",
            "NEW_BLOODPRESSURE_HS2            uint8\n",
            "dtype: object\n",
            "##################### Head #####################\n",
            "   PREGNANCIES   GLUCOSE  BLOODPRESSURE  SKINTHICKNESS   INSULIN       BMI  DIABETESPEDIGREEFUNCTION       AGE  NEW_AGE_CAT_OLD  NEW_AGE_CAT_YOUNG  NEW_GLUCOSE_CAT_PREDIABETES  NEW_BMI_RANGE_HEALTY  NEW_BMI_RANGE_OVERWEIGHT  NEW_BMI_RANGE_OBESE  NEW_BLOODPRESSURE_HS1  NEW_BLOODPRESSURE_HS2\n",
            "0     0.639947  0.848324       0.149641       0.907270 -0.787602  0.204013                  0.468492  1.425995                0                  0                            1                     0                         0                    1                      0                      0\n",
            "1    -0.844885 -1.123396      -0.160546       0.530902 -0.787602 -0.684422                 -0.365061 -0.190672                0                  1                            0                     0                         1                    0                      0                      0\n",
            "2     1.233880  1.943724      -0.263941      -1.288212 -0.787602 -1.103255                  0.604397 -0.105584                0                  1                            1                     1                         0                    0                      0                      0\n",
            "3    -0.844885 -0.998208      -0.160546       0.154533  0.217583 -0.494043                 -0.920763 -1.041549                0                  1                            0                     0                         1                    0                      0                      0\n",
            "4    -1.141852  0.504055      -1.504687       0.907270  1.008900  1.409746                  5.484909 -0.020496                0                  1                            0                     0                         0                    1                      0                      0\n",
            "##################### Tail #####################\n",
            "     PREGNANCIES   GLUCOSE  BLOODPRESSURE  SKINTHICKNESS   INSULIN       BMI  DIABETESPEDIGREEFUNCTION       AGE  NEW_AGE_CAT_OLD  NEW_AGE_CAT_YOUNG  NEW_GLUCOSE_CAT_PREDIABETES  NEW_BMI_RANGE_HEALTY  NEW_BMI_RANGE_OVERWEIGHT  NEW_BMI_RANGE_OBESE  NEW_BLOODPRESSURE_HS1  NEW_BLOODPRESSURE_HS2\n",
            "763     1.827813 -0.622642       0.356432       1.722735  1.137221  0.115169                 -0.908682  2.532136                1                  0                            0                     0                         0                    1                      0                      0\n",
            "764    -0.547919  0.034598       0.046245       0.405445 -0.787602  0.610154                 -0.398282 -0.531023                0                  1                            0                     0                         0                    1                      0                      0\n",
            "765     0.342981  0.003301       0.149641       0.154533  0.410066 -0.735190                 -0.685193 -0.275760                0                  1                            0                     0                         1                    0                      0                      0\n",
            "766    -0.844885  0.159787      -0.470732      -1.288212 -0.787602 -0.240205                 -0.371101  1.170732                0                  0                            0                     0                         0                    1                      0                      0\n",
            "767    -0.844885 -0.873019       0.046245       0.656358 -0.787602 -0.202129                 -0.473785 -0.871374                0                  1                            0                     0                         0                    1                      0                      0\n",
            "##################### NA #####################\n",
            "PREGNANCIES                    0\n",
            "GLUCOSE                        0\n",
            "BLOODPRESSURE                  0\n",
            "SKINTHICKNESS                  0\n",
            "INSULIN                        0\n",
            "BMI                            0\n",
            "DIABETESPEDIGREEFUNCTION       0\n",
            "AGE                            0\n",
            "NEW_AGE_CAT_OLD                0\n",
            "NEW_AGE_CAT_YOUNG              0\n",
            "NEW_GLUCOSE_CAT_PREDIABETES    0\n",
            "NEW_BMI_RANGE_HEALTY           0\n",
            "NEW_BMI_RANGE_OVERWEIGHT       0\n",
            "NEW_BMI_RANGE_OBESE            0\n",
            "NEW_BLOODPRESSURE_HS1          0\n",
            "NEW_BLOODPRESSURE_HS2          0\n",
            "dtype: int64\n",
            "##################### Quantiles #####################\n",
            "                                 0.00      0.05      0.50      0.95      0.99      1.00\n",
            "PREGNANCIES                 -1.141852 -1.141852 -0.250952  1.827813  2.718712  3.906578\n",
            "GLUCOSE                     -3.783654 -1.311179 -0.121888  1.881130  2.350587  2.444478\n",
            "BLOODPRESSURE               -3.572597 -1.571894  0.149641  1.080200  1.907364  2.734528\n",
            "SKINTHICKNESS               -1.288212 -1.288212  0.154533  1.471822  1.931619  4.921866\n",
            "INSULIN                     -0.787602 -0.787602 -0.461451  2.345582  2.614256  2.614256\n",
            "BMI                         -4.060474 -1.293634  0.000942  1.574106  2.381820  4.455807\n",
            "DIABETESPEDIGREEFUNCTION    -1.189553 -1.001249 -0.300128  1.996219  3.704036  5.883565\n",
            "AGE                         -1.041549 -1.041549 -0.360847  2.106697  2.872487  4.063716\n",
            "NEW_AGE_CAT_OLD              0.000000  0.000000  0.000000  1.000000  1.000000  1.000000\n",
            "NEW_AGE_CAT_YOUNG            0.000000  0.000000  1.000000  1.000000  1.000000  1.000000\n",
            "NEW_GLUCOSE_CAT_PREDIABETES  0.000000  0.000000  0.000000  1.000000  1.000000  1.000000\n",
            "NEW_BMI_RANGE_HEALTY         0.000000  0.000000  0.000000  1.000000  1.000000  1.000000\n",
            "NEW_BMI_RANGE_OVERWEIGHT     0.000000  0.000000  0.000000  1.000000  1.000000  1.000000\n",
            "NEW_BMI_RANGE_OBESE          0.000000  0.000000  1.000000  1.000000  1.000000  1.000000\n",
            "NEW_BLOODPRESSURE_HS1        0.000000  0.000000  0.000000  1.000000  1.000000  1.000000\n",
            "NEW_BLOODPRESSURE_HS2        0.000000  0.000000  0.000000  1.000000  1.000000  1.000000\n"
          ]
        }
      ]
    },
    {
      "cell_type": "markdown",
      "source": [
        "eklediğin değerlerden sonra check_df fonksiyonu ile sürekli kontrol etmelisin. Na değerler oluşabilir. "
      ],
      "metadata": {
        "id": "xrJPnIL4cbvl"
      }
    },
    {
      "cell_type": "code",
      "source": [
        "def diabetes_data_prep(dataframe):\n",
        "    dataframe.columns = [col.upper() for col in dataframe.columns]\n",
        "\n",
        "    # Glucose\n",
        "    dataframe['NEW_GLUCOSE_CAT'] = pd.cut(x=dataframe['GLUCOSE'], bins=[-1, 139, 200], labels=[\"normal\", \"prediabetes\"])\n",
        "\n",
        "    # Age\n",
        "    dataframe.loc[(dataframe['AGE'] < 35), \"NEW_AGE_CAT\"] = 'young'\n",
        "    dataframe.loc[(dataframe['AGE'] >= 35) & (dataframe['AGE'] <= 55), \"NEW_AGE_CAT\"] = 'middleage'\n",
        "    dataframe.loc[(dataframe['AGE'] > 55), \"NEW_AGE_CAT\"] = 'old'\n",
        "\n",
        "    # BMI\n",
        "    dataframe['NEW_BMI_RANGE'] = pd.cut(x=dataframe['BMI'], bins=[-1, 18.5, 24.9, 29.9, 100],\n",
        "                                        labels=[\"underweight\", \"healty\", \"overweight\", \"obese\"])\n",
        "\n",
        "    # BloodPressure\n",
        "    dataframe['NEW_BLOODPRESSURE'] = pd.cut(x=dataframe['BLOODPRESSURE'], bins=[-1, 79, 89, 123],\n",
        "                                            labels=[\"normal\", \"hs1\", \"hs2\"])\n",
        "\n",
        "    cat_cols, num_cols, cat_but_car = grab_col_names(dataframe, cat_th=5, car_th=20)\n",
        "\n",
        "    cat_cols = [col for col in cat_cols if \"OUTCOME\" not in col]\n",
        "\n",
        "    df = one_hot_encoder(dataframe, cat_cols, drop_first=True)\n",
        "\n",
        "    df.columns = [col.upper() for col in df.columns]\n",
        "\n",
        "    cat_cols, num_cols, cat_but_car = grab_col_names(df, cat_th=5, car_th=20)\n",
        "\n",
        "    cat_cols = [col for col in cat_cols if \"OUTCOME\" not in col]\n",
        "\n",
        "    replace_with_thresholds(df, \"INSULIN\")\n",
        "\n",
        "    X_scaled = StandardScaler().fit_transform(df[num_cols])\n",
        "    df[num_cols] = pd.DataFrame(X_scaled, columns=df[num_cols].columns)\n",
        "\n",
        "    y = df[\"OUTCOME\"]\n",
        "    X = df.drop([\"OUTCOME\"], axis=1)\n",
        "\n",
        "    return X, y"
      ],
      "metadata": {
        "id": "lV74Os4-Htk3"
      },
      "execution_count": null,
      "outputs": []
    },
    {
      "cell_type": "code",
      "source": [
        "df = pd.read_csv(\"/content/gdrive/My Drive/machine_learning/diabetes.csv\")"
      ],
      "metadata": {
        "id": "QvdpFKTsHvIp"
      },
      "execution_count": null,
      "outputs": []
    },
    {
      "cell_type": "code",
      "source": [
        "check_df(df)"
      ],
      "metadata": {
        "colab": {
          "base_uri": "https://localhost:8080/"
        },
        "id": "cEGP5h2qHvLI",
        "outputId": "fa90a4fd-35ed-47f8-cc50-273d35d85408"
      },
      "execution_count": null,
      "outputs": [
        {
          "output_type": "stream",
          "name": "stdout",
          "text": [
            "##################### Shape #####################\n",
            "(768, 9)\n",
            "##################### Types #####################\n",
            "Pregnancies                   int64\n",
            "Glucose                       int64\n",
            "BloodPressure                 int64\n",
            "SkinThickness                 int64\n",
            "Insulin                       int64\n",
            "BMI                         float64\n",
            "DiabetesPedigreeFunction    float64\n",
            "Age                           int64\n",
            "Outcome                       int64\n",
            "dtype: object\n",
            "##################### Head #####################\n",
            "   Pregnancies  Glucose  BloodPressure  SkinThickness  Insulin   BMI  DiabetesPedigreeFunction  Age  Outcome\n",
            "0            6      148             72             35        0  33.6                     0.627   50        1\n",
            "1            1       85             66             29        0  26.6                     0.351   31        0\n",
            "2            8      183             64              0        0  23.3                     0.672   32        1\n",
            "3            1       89             66             23       94  28.1                     0.167   21        0\n",
            "4            0      137             40             35      168  43.1                     2.288   33        1\n",
            "##################### Tail #####################\n",
            "     Pregnancies  Glucose  BloodPressure  SkinThickness  Insulin   BMI  DiabetesPedigreeFunction  Age  Outcome\n",
            "763           10      101             76             48      180  32.9                     0.171   63        0\n",
            "764            2      122             70             27        0  36.8                     0.340   27        0\n",
            "765            5      121             72             23      112  26.2                     0.245   30        0\n",
            "766            1      126             60              0        0  30.1                     0.349   47        1\n",
            "767            1       93             70             31        0  30.4                     0.315   23        0\n",
            "##################### NA #####################\n",
            "Pregnancies                 0\n",
            "Glucose                     0\n",
            "BloodPressure               0\n",
            "SkinThickness               0\n",
            "Insulin                     0\n",
            "BMI                         0\n",
            "DiabetesPedigreeFunction    0\n",
            "Age                         0\n",
            "Outcome                     0\n",
            "dtype: int64\n",
            "##################### Quantiles #####################\n",
            "                            0.00      0.05      0.50       0.95       0.99    1.00\n",
            "Pregnancies                0.000   0.00000    3.0000   10.00000   13.00000   17.00\n",
            "Glucose                    0.000  79.00000  117.0000  181.00000  196.00000  199.00\n",
            "BloodPressure              0.000  38.70000   72.0000   90.00000  106.00000  122.00\n",
            "SkinThickness              0.000   0.00000   23.0000   44.00000   51.33000   99.00\n",
            "Insulin                    0.000   0.00000   30.5000  293.00000  519.90000  846.00\n",
            "BMI                        0.000  21.80000   32.0000   44.39500   50.75900   67.10\n",
            "DiabetesPedigreeFunction   0.078   0.14035    0.3725    1.13285    1.69833    2.42\n",
            "Age                       21.000  21.00000   29.0000   58.00000   67.00000   81.00\n",
            "Outcome                    0.000   0.00000    0.0000    1.00000    1.00000    1.00\n"
          ]
        }
      ]
    },
    {
      "cell_type": "code",
      "source": [
        "X, y = diabetes_data_prep(df)"
      ],
      "metadata": {
        "id": "sIrU38u8HvNj"
      },
      "execution_count": null,
      "outputs": []
    },
    {
      "cell_type": "code",
      "source": [
        "check_df(X)"
      ],
      "metadata": {
        "colab": {
          "base_uri": "https://localhost:8080/"
        },
        "id": "t78W3nprH1dx",
        "outputId": "fccfa3f7-2a24-4102-cf39-2a553adadc5b"
      },
      "execution_count": null,
      "outputs": [
        {
          "output_type": "stream",
          "name": "stdout",
          "text": [
            "##################### Shape #####################\n",
            "(768, 16)\n",
            "##################### Types #####################\n",
            "PREGNANCIES                    float64\n",
            "GLUCOSE                        float64\n",
            "BLOODPRESSURE                  float64\n",
            "SKINTHICKNESS                  float64\n",
            "INSULIN                        float64\n",
            "BMI                            float64\n",
            "DIABETESPEDIGREEFUNCTION       float64\n",
            "AGE                            float64\n",
            "NEW_AGE_CAT_OLD                  uint8\n",
            "NEW_AGE_CAT_YOUNG                uint8\n",
            "NEW_GLUCOSE_CAT_PREDIABETES      uint8\n",
            "NEW_BMI_RANGE_HEALTY             uint8\n",
            "NEW_BMI_RANGE_OVERWEIGHT         uint8\n",
            "NEW_BMI_RANGE_OBESE              uint8\n",
            "NEW_BLOODPRESSURE_HS1            uint8\n",
            "NEW_BLOODPRESSURE_HS2            uint8\n",
            "dtype: object\n",
            "##################### Head #####################\n",
            "   PREGNANCIES   GLUCOSE  BLOODPRESSURE  SKINTHICKNESS   INSULIN       BMI  DIABETESPEDIGREEFUNCTION       AGE  NEW_AGE_CAT_OLD  NEW_AGE_CAT_YOUNG  NEW_GLUCOSE_CAT_PREDIABETES  NEW_BMI_RANGE_HEALTY  NEW_BMI_RANGE_OVERWEIGHT  NEW_BMI_RANGE_OBESE  NEW_BLOODPRESSURE_HS1  NEW_BLOODPRESSURE_HS2\n",
            "0     0.639947  0.848324       0.149641       0.907270 -0.787602  0.204013                  0.468492  1.425995                0                  0                            1                     0                         0                    1                      0                      0\n",
            "1    -0.844885 -1.123396      -0.160546       0.530902 -0.787602 -0.684422                 -0.365061 -0.190672                0                  1                            0                     0                         1                    0                      0                      0\n",
            "2     1.233880  1.943724      -0.263941      -1.288212 -0.787602 -1.103255                  0.604397 -0.105584                0                  1                            1                     1                         0                    0                      0                      0\n",
            "3    -0.844885 -0.998208      -0.160546       0.154533  0.217583 -0.494043                 -0.920763 -1.041549                0                  1                            0                     0                         1                    0                      0                      0\n",
            "4    -1.141852  0.504055      -1.504687       0.907270  1.008900  1.409746                  5.484909 -0.020496                0                  1                            0                     0                         0                    1                      0                      0\n",
            "##################### Tail #####################\n",
            "     PREGNANCIES   GLUCOSE  BLOODPRESSURE  SKINTHICKNESS   INSULIN       BMI  DIABETESPEDIGREEFUNCTION       AGE  NEW_AGE_CAT_OLD  NEW_AGE_CAT_YOUNG  NEW_GLUCOSE_CAT_PREDIABETES  NEW_BMI_RANGE_HEALTY  NEW_BMI_RANGE_OVERWEIGHT  NEW_BMI_RANGE_OBESE  NEW_BLOODPRESSURE_HS1  NEW_BLOODPRESSURE_HS2\n",
            "763     1.827813 -0.622642       0.356432       1.722735  1.137221  0.115169                 -0.908682  2.532136                1                  0                            0                     0                         0                    1                      0                      0\n",
            "764    -0.547919  0.034598       0.046245       0.405445 -0.787602  0.610154                 -0.398282 -0.531023                0                  1                            0                     0                         0                    1                      0                      0\n",
            "765     0.342981  0.003301       0.149641       0.154533  0.410066 -0.735190                 -0.685193 -0.275760                0                  1                            0                     0                         1                    0                      0                      0\n",
            "766    -0.844885  0.159787      -0.470732      -1.288212 -0.787602 -0.240205                 -0.371101  1.170732                0                  0                            0                     0                         0                    1                      0                      0\n",
            "767    -0.844885 -0.873019       0.046245       0.656358 -0.787602 -0.202129                 -0.473785 -0.871374                0                  1                            0                     0                         0                    1                      0                      0\n",
            "##################### NA #####################\n",
            "PREGNANCIES                    0\n",
            "GLUCOSE                        0\n",
            "BLOODPRESSURE                  0\n",
            "SKINTHICKNESS                  0\n",
            "INSULIN                        0\n",
            "BMI                            0\n",
            "DIABETESPEDIGREEFUNCTION       0\n",
            "AGE                            0\n",
            "NEW_AGE_CAT_OLD                0\n",
            "NEW_AGE_CAT_YOUNG              0\n",
            "NEW_GLUCOSE_CAT_PREDIABETES    0\n",
            "NEW_BMI_RANGE_HEALTY           0\n",
            "NEW_BMI_RANGE_OVERWEIGHT       0\n",
            "NEW_BMI_RANGE_OBESE            0\n",
            "NEW_BLOODPRESSURE_HS1          0\n",
            "NEW_BLOODPRESSURE_HS2          0\n",
            "dtype: int64\n",
            "##################### Quantiles #####################\n",
            "                                 0.00      0.05      0.50      0.95      0.99      1.00\n",
            "PREGNANCIES                 -1.141852 -1.141852 -0.250952  1.827813  2.718712  3.906578\n",
            "GLUCOSE                     -3.783654 -1.311179 -0.121888  1.881130  2.350587  2.444478\n",
            "BLOODPRESSURE               -3.572597 -1.571894  0.149641  1.080200  1.907364  2.734528\n",
            "SKINTHICKNESS               -1.288212 -1.288212  0.154533  1.471822  1.931619  4.921866\n",
            "INSULIN                     -0.787602 -0.787602 -0.461451  2.345582  2.614256  2.614256\n",
            "BMI                         -4.060474 -1.293634  0.000942  1.574106  2.381820  4.455807\n",
            "DIABETESPEDIGREEFUNCTION    -1.189553 -1.001249 -0.300128  1.996219  3.704036  5.883565\n",
            "AGE                         -1.041549 -1.041549 -0.360847  2.106697  2.872487  4.063716\n",
            "NEW_AGE_CAT_OLD              0.000000  0.000000  0.000000  1.000000  1.000000  1.000000\n",
            "NEW_AGE_CAT_YOUNG            0.000000  0.000000  1.000000  1.000000  1.000000  1.000000\n",
            "NEW_GLUCOSE_CAT_PREDIABETES  0.000000  0.000000  0.000000  1.000000  1.000000  1.000000\n",
            "NEW_BMI_RANGE_HEALTY         0.000000  0.000000  0.000000  1.000000  1.000000  1.000000\n",
            "NEW_BMI_RANGE_OVERWEIGHT     0.000000  0.000000  0.000000  1.000000  1.000000  1.000000\n",
            "NEW_BMI_RANGE_OBESE          0.000000  0.000000  1.000000  1.000000  1.000000  1.000000\n",
            "NEW_BLOODPRESSURE_HS1        0.000000  0.000000  0.000000  1.000000  1.000000  1.000000\n",
            "NEW_BLOODPRESSURE_HS2        0.000000  0.000000  0.000000  1.000000  1.000000  1.000000\n"
          ]
        }
      ]
    },
    {
      "cell_type": "markdown",
      "source": [
        "### 3. Base Models"
      ],
      "metadata": {
        "id": "7HkzyFAAH4DT"
      }
    },
    {
      "cell_type": "code",
      "source": [
        "def base_models(X, y, scoring=\"roc_auc\"):\n",
        "    print(\"Base Models....\")\n",
        "    classifiers = [('LR', LogisticRegression()),\n",
        "                   ('KNN', KNeighborsClassifier()),\n",
        "                   (\"SVC\", SVC()),\n",
        "                   (\"CART\", DecisionTreeClassifier()),\n",
        "                   (\"RF\", RandomForestClassifier()),\n",
        "                   ('Adaboost', AdaBoostClassifier()),\n",
        "                   ('GBM', GradientBoostingClassifier()),\n",
        "                   ('XGBoost', XGBClassifier(use_label_encoder=False, eval_metric='logloss')),\n",
        "                   ('LightGBM', LGBMClassifier()),\n",
        "                   # ('CatBoost', CatBoostClassifier(verbose=False))\n",
        "                   ]\n",
        "\n",
        "    for name, classifier in classifiers:\n",
        "        cv_results = cross_validate(classifier, X, y, cv=3, scoring=scoring)\n",
        "        print(f\"{scoring}: {round(cv_results['test_score'].mean(), 4)} ({name}) \")\n",
        "\n",
        "base_models(X, y, scoring=\"accuracy\")"
      ],
      "metadata": {
        "colab": {
          "base_uri": "https://localhost:8080/"
        },
        "id": "8eL-IkvuH2lp",
        "outputId": "58880e95-118f-4327-da10-3d38189adb2a"
      },
      "execution_count": null,
      "outputs": [
        {
          "output_type": "stream",
          "name": "stdout",
          "text": [
            "Base Models....\n",
            "accuracy: 0.7604 (LR) \n",
            "accuracy: 0.7617 (KNN) \n",
            "accuracy: 0.7656 (SVC) \n",
            "accuracy: 0.6732 (CART) \n",
            "accuracy: 0.7656 (RF) \n",
            "accuracy: 0.7578 (Adaboost) \n",
            "accuracy: 0.7513 (GBM) \n",
            "accuracy: 0.7656 (XGBoost) \n",
            "accuracy: 0.7409 (LightGBM) \n"
          ]
        }
      ]
    },
    {
      "cell_type": "code",
      "source": [
        "base_models(X, y, scoring=\"roc_auc\")"
      ],
      "metadata": {
        "colab": {
          "base_uri": "https://localhost:8080/"
        },
        "id": "DuPrTNzyel83",
        "outputId": "b3575827-7231-4e0b-c00b-9745be0c6961"
      },
      "execution_count": null,
      "outputs": [
        {
          "output_type": "stream",
          "name": "stdout",
          "text": [
            "Base Models....\n",
            "roc_auc: 0.8409 (LR) \n",
            "roc_auc: 0.791 (KNN) \n",
            "roc_auc: 0.8355 (SVC) \n",
            "roc_auc: 0.6491 (CART) \n",
            "roc_auc: 0.8296 (RF) \n",
            "roc_auc: 0.8196 (Adaboost) \n",
            "roc_auc: 0.8267 (GBM) \n",
            "roc_auc: 0.8309 (XGBoost) \n",
            "roc_auc: 0.8061 (LightGBM) \n"
          ]
        }
      ]
    },
    {
      "cell_type": "code",
      "source": [
        "base_models(X, y, scoring=\"f1\")"
      ],
      "metadata": {
        "colab": {
          "base_uri": "https://localhost:8080/"
        },
        "id": "1mrzg-LFeW1q",
        "outputId": "76302387-27fe-467b-fac7-af3940c3839c"
      },
      "execution_count": null,
      "outputs": [
        {
          "output_type": "stream",
          "name": "stdout",
          "text": [
            "Base Models....\n",
            "f1: 0.6233 (LR) \n",
            "f1: 0.6269 (KNN) \n",
            "f1: 0.6269 (SVC) \n",
            "f1: 0.5756 (CART) \n",
            "f1: 0.6482 (RF) \n",
            "f1: 0.637 (Adaboost) \n",
            "f1: 0.6187 (GBM) \n",
            "f1: 0.6518 (XGBoost) \n",
            "f1: 0.6173 (LightGBM) \n"
          ]
        }
      ]
    },
    {
      "cell_type": "code",
      "source": [
        "base_models(X, y, scoring=\"precision\")"
      ],
      "metadata": {
        "colab": {
          "base_uri": "https://localhost:8080/"
        },
        "id": "67O3AcMvedDC",
        "outputId": "2a40f457-043c-4c80-f9ba-e8c71ee95105"
      },
      "execution_count": null,
      "outputs": [
        {
          "output_type": "stream",
          "name": "stdout",
          "text": [
            "Base Models....\n",
            "precision: 0.6954 (LR) \n",
            "precision: 0.6907 (KNN) \n",
            "precision: 0.7148 (SVC) \n",
            "precision: 0.5387 (CART) \n",
            "precision: 0.7095 (RF) \n",
            "precision: 0.6719 (Adaboost) \n",
            "precision: 0.6711 (GBM) \n",
            "precision: 0.6815 (XGBoost) \n",
            "precision: 0.643 (LightGBM) \n"
          ]
        }
      ]
    },
    {
      "cell_type": "code",
      "source": [
        "base_models(X, y, scoring=\"recall\")"
      ],
      "metadata": {
        "colab": {
          "base_uri": "https://localhost:8080/"
        },
        "id": "9Lzn2vkLeZx_",
        "outputId": "0347816c-e24e-42cc-920f-98a640c8c182"
      },
      "execution_count": null,
      "outputs": [
        {
          "output_type": "stream",
          "name": "stdout",
          "text": [
            "Base Models....\n",
            "recall: 0.5671 (LR) \n",
            "recall: 0.5746 (KNN) \n",
            "recall: 0.5633 (SVC) \n",
            "recall: 0.5373 (CART) \n",
            "recall: 0.5671 (RF) \n",
            "recall: 0.6082 (Adaboost) \n",
            "recall: 0.5705 (GBM) \n",
            "recall: 0.6303 (XGBoost) \n",
            "recall: 0.5969 (LightGBM) \n"
          ]
        }
      ]
    },
    {
      "cell_type": "markdown",
      "source": [
        "### 4. Automated Hyperparameter Optimization"
      ],
      "metadata": {
        "id": "Se1WB04zH8n1"
      }
    },
    {
      "cell_type": "code",
      "source": [
        "knn_params = {\"n_neighbors\": range(2, 50)}\n",
        "\n",
        "cart_params = {'max_depth': range(1, 20),\n",
        "               \"min_samples_split\": range(2, 30)}\n",
        "\n",
        "rf_params = {\"max_depth\": [8, 15, None],\n",
        "             \"max_features\": [5, 7, \"auto\"],\n",
        "             \"min_samples_split\": [15, 20],\n",
        "             \"n_estimators\": [200, 300]}\n",
        "\n",
        "xgboost_params = {\"learning_rate\": [0.1, 0.01],\n",
        "                  \"max_depth\": [5, 8],\n",
        "                  \"n_estimators\": [100, 200]}\n",
        "\n",
        "lightgbm_params = {\"learning_rate\": [0.01, 0.1],\n",
        "                   \"n_estimators\": [300, 500]}\n",
        "\n",
        "\n",
        "classifiers = [('KNN', KNeighborsClassifier(), knn_params),\n",
        "               (\"CART\", DecisionTreeClassifier(), cart_params),\n",
        "               (\"RF\", RandomForestClassifier(), rf_params),\n",
        "               ('XGBoost', XGBClassifier(use_label_encoder=False, eval_metric='logloss'), xgboost_params),\n",
        "               ('LightGBM', LGBMClassifier(), lightgbm_params)]"
      ],
      "metadata": {
        "id": "Dvok2QsEH6zw"
      },
      "execution_count": null,
      "outputs": []
    },
    {
      "cell_type": "code",
      "source": [
        "def hyperparameter_optimization(X, y, cv=3, scoring=\"roc_auc\"):\n",
        "    print(\"Hyperparameter Optimization....\")\n",
        "    best_models = {}\n",
        "    for name, classifier, params in classifiers:\n",
        "        print(f\"########## {name} ##########\")\n",
        "        cv_results = cross_validate(classifier, X, y, cv=cv, scoring=scoring)\n",
        "        print(f\"{scoring} (Before): {round(cv_results['test_score'].mean(), 4)}\")\n",
        "\n",
        "        gs_best = GridSearchCV(classifier, params, cv=cv, n_jobs=-1, verbose=False).fit(X, y)\n",
        "        final_model = classifier.set_params(**gs_best.best_params_)\n",
        "\n",
        "        cv_results = cross_validate(final_model, X, y, cv=cv, scoring=scoring)\n",
        "        print(f\"{scoring} (After): {round(cv_results['test_score'].mean(), 4)}\")\n",
        "        print(f\"{name} best params: {gs_best.best_params_}\", end=\"\\n\\n\")\n",
        "        best_models[name] = final_model\n",
        "    return best_models\n",
        "\n",
        "best_models = hyperparameter_optimization(X, y)\n"
      ],
      "metadata": {
        "colab": {
          "base_uri": "https://localhost:8080/"
        },
        "id": "kv1ap31uH63G",
        "outputId": "d9348ecd-7b73-4837-9b97-729b32fe2ecb"
      },
      "execution_count": null,
      "outputs": [
        {
          "output_type": "stream",
          "name": "stdout",
          "text": [
            "Hyperparameter Optimization....\n",
            "########## KNN ##########\n",
            "roc_auc (Before): 0.791\n",
            "roc_auc (After): 0.8211\n",
            "KNN best params: {'n_neighbors': 20}\n",
            "\n",
            "########## CART ##########\n",
            "roc_auc (Before): 0.6606\n",
            "roc_auc (After): 0.7943\n",
            "CART best params: {'max_depth': 6, 'min_samples_split': 23}\n",
            "\n",
            "########## RF ##########\n",
            "roc_auc (Before): 0.8209\n",
            "roc_auc (After): 0.8368\n",
            "RF best params: {'max_depth': None, 'max_features': 5, 'min_samples_split': 15, 'n_estimators': 200}\n",
            "\n",
            "########## XGBoost ##########\n",
            "roc_auc (Before): 0.8309\n",
            "roc_auc (After): 0.8179\n",
            "XGBoost best params: {'learning_rate': 0.01, 'max_depth': 5, 'n_estimators': 200}\n",
            "\n",
            "########## LightGBM ##########\n",
            "roc_auc (Before): 0.8061\n",
            "roc_auc (After): 0.8196\n",
            "LightGBM best params: {'learning_rate': 0.01, 'n_estimators': 300}\n",
            "\n"
          ]
        }
      ]
    },
    {
      "cell_type": "markdown",
      "source": [
        "### 5. Stacking & Ensemble Learning\n",
        "\n",
        "Temeli birden fazla modeli bir arada kullanmaya dayanır."
      ],
      "metadata": {
        "id": "HpgGiJRfIEMb"
      }
    },
    {
      "cell_type": "code",
      "source": [
        "def voting_classifier(best_models, X, y):\n",
        "    print(\"Voting Classifier...\")\n",
        "\n",
        "    voting_clf = VotingClassifier(estimators=[('KNN', best_models[\"KNN\"]),\n",
        "                                              ('RF', best_models[\"RF\"]),\n",
        "                                              ('LightGBM', best_models[\"LightGBM\"])],\n",
        "                                  voting='soft').fit(X, y)\n",
        "#bana kullanacağın modelleri söyle der.\n",
        "    cv_results = cross_validate(voting_clf, X, y, cv=3, scoring=[\"accuracy\", \"f1\", \"roc_auc\"])\n",
        "    print(f\"Accuracy: {cv_results['test_accuracy'].mean()}\")\n",
        "    print(f\"F1Score: {cv_results['test_f1'].mean()}\")\n",
        "    print(f\"ROC_AUC: {cv_results['test_roc_auc'].mean()}\")\n",
        "    return voting_clf\n",
        "\n",
        "voting_clf = voting_classifier(best_models, X, y)\n",
        "\n",
        "# voting : {hard, soft} ön tanımlı değeri harddır. HARD en fazla olan sınıfı ifade eder.\n",
        "#soft sınıf gerçekleşme olasılıkları üzerinden bir oylama yapılır. "
      ],
      "metadata": {
        "colab": {
          "base_uri": "https://localhost:8080/"
        },
        "id": "uNJSVhx_ICYi",
        "outputId": "e9cfe259-9329-47e0-a0e0-408d252ab40e"
      },
      "execution_count": null,
      "outputs": [
        {
          "output_type": "stream",
          "name": "stdout",
          "text": [
            "Voting Classifier...\n",
            "Accuracy: 0.76953125\n",
            "F1Score: 0.6343037228407433\n",
            "ROC_AUC: 0.837376289041579\n"
          ]
        }
      ]
    },
    {
      "cell_type": "markdown",
      "source": [
        "### 6. Prediction for a New Observation"
      ],
      "metadata": {
        "id": "JY9t-CMaIHDn"
      }
    },
    {
      "cell_type": "code",
      "source": [
        "X.columns\n",
        "random_user = X.sample(1, random_state=45)\n",
        "voting_clf.predict(random_user)\n",
        "\n",
        "joblib.dump(voting_clf, \"voting_clf2.pkl\") # modeli kaydetme\n",
        "\n",
        "new_model = joblib.load(\"voting_clf2.pkl\") # modeli yükle\n",
        "new_model.predict(random_user) # modeli tahmin et"
      ],
      "metadata": {
        "colab": {
          "base_uri": "https://localhost:8080/"
        },
        "id": "vJ3WiW8BII-D",
        "outputId": "2c8c55be-4513-4989-ee9e-7046a208b20e"
      },
      "execution_count": null,
      "outputs": [
        {
          "output_type": "execute_result",
          "data": {
            "text/plain": [
              "array([1])"
            ]
          },
          "metadata": {},
          "execution_count": 51
        }
      ]
    }
  ]
}