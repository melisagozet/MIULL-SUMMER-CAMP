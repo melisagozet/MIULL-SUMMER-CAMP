{
  "nbformat": 4,
  "nbformat_minor": 0,
  "metadata": {
    "colab": {
      "name": "CART.ipynb",
      "provenance": [],
      "collapsed_sections": []
    },
    "kernelspec": {
      "name": "python3",
      "display_name": "Python 3"
    },
    "language_info": {
      "name": "python"
    }
  },
  "cells": [
    {
      "cell_type": "markdown",
      "source": [
        "################################################\n",
        "# Decision Tree Classification: CART\n",
        "################################################\n",
        "\n",
        " 1. Exploratory Data Analysis\n",
        " 2. Data Preprocessing & Feature Engineering\n",
        " 3. Modeling using CART\n",
        " 4. Hyperparameter Optimization with GridSearchCV\n",
        " 5. Final Model\n",
        " 6. Feature Importance\n",
        " 7. Analyzing Model Complexity with Learning Curves (BONUS)\n",
        " 8. Visualizing the Decision Tree\n",
        " 9. Extracting Decision Rules\n",
        " 10. Extracting Python/SQL/Excel Codes of Decision Rules\n",
        " 11. Prediction using Python Codes\n",
        " 12. Saving and Loading Model"
      ],
      "metadata": {
        "id": "ZohCVlc5Fm7f"
      }
    },
    {
      "cell_type": "code",
      "execution_count": null,
      "metadata": {
        "id": "BCNqYcwg3m6f",
        "colab": {
          "base_uri": "https://localhost:8080/"
        },
        "outputId": "1cc48a6d-0e14-4aad-f5a0-1f4243ec514d"
      },
      "outputs": [
        {
          "output_type": "stream",
          "name": "stdout",
          "text": [
            "Looking in indexes: https://pypi.org/simple, https://us-python.pkg.dev/colab-wheels/public/simple/\n",
            "Requirement already satisfied: pydotplus in /usr/local/lib/python3.7/dist-packages (2.0.2)\n",
            "Requirement already satisfied: pyparsing>=2.0.1 in /usr/local/lib/python3.7/dist-packages (from pydotplus) (3.0.9)\n"
          ]
        }
      ],
      "source": [
        "pip install pydotplus"
      ]
    },
    {
      "cell_type": "code",
      "source": [
        "pip install skompiler"
      ],
      "metadata": {
        "colab": {
          "base_uri": "https://localhost:8080/"
        },
        "id": "x6aMRyenFyUS",
        "outputId": "4ad9982a-1075-40db-c745-5dbf6a6b16bd"
      },
      "execution_count": null,
      "outputs": [
        {
          "output_type": "stream",
          "name": "stdout",
          "text": [
            "Looking in indexes: https://pypi.org/simple, https://us-python.pkg.dev/colab-wheels/public/simple/\n",
            "Collecting skompiler\n",
            "  Downloading SKompiler-0.6.tar.gz (45 kB)\n",
            "\u001b[K     |████████████████████████████████| 45 kB 1.4 MB/s \n",
            "\u001b[?25hRequirement already satisfied: scikit-learn>=0.22 in /usr/local/lib/python3.7/dist-packages (from skompiler) (1.0.2)\n",
            "Requirement already satisfied: threadpoolctl>=2.0.0 in /usr/local/lib/python3.7/dist-packages (from scikit-learn>=0.22->skompiler) (3.1.0)\n",
            "Requirement already satisfied: scipy>=1.1.0 in /usr/local/lib/python3.7/dist-packages (from scikit-learn>=0.22->skompiler) (1.7.3)\n",
            "Requirement already satisfied: numpy>=1.14.6 in /usr/local/lib/python3.7/dist-packages (from scikit-learn>=0.22->skompiler) (1.21.6)\n",
            "Requirement already satisfied: joblib>=0.11 in /usr/local/lib/python3.7/dist-packages (from scikit-learn>=0.22->skompiler) (1.1.0)\n",
            "Building wheels for collected packages: skompiler\n",
            "  Building wheel for skompiler (setup.py) ... \u001b[?25l\u001b[?25hdone\n",
            "  Created wheel for skompiler: filename=SKompiler-0.6-py3-none-any.whl size=54286 sha256=980f97ae593d0abea09bfebab86e22876056e7068bca0509c4d69ff2a4355646\n",
            "  Stored in directory: /root/.cache/pip/wheels/47/1c/59/b80a730f4afd2144bad854df4b167b812486c9d4c1bd4cf4c5\n",
            "Successfully built skompiler\n",
            "Installing collected packages: skompiler\n",
            "Successfully installed skompiler-0.6\n"
          ]
        }
      ]
    },
    {
      "cell_type": "code",
      "source": [
        "pip install astor"
      ],
      "metadata": {
        "colab": {
          "base_uri": "https://localhost:8080/"
        },
        "id": "e9wUQ7ROF1oj",
        "outputId": "8425e35b-8876-47f5-995c-1ff9db342ca9"
      },
      "execution_count": null,
      "outputs": [
        {
          "output_type": "stream",
          "name": "stdout",
          "text": [
            "Looking in indexes: https://pypi.org/simple, https://us-python.pkg.dev/colab-wheels/public/simple/\n",
            "Requirement already satisfied: astor in /usr/local/lib/python3.7/dist-packages (0.8.1)\n"
          ]
        }
      ]
    },
    {
      "cell_type": "code",
      "source": [
        "pip install joblib"
      ],
      "metadata": {
        "colab": {
          "base_uri": "https://localhost:8080/"
        },
        "id": "-YoQSbXjF34y",
        "outputId": "653218a9-9041-42b6-91c4-d01f11858447"
      },
      "execution_count": null,
      "outputs": [
        {
          "output_type": "stream",
          "name": "stdout",
          "text": [
            "Looking in indexes: https://pypi.org/simple, https://us-python.pkg.dev/colab-wheels/public/simple/\n",
            "Requirement already satisfied: joblib in /usr/local/lib/python3.7/dist-packages (1.1.0)\n"
          ]
        }
      ]
    },
    {
      "cell_type": "code",
      "source": [
        "import warnings\n",
        "import joblib\n",
        "import pydotplus\n",
        "import numpy as np\n",
        "import pandas as pd\n",
        "import seaborn as sns\n",
        "from matplotlib import pyplot as plt\n",
        "from sklearn.tree import DecisionTreeClassifier, export_graphviz, export_text\n",
        "from sklearn.metrics import classification_report, roc_auc_score\n",
        "from sklearn.model_selection import train_test_split, GridSearchCV, cross_validate, validation_curve\n",
        "from skompiler import skompile\n",
        "import graphviz\n",
        "\n",
        "pd.set_option('display.max_columns', None)\n",
        "pd.set_option('display.width', 500)\n",
        "\n",
        "warnings.simplefilter(action='ignore', category=Warning)"
      ],
      "metadata": {
        "id": "up92XhmuF5em"
      },
      "execution_count": null,
      "outputs": []
    },
    {
      "cell_type": "code",
      "source": [
        "from google.colab import drive\n",
        "drive.mount(\"/content/gdrive\")"
      ],
      "metadata": {
        "colab": {
          "base_uri": "https://localhost:8080/"
        },
        "id": "KQIH5cmmF8XV",
        "outputId": "8bd71715-15e4-4f40-9f82-89707fb80ed0"
      },
      "execution_count": null,
      "outputs": [
        {
          "output_type": "stream",
          "name": "stdout",
          "text": [
            "Mounted at /content/gdrive\n"
          ]
        }
      ]
    },
    {
      "cell_type": "code",
      "source": [
        "df = pd.read_csv(\"/content/gdrive/My Drive/machine_learning/diabetes.csv\")\n",
        "df.head()"
      ],
      "metadata": {
        "colab": {
          "base_uri": "https://localhost:8080/",
          "height": 206
        },
        "id": "M3_wk33MF-vz",
        "outputId": "0eae3fd7-19ec-4442-9a56-bde1e3020dcc"
      },
      "execution_count": null,
      "outputs": [
        {
          "output_type": "execute_result",
          "data": {
            "text/plain": [
              "   Pregnancies  Glucose  BloodPressure  SkinThickness  Insulin   BMI  DiabetesPedigreeFunction  Age  Outcome\n",
              "0            6      148             72             35        0  33.6                     0.627   50        1\n",
              "1            1       85             66             29        0  26.6                     0.351   31        0\n",
              "2            8      183             64              0        0  23.3                     0.672   32        1\n",
              "3            1       89             66             23       94  28.1                     0.167   21        0\n",
              "4            0      137             40             35      168  43.1                     2.288   33        1"
            ],
            "text/html": [
              "\n",
              "  <div id=\"df-38e553b2-f279-4dc5-8822-afdaef8b00ec\">\n",
              "    <div class=\"colab-df-container\">\n",
              "      <div>\n",
              "<style scoped>\n",
              "    .dataframe tbody tr th:only-of-type {\n",
              "        vertical-align: middle;\n",
              "    }\n",
              "\n",
              "    .dataframe tbody tr th {\n",
              "        vertical-align: top;\n",
              "    }\n",
              "\n",
              "    .dataframe thead th {\n",
              "        text-align: right;\n",
              "    }\n",
              "</style>\n",
              "<table border=\"1\" class=\"dataframe\">\n",
              "  <thead>\n",
              "    <tr style=\"text-align: right;\">\n",
              "      <th></th>\n",
              "      <th>Pregnancies</th>\n",
              "      <th>Glucose</th>\n",
              "      <th>BloodPressure</th>\n",
              "      <th>SkinThickness</th>\n",
              "      <th>Insulin</th>\n",
              "      <th>BMI</th>\n",
              "      <th>DiabetesPedigreeFunction</th>\n",
              "      <th>Age</th>\n",
              "      <th>Outcome</th>\n",
              "    </tr>\n",
              "  </thead>\n",
              "  <tbody>\n",
              "    <tr>\n",
              "      <th>0</th>\n",
              "      <td>6</td>\n",
              "      <td>148</td>\n",
              "      <td>72</td>\n",
              "      <td>35</td>\n",
              "      <td>0</td>\n",
              "      <td>33.6</td>\n",
              "      <td>0.627</td>\n",
              "      <td>50</td>\n",
              "      <td>1</td>\n",
              "    </tr>\n",
              "    <tr>\n",
              "      <th>1</th>\n",
              "      <td>1</td>\n",
              "      <td>85</td>\n",
              "      <td>66</td>\n",
              "      <td>29</td>\n",
              "      <td>0</td>\n",
              "      <td>26.6</td>\n",
              "      <td>0.351</td>\n",
              "      <td>31</td>\n",
              "      <td>0</td>\n",
              "    </tr>\n",
              "    <tr>\n",
              "      <th>2</th>\n",
              "      <td>8</td>\n",
              "      <td>183</td>\n",
              "      <td>64</td>\n",
              "      <td>0</td>\n",
              "      <td>0</td>\n",
              "      <td>23.3</td>\n",
              "      <td>0.672</td>\n",
              "      <td>32</td>\n",
              "      <td>1</td>\n",
              "    </tr>\n",
              "    <tr>\n",
              "      <th>3</th>\n",
              "      <td>1</td>\n",
              "      <td>89</td>\n",
              "      <td>66</td>\n",
              "      <td>23</td>\n",
              "      <td>94</td>\n",
              "      <td>28.1</td>\n",
              "      <td>0.167</td>\n",
              "      <td>21</td>\n",
              "      <td>0</td>\n",
              "    </tr>\n",
              "    <tr>\n",
              "      <th>4</th>\n",
              "      <td>0</td>\n",
              "      <td>137</td>\n",
              "      <td>40</td>\n",
              "      <td>35</td>\n",
              "      <td>168</td>\n",
              "      <td>43.1</td>\n",
              "      <td>2.288</td>\n",
              "      <td>33</td>\n",
              "      <td>1</td>\n",
              "    </tr>\n",
              "  </tbody>\n",
              "</table>\n",
              "</div>\n",
              "      <button class=\"colab-df-convert\" onclick=\"convertToInteractive('df-38e553b2-f279-4dc5-8822-afdaef8b00ec')\"\n",
              "              title=\"Convert this dataframe to an interactive table.\"\n",
              "              style=\"display:none;\">\n",
              "        \n",
              "  <svg xmlns=\"http://www.w3.org/2000/svg\" height=\"24px\"viewBox=\"0 0 24 24\"\n",
              "       width=\"24px\">\n",
              "    <path d=\"M0 0h24v24H0V0z\" fill=\"none\"/>\n",
              "    <path d=\"M18.56 5.44l.94 2.06.94-2.06 2.06-.94-2.06-.94-.94-2.06-.94 2.06-2.06.94zm-11 1L8.5 8.5l.94-2.06 2.06-.94-2.06-.94L8.5 2.5l-.94 2.06-2.06.94zm10 10l.94 2.06.94-2.06 2.06-.94-2.06-.94-.94-2.06-.94 2.06-2.06.94z\"/><path d=\"M17.41 7.96l-1.37-1.37c-.4-.4-.92-.59-1.43-.59-.52 0-1.04.2-1.43.59L10.3 9.45l-7.72 7.72c-.78.78-.78 2.05 0 2.83L4 21.41c.39.39.9.59 1.41.59.51 0 1.02-.2 1.41-.59l7.78-7.78 2.81-2.81c.8-.78.8-2.07 0-2.86zM5.41 20L4 18.59l7.72-7.72 1.47 1.35L5.41 20z\"/>\n",
              "  </svg>\n",
              "      </button>\n",
              "      \n",
              "  <style>\n",
              "    .colab-df-container {\n",
              "      display:flex;\n",
              "      flex-wrap:wrap;\n",
              "      gap: 12px;\n",
              "    }\n",
              "\n",
              "    .colab-df-convert {\n",
              "      background-color: #E8F0FE;\n",
              "      border: none;\n",
              "      border-radius: 50%;\n",
              "      cursor: pointer;\n",
              "      display: none;\n",
              "      fill: #1967D2;\n",
              "      height: 32px;\n",
              "      padding: 0 0 0 0;\n",
              "      width: 32px;\n",
              "    }\n",
              "\n",
              "    .colab-df-convert:hover {\n",
              "      background-color: #E2EBFA;\n",
              "      box-shadow: 0px 1px 2px rgba(60, 64, 67, 0.3), 0px 1px 3px 1px rgba(60, 64, 67, 0.15);\n",
              "      fill: #174EA6;\n",
              "    }\n",
              "\n",
              "    [theme=dark] .colab-df-convert {\n",
              "      background-color: #3B4455;\n",
              "      fill: #D2E3FC;\n",
              "    }\n",
              "\n",
              "    [theme=dark] .colab-df-convert:hover {\n",
              "      background-color: #434B5C;\n",
              "      box-shadow: 0px 1px 3px 1px rgba(0, 0, 0, 0.15);\n",
              "      filter: drop-shadow(0px 1px 2px rgba(0, 0, 0, 0.3));\n",
              "      fill: #FFFFFF;\n",
              "    }\n",
              "  </style>\n",
              "\n",
              "      <script>\n",
              "        const buttonEl =\n",
              "          document.querySelector('#df-38e553b2-f279-4dc5-8822-afdaef8b00ec button.colab-df-convert');\n",
              "        buttonEl.style.display =\n",
              "          google.colab.kernel.accessAllowed ? 'block' : 'none';\n",
              "\n",
              "        async function convertToInteractive(key) {\n",
              "          const element = document.querySelector('#df-38e553b2-f279-4dc5-8822-afdaef8b00ec');\n",
              "          const dataTable =\n",
              "            await google.colab.kernel.invokeFunction('convertToInteractive',\n",
              "                                                     [key], {});\n",
              "          if (!dataTable) return;\n",
              "\n",
              "          const docLinkHtml = 'Like what you see? Visit the ' +\n",
              "            '<a target=\"_blank\" href=https://colab.research.google.com/notebooks/data_table.ipynb>data table notebook</a>'\n",
              "            + ' to learn more about interactive tables.';\n",
              "          element.innerHTML = '';\n",
              "          dataTable['output_type'] = 'display_data';\n",
              "          await google.colab.output.renderOutput(dataTable, element);\n",
              "          const docLink = document.createElement('div');\n",
              "          docLink.innerHTML = docLinkHtml;\n",
              "          element.appendChild(docLink);\n",
              "        }\n",
              "      </script>\n",
              "    </div>\n",
              "  </div>\n",
              "  "
            ]
          },
          "metadata": {},
          "execution_count": 7
        }
      ]
    },
    {
      "cell_type": "code",
      "source": [
        "df.info()"
      ],
      "metadata": {
        "colab": {
          "base_uri": "https://localhost:8080/"
        },
        "id": "g-UIQFsFGPQm",
        "outputId": "3c7365d3-47d0-4ddd-a1da-1a08f98f20fb"
      },
      "execution_count": null,
      "outputs": [
        {
          "output_type": "stream",
          "name": "stdout",
          "text": [
            "<class 'pandas.core.frame.DataFrame'>\n",
            "RangeIndex: 768 entries, 0 to 767\n",
            "Data columns (total 9 columns):\n",
            " #   Column                    Non-Null Count  Dtype  \n",
            "---  ------                    --------------  -----  \n",
            " 0   Pregnancies               768 non-null    int64  \n",
            " 1   Glucose                   768 non-null    int64  \n",
            " 2   BloodPressure             768 non-null    int64  \n",
            " 3   SkinThickness             768 non-null    int64  \n",
            " 4   Insulin                   768 non-null    int64  \n",
            " 5   BMI                       768 non-null    float64\n",
            " 6   DiabetesPedigreeFunction  768 non-null    float64\n",
            " 7   Age                       768 non-null    int64  \n",
            " 8   Outcome                   768 non-null    int64  \n",
            "dtypes: float64(2), int64(7)\n",
            "memory usage: 54.1 KB\n"
          ]
        }
      ]
    },
    {
      "cell_type": "code",
      "source": [
        "df.isnull().sum()"
      ],
      "metadata": {
        "colab": {
          "base_uri": "https://localhost:8080/"
        },
        "id": "dK42kMMmGxgF",
        "outputId": "d3535455-7906-465c-b391-41f7d51c3903"
      },
      "execution_count": null,
      "outputs": [
        {
          "output_type": "execute_result",
          "data": {
            "text/plain": [
              "Pregnancies                 0\n",
              "Glucose                     0\n",
              "BloodPressure               0\n",
              "SkinThickness               0\n",
              "Insulin                     0\n",
              "BMI                         0\n",
              "DiabetesPedigreeFunction    0\n",
              "Age                         0\n",
              "Outcome                     0\n",
              "dtype: int64"
            ]
          },
          "metadata": {},
          "execution_count": 9
        }
      ]
    },
    {
      "cell_type": "code",
      "source": [
        "y = df[\"Outcome\"]\n",
        "X = df.drop([\"Outcome\"], axis=1)\n",
        "\n",
        "cart_model = DecisionTreeClassifier(random_state=1).fit(X, y)\n",
        "\n",
        "#random_state=1 ortak çıktı elde edilmek için yazıldı özel bir amacı yok"
      ],
      "metadata": {
        "id": "_ViVDocNGzWr"
      },
      "execution_count": null,
      "outputs": []
    },
    {
      "cell_type": "code",
      "source": [
        "# Confusion matrix için y_pred:\n",
        "y_pred = cart_model.predict(X)"
      ],
      "metadata": {
        "id": "tsFOIne-G3Ko"
      },
      "execution_count": null,
      "outputs": []
    },
    {
      "cell_type": "code",
      "source": [
        "# AUC için y_prob:\n",
        "y_prob = cart_model.predict_proba(X)[:, 1]"
      ],
      "metadata": {
        "id": "vpRQQLOwG4_u"
      },
      "execution_count": null,
      "outputs": []
    },
    {
      "cell_type": "code",
      "source": [
        "# Confusion matrix\n",
        "print(classification_report(y, y_pred))"
      ],
      "metadata": {
        "colab": {
          "base_uri": "https://localhost:8080/"
        },
        "id": "sA5OaOF-G6yP",
        "outputId": "71b47680-8bba-43a0-9b3a-f776f6d35f0b"
      },
      "execution_count": null,
      "outputs": [
        {
          "output_type": "stream",
          "name": "stdout",
          "text": [
            "              precision    recall  f1-score   support\n",
            "\n",
            "           0       1.00      1.00      1.00       500\n",
            "           1       1.00      1.00      1.00       268\n",
            "\n",
            "    accuracy                           1.00       768\n",
            "   macro avg       1.00      1.00      1.00       768\n",
            "weighted avg       1.00      1.00      1.00       768\n",
            "\n"
          ]
        }
      ]
    },
    {
      "cell_type": "markdown",
      "source": [
        "# MODEL BAŞARISI 1 ÇIKTI NASIL YANİ ?? bu terslikte bir iş var gibi :)\n",
        "\n",
        "## Başarımı nasıl doğru değerlendiririm ??"
      ],
      "metadata": {
        "id": "vsnYmNueJN4z"
      }
    },
    {
      "cell_type": "code",
      "source": [
        "# Holdout Yöntemi ile Başarı Değerlendirme\n",
        "X_train, X_test, y_train, y_test = train_test_split(X, y, test_size=0.30, random_state=45)"
      ],
      "metadata": {
        "id": "pbNSYDt8G-aS"
      },
      "execution_count": null,
      "outputs": []
    },
    {
      "cell_type": "code",
      "source": [
        "cart_model = DecisionTreeClassifier(random_state=17).fit(X_train, y_train)"
      ],
      "metadata": {
        "id": "B6fww9zWJy_b"
      },
      "execution_count": null,
      "outputs": []
    },
    {
      "cell_type": "code",
      "source": [
        "# AUC\n",
        "roc_auc_score(y, y_prob)"
      ],
      "metadata": {
        "colab": {
          "base_uri": "https://localhost:8080/"
        },
        "id": "CW8jmKk3G8TL",
        "outputId": "51caf725-dd21-46ee-8775-17acc062bc01"
      },
      "execution_count": null,
      "outputs": [
        {
          "output_type": "execute_result",
          "data": {
            "text/plain": [
              "1.0"
            ]
          },
          "metadata": {},
          "execution_count": 16
        }
      ]
    },
    {
      "cell_type": "code",
      "source": [
        "# Train Hatası\n",
        "y_pred = cart_model.predict(X_train)\n",
        "y_prob = cart_model.predict_proba(X_train)[:, 1]\n",
        "print(classification_report(y_train, y_pred))"
      ],
      "metadata": {
        "colab": {
          "base_uri": "https://localhost:8080/"
        },
        "id": "_fIn8ydzHB1y",
        "outputId": "c4d61e9b-150a-4a6a-c039-9ddd868f5f2b"
      },
      "execution_count": null,
      "outputs": [
        {
          "output_type": "stream",
          "name": "stdout",
          "text": [
            "              precision    recall  f1-score   support\n",
            "\n",
            "           0       1.00      1.00      1.00       346\n",
            "           1       1.00      1.00      1.00       191\n",
            "\n",
            "    accuracy                           1.00       537\n",
            "   macro avg       1.00      1.00      1.00       537\n",
            "weighted avg       1.00      1.00      1.00       537\n",
            "\n"
          ]
        }
      ]
    },
    {
      "cell_type": "code",
      "source": [
        "roc_auc_score(y_train, y_prob)"
      ],
      "metadata": {
        "colab": {
          "base_uri": "https://localhost:8080/"
        },
        "id": "bSbdIQPYHDs_",
        "outputId": "86ede013-506a-42f6-9ce6-d2013f8a46c5"
      },
      "execution_count": null,
      "outputs": [
        {
          "output_type": "execute_result",
          "data": {
            "text/plain": [
              "1.0"
            ]
          },
          "metadata": {},
          "execution_count": 18
        }
      ]
    },
    {
      "cell_type": "code",
      "source": [
        "# Test Hatası\n",
        "y_pred = cart_model.predict(X_test)  # modelin hiç görmediği test setini gönderiyoruz\n",
        "y_prob = cart_model.predict_proba(X_test)[:, 1]\n",
        "print(classification_report(y_test, y_pred))\n",
        "roc_auc_score(y_test, y_prob)"
      ],
      "metadata": {
        "colab": {
          "base_uri": "https://localhost:8080/"
        },
        "id": "fo9BfC8mHGJQ",
        "outputId": "551ecadd-dda3-4251-8ad0-371218b0d205"
      },
      "execution_count": null,
      "outputs": [
        {
          "output_type": "stream",
          "name": "stdout",
          "text": [
            "              precision    recall  f1-score   support\n",
            "\n",
            "           0       0.77      0.75      0.76       154\n",
            "           1       0.53      0.56      0.54        77\n",
            "\n",
            "    accuracy                           0.69       231\n",
            "   macro avg       0.65      0.66      0.65       231\n",
            "weighted avg       0.69      0.69      0.69       231\n",
            "\n"
          ]
        },
        {
          "output_type": "execute_result",
          "data": {
            "text/plain": [
              "0.6558441558441559"
            ]
          },
          "metadata": {},
          "execution_count": 19
        }
      ]
    },
    {
      "cell_type": "markdown",
      "source": [
        "# Model göremediği test setinde çalışınca overfit oldu. ! \n",
        "\n",
        "acc değeri : 0.69 iyi de değil kötüde değil"
      ],
      "metadata": {
        "id": "RuKIMs0iKQc6"
      }
    },
    {
      "cell_type": "code",
      "source": [
        "# CV ile Başarı Değerlendirme\n",
        "cart_model = DecisionTreeClassifier(random_state=17).fit(X, y)\n",
        "\n",
        "#cart_model sonunda fit yazdık o yüzden ezberledi gibi bir soru olabilir fakat cv yöntemi kendi tekrar parçalayıp böldüğü için sorun olmayacaktır.\n",
        "\n",
        "cv_results = cross_validate(cart_model,\n",
        "                            X, y,\n",
        "                            cv=5,\n",
        "                            scoring=[\"accuracy\", \"f1\", \"roc_auc\"])"
      ],
      "metadata": {
        "id": "xKtv7HT0HIKR"
      },
      "execution_count": null,
      "outputs": []
    },
    {
      "cell_type": "code",
      "source": [
        "cv_results['test_accuracy'].mean()"
      ],
      "metadata": {
        "colab": {
          "base_uri": "https://localhost:8080/"
        },
        "id": "B3I23uPqLIKg",
        "outputId": "9966e184-293a-4e0a-9b83-428955320df5"
      },
      "execution_count": null,
      "outputs": [
        {
          "output_type": "execute_result",
          "data": {
            "text/plain": [
              "0.7058568882098294"
            ]
          },
          "metadata": {},
          "execution_count": 21
        }
      ]
    },
    {
      "cell_type": "code",
      "source": [
        "cv_results['test_f1'].mean()"
      ],
      "metadata": {
        "colab": {
          "base_uri": "https://localhost:8080/"
        },
        "id": "uSzFcZ5ALJ_C",
        "outputId": "9e8e7831-6156-4d87-a02e-c9716611c7a0"
      },
      "execution_count": null,
      "outputs": [
        {
          "output_type": "execute_result",
          "data": {
            "text/plain": [
              "0.5710621194523633"
            ]
          },
          "metadata": {},
          "execution_count": 22
        }
      ]
    },
    {
      "cell_type": "code",
      "source": [
        "cv_results['test_roc_auc'].mean()"
      ],
      "metadata": {
        "colab": {
          "base_uri": "https://localhost:8080/"
        },
        "id": "2OBzCiuRLLpA",
        "outputId": "ebd04a2f-df8c-4028-c80c-ae092f13c260"
      },
      "execution_count": null,
      "outputs": [
        {
          "output_type": "execute_result",
          "data": {
            "text/plain": [
              "0.6719440950384347"
            ]
          },
          "metadata": {},
          "execution_count": 23
        }
      ]
    },
    {
      "cell_type": "code",
      "source": [
        "# 4. Hyperparameter Optimization with GridSearchCV\n",
        "cart_model.get_params()\n",
        "\n",
        "#overfit önüne geçmek için max_depth ve min_samples_split önemli parametredir!"
      ],
      "metadata": {
        "colab": {
          "base_uri": "https://localhost:8080/"
        },
        "id": "MeruOKOxLNYK",
        "outputId": "c45ea2a2-e934-49ec-ad41-95ebaefcff88"
      },
      "execution_count": null,
      "outputs": [
        {
          "output_type": "execute_result",
          "data": {
            "text/plain": [
              "{'ccp_alpha': 0.0,\n",
              " 'class_weight': None,\n",
              " 'criterion': 'gini',\n",
              " 'max_depth': None,\n",
              " 'max_features': None,\n",
              " 'max_leaf_nodes': None,\n",
              " 'min_impurity_decrease': 0.0,\n",
              " 'min_samples_leaf': 1,\n",
              " 'min_samples_split': 2,\n",
              " 'min_weight_fraction_leaf': 0.0,\n",
              " 'random_state': 17,\n",
              " 'splitter': 'best'}"
            ]
          },
          "metadata": {},
          "execution_count": 24
        }
      ]
    },
    {
      "cell_type": "code",
      "source": [
        "cart_params = {'max_depth': range(1, 11),\n",
        "               \"min_samples_split\": range(2, 20)}"
      ],
      "metadata": {
        "id": "bieVkl3uQaPJ"
      },
      "execution_count": null,
      "outputs": []
    },
    {
      "cell_type": "code",
      "source": [
        "cart_best_grid = GridSearchCV(cart_model,\n",
        "                              cart_params,\n",
        "                              scoring=\"f1\",\n",
        "                              cv=5,\n",
        "                              n_jobs=-1,\n",
        "                              verbose=True).fit(X, y)"
      ],
      "metadata": {
        "colab": {
          "base_uri": "https://localhost:8080/"
        },
        "id": "1sBaUgAFSRL8",
        "outputId": "3feaf2c1-6e88-43b0-a252-a3626aeef515"
      },
      "execution_count": null,
      "outputs": [
        {
          "output_type": "stream",
          "name": "stdout",
          "text": [
            "Fitting 5 folds for each of 180 candidates, totalling 900 fits\n"
          ]
        }
      ]
    },
    {
      "cell_type": "code",
      "source": [
        "cart_best_grid.best_params_"
      ],
      "metadata": {
        "colab": {
          "base_uri": "https://localhost:8080/"
        },
        "id": "kI72ICgZRcKr",
        "outputId": "0260b513-cf7a-4ceb-e1d5-e605a9688601"
      },
      "execution_count": null,
      "outputs": [
        {
          "output_type": "execute_result",
          "data": {
            "text/plain": [
              "{'max_depth': 4, 'min_samples_split': 2}"
            ]
          },
          "metadata": {},
          "execution_count": 27
        }
      ]
    },
    {
      "cell_type": "code",
      "source": [
        "cart_best_grid.best_score_\n",
        "\n",
        "# 0.6395752751155839 bu değer GridSeacrh içindeki scoring dir ön tanımlı olarak accuracy verir. scoring =\"f1\" de diyip değiştiredebilirsin.\n",
        "# scoring =\"roc_auc\" göre yaparsan farklı sonuç alırsın."
      ],
      "metadata": {
        "colab": {
          "base_uri": "https://localhost:8080/"
        },
        "id": "pjaiIzbGReG2",
        "outputId": "7f43ba76-0b1b-4513-d22b-7111fe2169b6"
      },
      "execution_count": null,
      "outputs": [
        {
          "output_type": "execute_result",
          "data": {
            "text/plain": [
              "0.6395752751155839"
            ]
          },
          "metadata": {},
          "execution_count": 28
        }
      ]
    },
    {
      "cell_type": "code",
      "source": [
        "cart_best_grid = GridSearchCV(cart_model,\n",
        "                              cart_params,\n",
        "                              cv=5,\n",
        "                              n_jobs=-1,\n",
        "                              verbose=2).fit(X, y)\n",
        "\n",
        "# verbose raporlamanın türünü ifade ediyor. ister verbose=True de ister verbose=1. verbose=2 dersen eşleştirme dökumanı çıkar.\n",
        "#cart_best_grid  GridSeacrh içinde en iyi modeli saklar"
      ],
      "metadata": {
        "colab": {
          "base_uri": "https://localhost:8080/"
        },
        "id": "QrEjvvrvP8L0",
        "outputId": "991cc604-d532-475f-9ead-cb2082e0c108"
      },
      "execution_count": null,
      "outputs": [
        {
          "output_type": "stream",
          "name": "stdout",
          "text": [
            "Fitting 5 folds for each of 180 candidates, totalling 900 fits\n"
          ]
        }
      ]
    },
    {
      "cell_type": "code",
      "source": [
        "cart_best_grid.best_params_"
      ],
      "metadata": {
        "colab": {
          "base_uri": "https://localhost:8080/"
        },
        "id": "tGAmu0Q0SdZv",
        "outputId": "ac2071d2-77f3-40c8-c0ad-56f36d577f17"
      },
      "execution_count": null,
      "outputs": [
        {
          "output_type": "execute_result",
          "data": {
            "text/plain": [
              "{'max_depth': 5, 'min_samples_split': 4}"
            ]
          },
          "metadata": {},
          "execution_count": 30
        }
      ]
    },
    {
      "cell_type": "code",
      "source": [
        "cart_best_grid.best_score_"
      ],
      "metadata": {
        "colab": {
          "base_uri": "https://localhost:8080/"
        },
        "id": "qlDLqbtSSgiJ",
        "outputId": "5d4e1ab2-ef09-4d40-a89a-c47267f148a1"
      },
      "execution_count": null,
      "outputs": [
        {
          "output_type": "execute_result",
          "data": {
            "text/plain": [
              "0.7500806383159324"
            ]
          },
          "metadata": {},
          "execution_count": 31
        }
      ]
    },
    {
      "cell_type": "code",
      "source": [
        "random = X.sample(1, random_state=45)\n",
        "random"
      ],
      "metadata": {
        "colab": {
          "base_uri": "https://localhost:8080/",
          "height": 81
        },
        "id": "vWePnfr_TjbL",
        "outputId": "909c515b-8393-44d1-e0ef-f374c33db639"
      },
      "execution_count": null,
      "outputs": [
        {
          "output_type": "execute_result",
          "data": {
            "text/plain": [
              "     Pregnancies  Glucose  BloodPressure  SkinThickness  Insulin   BMI  DiabetesPedigreeFunction  Age\n",
              "195            5      158             84             41      210  39.4                     0.395   29"
            ],
            "text/html": [
              "\n",
              "  <div id=\"df-6724052e-0ded-47f7-870e-485c500bd175\">\n",
              "    <div class=\"colab-df-container\">\n",
              "      <div>\n",
              "<style scoped>\n",
              "    .dataframe tbody tr th:only-of-type {\n",
              "        vertical-align: middle;\n",
              "    }\n",
              "\n",
              "    .dataframe tbody tr th {\n",
              "        vertical-align: top;\n",
              "    }\n",
              "\n",
              "    .dataframe thead th {\n",
              "        text-align: right;\n",
              "    }\n",
              "</style>\n",
              "<table border=\"1\" class=\"dataframe\">\n",
              "  <thead>\n",
              "    <tr style=\"text-align: right;\">\n",
              "      <th></th>\n",
              "      <th>Pregnancies</th>\n",
              "      <th>Glucose</th>\n",
              "      <th>BloodPressure</th>\n",
              "      <th>SkinThickness</th>\n",
              "      <th>Insulin</th>\n",
              "      <th>BMI</th>\n",
              "      <th>DiabetesPedigreeFunction</th>\n",
              "      <th>Age</th>\n",
              "    </tr>\n",
              "  </thead>\n",
              "  <tbody>\n",
              "    <tr>\n",
              "      <th>195</th>\n",
              "      <td>5</td>\n",
              "      <td>158</td>\n",
              "      <td>84</td>\n",
              "      <td>41</td>\n",
              "      <td>210</td>\n",
              "      <td>39.4</td>\n",
              "      <td>0.395</td>\n",
              "      <td>29</td>\n",
              "    </tr>\n",
              "  </tbody>\n",
              "</table>\n",
              "</div>\n",
              "      <button class=\"colab-df-convert\" onclick=\"convertToInteractive('df-6724052e-0ded-47f7-870e-485c500bd175')\"\n",
              "              title=\"Convert this dataframe to an interactive table.\"\n",
              "              style=\"display:none;\">\n",
              "        \n",
              "  <svg xmlns=\"http://www.w3.org/2000/svg\" height=\"24px\"viewBox=\"0 0 24 24\"\n",
              "       width=\"24px\">\n",
              "    <path d=\"M0 0h24v24H0V0z\" fill=\"none\"/>\n",
              "    <path d=\"M18.56 5.44l.94 2.06.94-2.06 2.06-.94-2.06-.94-.94-2.06-.94 2.06-2.06.94zm-11 1L8.5 8.5l.94-2.06 2.06-.94-2.06-.94L8.5 2.5l-.94 2.06-2.06.94zm10 10l.94 2.06.94-2.06 2.06-.94-2.06-.94-.94-2.06-.94 2.06-2.06.94z\"/><path d=\"M17.41 7.96l-1.37-1.37c-.4-.4-.92-.59-1.43-.59-.52 0-1.04.2-1.43.59L10.3 9.45l-7.72 7.72c-.78.78-.78 2.05 0 2.83L4 21.41c.39.39.9.59 1.41.59.51 0 1.02-.2 1.41-.59l7.78-7.78 2.81-2.81c.8-.78.8-2.07 0-2.86zM5.41 20L4 18.59l7.72-7.72 1.47 1.35L5.41 20z\"/>\n",
              "  </svg>\n",
              "      </button>\n",
              "      \n",
              "  <style>\n",
              "    .colab-df-container {\n",
              "      display:flex;\n",
              "      flex-wrap:wrap;\n",
              "      gap: 12px;\n",
              "    }\n",
              "\n",
              "    .colab-df-convert {\n",
              "      background-color: #E8F0FE;\n",
              "      border: none;\n",
              "      border-radius: 50%;\n",
              "      cursor: pointer;\n",
              "      display: none;\n",
              "      fill: #1967D2;\n",
              "      height: 32px;\n",
              "      padding: 0 0 0 0;\n",
              "      width: 32px;\n",
              "    }\n",
              "\n",
              "    .colab-df-convert:hover {\n",
              "      background-color: #E2EBFA;\n",
              "      box-shadow: 0px 1px 2px rgba(60, 64, 67, 0.3), 0px 1px 3px 1px rgba(60, 64, 67, 0.15);\n",
              "      fill: #174EA6;\n",
              "    }\n",
              "\n",
              "    [theme=dark] .colab-df-convert {\n",
              "      background-color: #3B4455;\n",
              "      fill: #D2E3FC;\n",
              "    }\n",
              "\n",
              "    [theme=dark] .colab-df-convert:hover {\n",
              "      background-color: #434B5C;\n",
              "      box-shadow: 0px 1px 3px 1px rgba(0, 0, 0, 0.15);\n",
              "      filter: drop-shadow(0px 1px 2px rgba(0, 0, 0, 0.3));\n",
              "      fill: #FFFFFF;\n",
              "    }\n",
              "  </style>\n",
              "\n",
              "      <script>\n",
              "        const buttonEl =\n",
              "          document.querySelector('#df-6724052e-0ded-47f7-870e-485c500bd175 button.colab-df-convert');\n",
              "        buttonEl.style.display =\n",
              "          google.colab.kernel.accessAllowed ? 'block' : 'none';\n",
              "\n",
              "        async function convertToInteractive(key) {\n",
              "          const element = document.querySelector('#df-6724052e-0ded-47f7-870e-485c500bd175');\n",
              "          const dataTable =\n",
              "            await google.colab.kernel.invokeFunction('convertToInteractive',\n",
              "                                                     [key], {});\n",
              "          if (!dataTable) return;\n",
              "\n",
              "          const docLinkHtml = 'Like what you see? Visit the ' +\n",
              "            '<a target=\"_blank\" href=https://colab.research.google.com/notebooks/data_table.ipynb>data table notebook</a>'\n",
              "            + ' to learn more about interactive tables.';\n",
              "          element.innerHTML = '';\n",
              "          dataTable['output_type'] = 'display_data';\n",
              "          await google.colab.output.renderOutput(dataTable, element);\n",
              "          const docLink = document.createElement('div');\n",
              "          docLink.innerHTML = docLinkHtml;\n",
              "          element.appendChild(docLink);\n",
              "        }\n",
              "      </script>\n",
              "    </div>\n",
              "  </div>\n",
              "  "
            ]
          },
          "metadata": {},
          "execution_count": 32
        }
      ]
    },
    {
      "cell_type": "code",
      "source": [
        "cart_best_grid.predict(random)"
      ],
      "metadata": {
        "colab": {
          "base_uri": "https://localhost:8080/"
        },
        "id": "-BluserkLQ32",
        "outputId": "06785613-095c-4e6b-e4d7-bc90c0279d57"
      },
      "execution_count": null,
      "outputs": [
        {
          "output_type": "execute_result",
          "data": {
            "text/plain": [
              "array([1])"
            ]
          },
          "metadata": {},
          "execution_count": 33
        }
      ]
    },
    {
      "cell_type": "code",
      "source": [
        "# 5. Final Model\n",
        "cart_final = DecisionTreeClassifier(**cart_best_grid.best_params_, random_state=17).fit(X, y)\n",
        "cart_final.get_params()"
      ],
      "metadata": {
        "colab": {
          "base_uri": "https://localhost:8080/"
        },
        "id": "UOuWkn1WLT4E",
        "outputId": "d086e094-95fd-477c-f389-7ad0dd08eb53"
      },
      "execution_count": null,
      "outputs": [
        {
          "output_type": "execute_result",
          "data": {
            "text/plain": [
              "{'ccp_alpha': 0.0,\n",
              " 'class_weight': None,\n",
              " 'criterion': 'gini',\n",
              " 'max_depth': 5,\n",
              " 'max_features': None,\n",
              " 'max_leaf_nodes': None,\n",
              " 'min_impurity_decrease': 0.0,\n",
              " 'min_samples_leaf': 1,\n",
              " 'min_samples_split': 4,\n",
              " 'min_weight_fraction_leaf': 0.0,\n",
              " 'random_state': 17,\n",
              " 'splitter': 'best'}"
            ]
          },
          "metadata": {},
          "execution_count": 34
        }
      ]
    },
    {
      "cell_type": "code",
      "source": [
        "cart_final = cart_model.set_params(**cart_best_grid.best_params_).fit(X, y)\n",
        "cart_final\n",
        "# (cart_best_grid.best_params_) parametreleri var olan modele göre set edebilirim. "
      ],
      "metadata": {
        "colab": {
          "base_uri": "https://localhost:8080/"
        },
        "id": "xAnBjsZyLX9c",
        "outputId": "68b35cd3-39ed-4857-fc91-7752b2ffc850"
      },
      "execution_count": null,
      "outputs": [
        {
          "output_type": "execute_result",
          "data": {
            "text/plain": [
              "DecisionTreeClassifier(max_depth=5, min_samples_split=4, random_state=17)"
            ]
          },
          "metadata": {},
          "execution_count": 35
        }
      ]
    },
    {
      "cell_type": "code",
      "source": [
        "cv_results = cross_validate(cart_final,\n",
        "                            X, y,\n",
        "                            cv=5,\n",
        "                            scoring=[\"accuracy\", \"f1\", \"roc_auc\"])\n",
        "cv_results #sonuç karışık geldiği için içinden ortalama alıp seçmen gerekiyor"
      ],
      "metadata": {
        "colab": {
          "base_uri": "https://localhost:8080/"
        },
        "id": "n_6i4Dl1LaCg",
        "outputId": "5f2c713b-01a7-473c-f404-1789e3c90bfd"
      },
      "execution_count": null,
      "outputs": [
        {
          "output_type": "execute_result",
          "data": {
            "text/plain": [
              "{'fit_time': array([0.01401925, 0.02041006, 0.01624393, 0.00905991, 0.00643492]),\n",
              " 'score_time': array([0.01883006, 0.01742101, 0.00999808, 0.00844932, 0.00800538]),\n",
              " 'test_accuracy': array([0.74675325, 0.68831169, 0.75324675, 0.79084967, 0.77124183]),\n",
              " 'test_f1': array([0.59793814, 0.55555556, 0.59574468, 0.69230769, 0.63157895]),\n",
              " 'test_roc_auc': array([0.81537037, 0.72333333, 0.80518519, 0.83962264, 0.8054717 ])}"
            ]
          },
          "metadata": {},
          "execution_count": 36
        }
      ]
    },
    {
      "cell_type": "code",
      "source": [
        "cv_results['test_accuracy'].mean()"
      ],
      "metadata": {
        "colab": {
          "base_uri": "https://localhost:8080/"
        },
        "id": "CNK0BcPwLbk1",
        "outputId": "4a4d8f1e-c0fa-47e8-a680-3f768cc53d20"
      },
      "execution_count": null,
      "outputs": [
        {
          "output_type": "execute_result",
          "data": {
            "text/plain": [
              "0.7500806383159324"
            ]
          },
          "metadata": {},
          "execution_count": 37
        }
      ]
    },
    {
      "cell_type": "code",
      "source": [
        "cv_results['test_f1'].mean()"
      ],
      "metadata": {
        "colab": {
          "base_uri": "https://localhost:8080/"
        },
        "id": "1WAHHHLnLdoA",
        "outputId": "7f745b83-6eab-42a4-c9d5-c044ac4dfb51"
      },
      "execution_count": null,
      "outputs": [
        {
          "output_type": "execute_result",
          "data": {
            "text/plain": [
              "0.614625004082526"
            ]
          },
          "metadata": {},
          "execution_count": 38
        }
      ]
    },
    {
      "cell_type": "code",
      "source": [
        "cv_results['test_roc_auc'].mean()"
      ],
      "metadata": {
        "colab": {
          "base_uri": "https://localhost:8080/"
        },
        "id": "y0qQQbLhLe92",
        "outputId": "dcdc2beb-da5c-4ad0-accc-476ce85b5fba"
      },
      "execution_count": null,
      "outputs": [
        {
          "output_type": "execute_result",
          "data": {
            "text/plain": [
              "0.797796645702306"
            ]
          },
          "metadata": {},
          "execution_count": 39
        }
      ]
    },
    {
      "cell_type": "code",
      "source": [
        "# 6. Feature Importance\n",
        "cart_final.feature_importances_\n",
        "\n",
        "def plot_importance(model, features, num=len(X), save=False):\n",
        "    feature_imp = pd.DataFrame({'Value': model.feature_importances_, 'Feature': features.columns})\n",
        "    plt.figure(figsize=(10, 10))\n",
        "    sns.set(font_scale=1)\n",
        "    sns.barplot(x=\"Value\", y=\"Feature\", data=feature_imp.sort_values(by=\"Value\",\n",
        "                                                                     ascending=False)[0:num])\n",
        "    plt.title('Features')\n",
        "    plt.tight_layout()\n",
        "    plt.show()\n",
        "    if save:\n",
        "        plt.savefig('importances.png')\n",
        "\n",
        "\n",
        "plot_importance(cart_final, X, num=5)"
      ],
      "metadata": {
        "colab": {
          "base_uri": "https://localhost:8080/",
          "height": 725
        },
        "id": "4NKqnXhnLgYg",
        "outputId": "74b5809e-4718-466c-9782-cd91ede05e80"
      },
      "execution_count": null,
      "outputs": [
        {
          "output_type": "display_data",
          "data": {
            "text/plain": [
              "<Figure size 720x720 with 1 Axes>"
            ],
            "image/png": "[encoded data removed]"
          },
          "metadata": {
            "needs_background": "light"
          }
        }
      ]
    },
    {
      "cell_type": "code",
      "source": [
        "# 7. Analyzing Model Complexity with Learning Curves (BONUS)\n",
        "train_score, test_score = validation_curve(cart_final, X, y,\n",
        "                                           param_name=\"max_depth\",\n",
        "                                           param_range=range(1, 11),\n",
        "                                           scoring=\"roc_auc\",\n",
        "                                           cv=10)"
      ],
      "metadata": {
        "id": "lvmX1aquLnO5"
      },
      "execution_count": null,
      "outputs": []
    },
    {
      "cell_type": "code",
      "source": [
        "mean_train_score = np.mean(train_score, axis=1)\n",
        "mean_test_score = np.mean(test_score, axis=1)"
      ],
      "metadata": {
        "id": "H5TgpqoxLsXI"
      },
      "execution_count": null,
      "outputs": []
    },
    {
      "cell_type": "code",
      "source": [
        "plt.plot(range(1, 11), mean_train_score,\n",
        "         label=\"Training Score\", color='b')\n",
        "\n",
        "plt.plot(range(1, 11), mean_test_score,\n",
        "         label=\"Validation Score\", color='g')\n",
        "\n",
        "plt.title(\"Validation Curve for CART\")\n",
        "plt.xlabel(\"Number of max_depth\")\n",
        "plt.ylabel(\"AUC\")\n",
        "plt.tight_layout()\n",
        "plt.legend(loc='best')\n",
        "plt.show()"
      ],
      "metadata": {
        "colab": {
          "base_uri": "https://localhost:8080/",
          "height": 293
        },
        "id": "5U4mNlBQLt4j",
        "outputId": "7129461c-2b20-4158-e2c1-8cb480f23a0b"
      },
      "execution_count": null,
      "outputs": [
        {
          "output_type": "display_data",
          "data": {
            "text/plain": [
              "<Figure size 432x288 with 1 Axes>"
            ],
            "image/png": "[encoded data removed]"
          },
          "metadata": {}
        }
      ]
    },
    {
      "cell_type": "code",
      "source": [
        "def val_curve_params(model, X, y, param_name, param_range, scoring=\"roc_auc\", cv=10):\n",
        "    train_score, test_score = validation_curve(\n",
        "        model, X=X, y=y, param_name=param_name, param_range=param_range, scoring=scoring, cv=cv)\n",
        "\n",
        "    mean_train_score = np.mean(train_score, axis=1)\n",
        "    mean_test_score = np.mean(test_score, axis=1)\n",
        "\n",
        "    plt.plot(param_range, mean_train_score,\n",
        "             label=\"Training Score\", color='b')\n",
        "\n",
        "    plt.plot(param_range, mean_test_score,\n",
        "             label=\"Validation Score\", color='g')\n",
        "\n",
        "    plt.title(f\"Validation Curve for {type(model).__name__}\")\n",
        "    plt.xlabel(f\"Number of {param_name}\")\n",
        "    plt.ylabel(f\"{scoring}\")\n",
        "    plt.tight_layout()\n",
        "    plt.legend(loc='best')\n",
        "    plt.show(block=True)"
      ],
      "metadata": {
        "id": "FrO0J9_ALvzF"
      },
      "execution_count": null,
      "outputs": []
    },
    {
      "cell_type": "code",
      "source": [
        "val_curve_params(cart_final, X, y, \"max_depth\", range(1, 11), scoring=\"f1\")"
      ],
      "metadata": {
        "colab": {
          "base_uri": "https://localhost:8080/",
          "height": 293
        },
        "id": "NU9luOcjor34",
        "outputId": "bd0857fd-00af-476a-fb5d-9581c0da6589"
      },
      "execution_count": null,
      "outputs": [
        {
          "output_type": "display_data",
          "data": {
            "text/plain": [
              "<Figure size 432x288 with 1 Axes>"
            ],
            "image/png": "[encoded data removed]"
          },
          "metadata": {}
        }
      ]
    },
    {
      "cell_type": "code",
      "source": [
        "cart_val_params = [[\"max_depth\", range(1, 11)], [\"min_samples_split\", range(2, 20)]]\n",
        "\n",
        "for i in range(len(cart_val_params)):\n",
        "    val_curve_params(cart_model, X, y, cart_val_params[i][0], cart_val_params[i][1])"
      ],
      "metadata": {
        "colab": {
          "base_uri": "https://localhost:8080/",
          "height": 569
        },
        "id": "_Y9VNPKXLyAg",
        "outputId": "28659a9e-88c6-49c0-deac-cee727c04728"
      },
      "execution_count": null,
      "outputs": [
        {
          "output_type": "display_data",
          "data": {
            "text/plain": [
              "<Figure size 432x288 with 1 Axes>"
            ],
            "image/png": "[encoded data removed]"
          },
          "metadata": {}
        },
        {
          "output_type": "display_data",
          "data": {
            "text/plain": [
              "<Figure size 432x288 with 1 Axes>"
            ],
            "image/png": "[encoded data removed]"
          },
          "metadata": {}
        }
      ]
    },
    {
      "cell_type": "code",
      "source": [
        "# 8. Visualizing the Decision Tree\n",
        "def tree_graph(model, col_names, file_name):\n",
        "    tree_str = export_graphviz(model, feature_names=col_names, filled=True, out_file=None)\n",
        "    graph = pydotplus.graph_from_dot_data(tree_str)\n",
        "    graph.write_png(file_name)"
      ],
      "metadata": {
        "id": "-PRMc7far72O"
      },
      "execution_count": null,
      "outputs": []
    },
    {
      "cell_type": "code",
      "source": [
        "tree_graph(model=cart_final, col_names=X.columns, file_name=\"cart_final.png\")\n",
        "\n",
        "cart_final.get_params()"
      ],
      "metadata": {
        "colab": {
          "base_uri": "https://localhost:8080/"
        },
        "id": "h8CEk6QIL0AL",
        "outputId": "3b4b3720-59aa-486c-de14-745d72d91267"
      },
      "execution_count": null,
      "outputs": [
        {
          "output_type": "execute_result",
          "data": {
            "text/plain": [
              "{'ccp_alpha': 0.0,\n",
              " 'class_weight': None,\n",
              " 'criterion': 'gini',\n",
              " 'max_depth': 5,\n",
              " 'max_features': None,\n",
              " 'max_leaf_nodes': None,\n",
              " 'min_impurity_decrease': 0.0,\n",
              " 'min_samples_leaf': 1,\n",
              " 'min_samples_split': 4,\n",
              " 'min_weight_fraction_leaf': 0.0,\n",
              " 'random_state': 17,\n",
              " 'splitter': 'best'}"
            ]
          },
          "metadata": {},
          "execution_count": 52
        }
      ]
    },
    {
      "cell_type": "code",
      "source": [
        "# 9. Extracting Decision Rules\n",
        "tree_rules = export_text(cart_final, feature_names=list(X.columns))\n",
        "print(tree_rules)"
      ],
      "metadata": {
        "colab": {
          "base_uri": "https://localhost:8080/"
        },
        "id": "YIXQikbTL8yL",
        "outputId": "b29e55e9-9bd2-462e-a02e-16213905b119"
      },
      "execution_count": null,
      "outputs": [
        {
          "output_type": "stream",
          "name": "stdout",
          "text": [
            "|--- Glucose <= 127.50\n",
            "|   |--- Age <= 28.50\n",
            "|   |   |--- BMI <= 45.40\n",
            "|   |   |   |--- BMI <= 30.95\n",
            "|   |   |   |   |--- Pregnancies <= 7.50\n",
            "|   |   |   |   |   |--- class: 0\n",
            "|   |   |   |   |--- Pregnancies >  7.50\n",
            "|   |   |   |   |   |--- class: 1\n",
            "|   |   |   |--- BMI >  30.95\n",
            "|   |   |   |   |--- DiabetesPedigreeFunction <= 0.50\n",
            "|   |   |   |   |   |--- class: 0\n",
            "|   |   |   |   |--- DiabetesPedigreeFunction >  0.50\n",
            "|   |   |   |   |   |--- class: 0\n",
            "|   |   |--- BMI >  45.40\n",
            "|   |   |   |--- BloodPressure <= 99.00\n",
            "|   |   |   |   |--- class: 1\n",
            "|   |   |   |--- BloodPressure >  99.00\n",
            "|   |   |   |   |--- class: 0\n",
            "|   |--- Age >  28.50\n",
            "|   |   |--- BMI <= 26.35\n",
            "|   |   |   |--- BMI <= 9.65\n",
            "|   |   |   |   |--- class: 1\n",
            "|   |   |   |--- BMI >  9.65\n",
            "|   |   |   |   |--- class: 0\n",
            "|   |   |--- BMI >  26.35\n",
            "|   |   |   |--- Glucose <= 99.50\n",
            "|   |   |   |   |--- Glucose <= 28.50\n",
            "|   |   |   |   |   |--- class: 1\n",
            "|   |   |   |   |--- Glucose >  28.50\n",
            "|   |   |   |   |   |--- class: 0\n",
            "|   |   |   |--- Glucose >  99.50\n",
            "|   |   |   |   |--- DiabetesPedigreeFunction <= 0.56\n",
            "|   |   |   |   |   |--- class: 0\n",
            "|   |   |   |   |--- DiabetesPedigreeFunction >  0.56\n",
            "|   |   |   |   |   |--- class: 1\n",
            "|--- Glucose >  127.50\n",
            "|   |--- BMI <= 29.95\n",
            "|   |   |--- Glucose <= 145.50\n",
            "|   |   |   |--- Insulin <= 132.50\n",
            "|   |   |   |   |--- BMI <= 28.15\n",
            "|   |   |   |   |   |--- class: 0\n",
            "|   |   |   |   |--- BMI >  28.15\n",
            "|   |   |   |   |   |--- class: 1\n",
            "|   |   |   |--- Insulin >  132.50\n",
            "|   |   |   |   |--- class: 0\n",
            "|   |   |--- Glucose >  145.50\n",
            "|   |   |   |--- Age <= 25.50\n",
            "|   |   |   |   |--- class: 0\n",
            "|   |   |   |--- Age >  25.50\n",
            "|   |   |   |   |--- Age <= 61.00\n",
            "|   |   |   |   |   |--- class: 1\n",
            "|   |   |   |   |--- Age >  61.00\n",
            "|   |   |   |   |   |--- class: 0\n",
            "|   |--- BMI >  29.95\n",
            "|   |   |--- Glucose <= 157.50\n",
            "|   |   |   |--- Age <= 30.50\n",
            "|   |   |   |   |--- BloodPressure <= 61.00\n",
            "|   |   |   |   |   |--- class: 1\n",
            "|   |   |   |   |--- BloodPressure >  61.00\n",
            "|   |   |   |   |   |--- class: 0\n",
            "|   |   |   |--- Age >  30.50\n",
            "|   |   |   |   |--- DiabetesPedigreeFunction <= 0.43\n",
            "|   |   |   |   |   |--- class: 1\n",
            "|   |   |   |   |--- DiabetesPedigreeFunction >  0.43\n",
            "|   |   |   |   |   |--- class: 1\n",
            "|   |   |--- Glucose >  157.50\n",
            "|   |   |   |--- Insulin <= 629.50\n",
            "|   |   |   |   |--- DiabetesPedigreeFunction <= 0.30\n",
            "|   |   |   |   |   |--- class: 1\n",
            "|   |   |   |   |--- DiabetesPedigreeFunction >  0.30\n",
            "|   |   |   |   |   |--- class: 1\n",
            "|   |   |   |--- Insulin >  629.50\n",
            "|   |   |   |   |--- class: 0\n",
            "\n"
          ]
        }
      ]
    },
    {
      "cell_type": "code",
      "source": [
        "# 10. Extracting Python Codes of Decision Rules\n",
        "\n"
      ],
      "metadata": {
        "id": "Sbg7jYI1MAGA"
      },
      "execution_count": null,
      "outputs": []
    },
    {
      "cell_type": "code",
      "source": [
        ""
      ],
      "metadata": {
        "id": "AgnjtAciMFmA"
      },
      "execution_count": null,
      "outputs": []
    }
  ]
}