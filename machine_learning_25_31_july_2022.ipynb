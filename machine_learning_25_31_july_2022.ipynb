{
  "nbformat": 4,
  "nbformat_minor": 0,
  "metadata": {
    "colab": {
      "name": "machine_learning_25-31-july-2022.ipynb",
      "provenance": [],
      "collapsed_sections": []
    },
    "kernelspec": {
      "name": "python3",
      "display_name": "Python 3"
    },
    "language_info": {
      "name": "python"
    }
  },
  "cells": [
    {
      "cell_type": "markdown",
      "source": [
        "# Makine Öğrenmesine Giriş (Introduction to Machine Learning)\n",
        "\n",
        "Bilgisayarların insanlara benzer şekilde öğrenmesini sağlamak maksadıyla çeşitli algoritma ve tekniklerin geliştirilmesi için çalışılan bilimsel çalışma alanıdır.\n",
        "\n",
        "### **Değişken Türleri** (Variable Types)\n",
        "\n",
        "#### **Sayısal Değişkenler**\n",
        "\n",
        "#### **Kategorik Değişkenler** (Nominal, Ordinal)\n",
        "\n",
        "#### **Bağımlı Değişken** (target, dependent, output, response) : İlgilenilen\n",
        "\n",
        "#### **Bağımsız Değişken** (feature, independent, input, column, predictor, explanatory) : targetın oluşmasında etkili olduğunu varsaydığımız değişkenlerdir."
      ],
      "metadata": {
        "id": "Sb_gjIsBDJpo"
      }
    },
    {
      "cell_type": "code",
      "execution_count": null,
      "metadata": {
        "id": "FEeNs-30_rgq",
        "colab": {
          "base_uri": "https://localhost:8080/"
        },
        "outputId": "cba84c78-7558-4f69-f5ae-1277bbcaabfe"
      },
      "outputs": [
        {
          "output_type": "stream",
          "name": "stdout",
          "text": [
            "Drive already mounted at /content/gdrive; to attempt to forcibly remount, call drive.mount(\"/content/gdrive\", force_remount=True).\n"
          ]
        }
      ],
      "source": [
        "from google.colab import drive\n",
        "drive.mount(\"/content/gdrive\")"
      ]
    },
    {
      "cell_type": "code",
      "source": [
        "import numpy as np\n",
        "import pandas as pd\n",
        "import matplotlib.pyplot as plt\n",
        "import seaborn as sns\n",
        "\n",
        "pd.set_option('display.float_format', lambda x: '%.2f' % x)\n",
        "\n",
        "from sklearn.linear_model import LinearRegression\n",
        "from sklearn.metrics import mean_squared_error, mean_absolute_error\n",
        "from sklearn.model_selection import train_test_split, cross_val_score"
      ],
      "metadata": {
        "id": "fLAfXZKy7ukO"
      },
      "execution_count": null,
      "outputs": []
    },
    {
      "cell_type": "code",
      "source": [
        "df = pd.read_csv(\"/content/gdrive/My Drive/advertising.csv\")\n",
        "df.head()"
      ],
      "metadata": {
        "colab": {
          "base_uri": "https://localhost:8080/",
          "height": 206
        },
        "id": "DfZA4wOA8Iyg",
        "outputId": "420be3d2-f65b-429c-a152-42ce01489c1a"
      },
      "execution_count": null,
      "outputs": [
        {
          "output_type": "execute_result",
          "data": {
            "text/plain": [
              "      TV  radio  newspaper  sales\n",
              "1 230.10  37.80      69.20  22.10\n",
              "2  44.50  39.30      45.10  10.40\n",
              "3  17.20  45.90      69.30   9.30\n",
              "4 151.50  41.30      58.50  18.50\n",
              "5 180.80  10.80      58.40  12.90"
            ],
            "text/html": [
              "\n",
              "  <div id=\"df-6ad7533d-93e1-4d33-8a9a-86c94c5d30d2\">\n",
              "    <div class=\"colab-df-container\">\n",
              "      <div>\n",
              "<style scoped>\n",
              "    .dataframe tbody tr th:only-of-type {\n",
              "        vertical-align: middle;\n",
              "    }\n",
              "\n",
              "    .dataframe tbody tr th {\n",
              "        vertical-align: top;\n",
              "    }\n",
              "\n",
              "    .dataframe thead th {\n",
              "        text-align: right;\n",
              "    }\n",
              "</style>\n",
              "<table border=\"1\" class=\"dataframe\">\n",
              "  <thead>\n",
              "    <tr style=\"text-align: right;\">\n",
              "      <th></th>\n",
              "      <th>TV</th>\n",
              "      <th>radio</th>\n",
              "      <th>newspaper</th>\n",
              "      <th>sales</th>\n",
              "    </tr>\n",
              "  </thead>\n",
              "  <tbody>\n",
              "    <tr>\n",
              "      <th>1</th>\n",
              "      <td>230.10</td>\n",
              "      <td>37.80</td>\n",
              "      <td>69.20</td>\n",
              "      <td>22.10</td>\n",
              "    </tr>\n",
              "    <tr>\n",
              "      <th>2</th>\n",
              "      <td>44.50</td>\n",
              "      <td>39.30</td>\n",
              "      <td>45.10</td>\n",
              "      <td>10.40</td>\n",
              "    </tr>\n",
              "    <tr>\n",
              "      <th>3</th>\n",
              "      <td>17.20</td>\n",
              "      <td>45.90</td>\n",
              "      <td>69.30</td>\n",
              "      <td>9.30</td>\n",
              "    </tr>\n",
              "    <tr>\n",
              "      <th>4</th>\n",
              "      <td>151.50</td>\n",
              "      <td>41.30</td>\n",
              "      <td>58.50</td>\n",
              "      <td>18.50</td>\n",
              "    </tr>\n",
              "    <tr>\n",
              "      <th>5</th>\n",
              "      <td>180.80</td>\n",
              "      <td>10.80</td>\n",
              "      <td>58.40</td>\n",
              "      <td>12.90</td>\n",
              "    </tr>\n",
              "  </tbody>\n",
              "</table>\n",
              "</div>\n",
              "      <button class=\"colab-df-convert\" onclick=\"convertToInteractive('df-6ad7533d-93e1-4d33-8a9a-86c94c5d30d2')\"\n",
              "              title=\"Convert this dataframe to an interactive table.\"\n",
              "              style=\"display:none;\">\n",
              "        \n",
              "  <svg xmlns=\"http://www.w3.org/2000/svg\" height=\"24px\"viewBox=\"0 0 24 24\"\n",
              "       width=\"24px\">\n",
              "    <path d=\"M0 0h24v24H0V0z\" fill=\"none\"/>\n",
              "    <path d=\"M18.56 5.44l.94 2.06.94-2.06 2.06-.94-2.06-.94-.94-2.06-.94 2.06-2.06.94zm-11 1L8.5 8.5l.94-2.06 2.06-.94-2.06-.94L8.5 2.5l-.94 2.06-2.06.94zm10 10l.94 2.06.94-2.06 2.06-.94-2.06-.94-.94-2.06-.94 2.06-2.06.94z\"/><path d=\"M17.41 7.96l-1.37-1.37c-.4-.4-.92-.59-1.43-.59-.52 0-1.04.2-1.43.59L10.3 9.45l-7.72 7.72c-.78.78-.78 2.05 0 2.83L4 21.41c.39.39.9.59 1.41.59.51 0 1.02-.2 1.41-.59l7.78-7.78 2.81-2.81c.8-.78.8-2.07 0-2.86zM5.41 20L4 18.59l7.72-7.72 1.47 1.35L5.41 20z\"/>\n",
              "  </svg>\n",
              "      </button>\n",
              "      \n",
              "  <style>\n",
              "    .colab-df-container {\n",
              "      display:flex;\n",
              "      flex-wrap:wrap;\n",
              "      gap: 12px;\n",
              "    }\n",
              "\n",
              "    .colab-df-convert {\n",
              "      background-color: #E8F0FE;\n",
              "      border: none;\n",
              "      border-radius: 50%;\n",
              "      cursor: pointer;\n",
              "      display: none;\n",
              "      fill: #1967D2;\n",
              "      height: 32px;\n",
              "      padding: 0 0 0 0;\n",
              "      width: 32px;\n",
              "    }\n",
              "\n",
              "    .colab-df-convert:hover {\n",
              "      background-color: #E2EBFA;\n",
              "      box-shadow: 0px 1px 2px rgba(60, 64, 67, 0.3), 0px 1px 3px 1px rgba(60, 64, 67, 0.15);\n",
              "      fill: #174EA6;\n",
              "    }\n",
              "\n",
              "    [theme=dark] .colab-df-convert {\n",
              "      background-color: #3B4455;\n",
              "      fill: #D2E3FC;\n",
              "    }\n",
              "\n",
              "    [theme=dark] .colab-df-convert:hover {\n",
              "      background-color: #434B5C;\n",
              "      box-shadow: 0px 1px 3px 1px rgba(0, 0, 0, 0.15);\n",
              "      filter: drop-shadow(0px 1px 2px rgba(0, 0, 0, 0.3));\n",
              "      fill: #FFFFFF;\n",
              "    }\n",
              "  </style>\n",
              "\n",
              "      <script>\n",
              "        const buttonEl =\n",
              "          document.querySelector('#df-6ad7533d-93e1-4d33-8a9a-86c94c5d30d2 button.colab-df-convert');\n",
              "        buttonEl.style.display =\n",
              "          google.colab.kernel.accessAllowed ? 'block' : 'none';\n",
              "\n",
              "        async function convertToInteractive(key) {\n",
              "          const element = document.querySelector('#df-6ad7533d-93e1-4d33-8a9a-86c94c5d30d2');\n",
              "          const dataTable =\n",
              "            await google.colab.kernel.invokeFunction('convertToInteractive',\n",
              "                                                     [key], {});\n",
              "          if (!dataTable) return;\n",
              "\n",
              "          const docLinkHtml = 'Like what you see? Visit the ' +\n",
              "            '<a target=\"_blank\" href=https://colab.research.google.com/notebooks/data_table.ipynb>data table notebook</a>'\n",
              "            + ' to learn more about interactive tables.';\n",
              "          element.innerHTML = '';\n",
              "          dataTable['output_type'] = 'display_data';\n",
              "          await google.colab.output.renderOutput(dataTable, element);\n",
              "          const docLink = document.createElement('div');\n",
              "          docLink.innerHTML = docLinkHtml;\n",
              "          element.appendChild(docLink);\n",
              "        }\n",
              "      </script>\n",
              "    </div>\n",
              "  </div>\n",
              "  "
            ]
          },
          "metadata": {},
          "execution_count": 3
        }
      ]
    },
    {
      "cell_type": "code",
      "source": [
        "df.shape"
      ],
      "metadata": {
        "colab": {
          "base_uri": "https://localhost:8080/"
        },
        "id": "dpFG5JwyHJsi",
        "outputId": "d3c19790-bce1-48a1-9ddd-4980e984eafd"
      },
      "execution_count": null,
      "outputs": [
        {
          "output_type": "execute_result",
          "data": {
            "text/plain": [
              "(200, 4)"
            ]
          },
          "metadata": {},
          "execution_count": 4
        }
      ]
    },
    {
      "cell_type": "code",
      "source": [
        "X = df[[\"TV\"]]\n",
        "y = df[[\"sales\"]]"
      ],
      "metadata": {
        "id": "1DRgyLq9HMUs"
      },
      "execution_count": null,
      "outputs": []
    },
    {
      "cell_type": "markdown",
      "source": [
        "### Model"
      ],
      "metadata": {
        "id": "wO_jA9dEHPLs"
      }
    },
    {
      "cell_type": "code",
      "source": [
        "reg_model = LinearRegression().fit(X, y)\n",
        "reg_model"
      ],
      "metadata": {
        "colab": {
          "base_uri": "https://localhost:8080/"
        },
        "id": "tFUBEsyqHOTp",
        "outputId": "df2a9676-4273-4094-f5b4-01af3e623fee"
      },
      "execution_count": null,
      "outputs": [
        {
          "output_type": "execute_result",
          "data": {
            "text/plain": [
              "LinearRegression()"
            ]
          },
          "metadata": {},
          "execution_count": 6
        }
      ]
    },
    {
      "cell_type": "code",
      "source": [
        "# y_hat = b + w*TV(x)\n",
        "\n",
        "\n",
        "# sabit (b - bias)\n",
        "reg_model.intercept_[0]"
      ],
      "metadata": {
        "colab": {
          "base_uri": "https://localhost:8080/"
        },
        "id": "fptjhRsqHSd7",
        "outputId": "dc7f964d-5ee7-4b33-e929-af07d9bc84bc"
      },
      "execution_count": null,
      "outputs": [
        {
          "output_type": "execute_result",
          "data": {
            "text/plain": [
              "7.032593549127695"
            ]
          },
          "metadata": {},
          "execution_count": 7
        }
      ]
    },
    {
      "cell_type": "code",
      "source": [
        "# tv'nin katsayısı (w1)\n",
        "reg_model.coef_[0][0]\n",
        "\n",
        "#[0][0] bunların yazılma sebebi direk değeri görmek yazmazsan arrayli hali gelir\n",
        "#array([[0.0468431 , 0.17854434, 0.00258619]])"
      ],
      "metadata": {
        "colab": {
          "base_uri": "https://localhost:8080/"
        },
        "id": "dlaucPfzHY7Z",
        "outputId": "3775809a-8d79-4a0f-e8ea-b8e6a0817f22"
      },
      "execution_count": null,
      "outputs": [
        {
          "output_type": "execute_result",
          "data": {
            "text/plain": [
              "0.04753664043301975"
            ]
          },
          "metadata": {},
          "execution_count": 8
        }
      ]
    },
    {
      "cell_type": "markdown",
      "source": [
        "### Tahmin"
      ],
      "metadata": {
        "id": "qeiFx0hRHdns"
      }
    },
    {
      "cell_type": "code",
      "source": [
        "# 150 birimlik TV harcaması olsa ne kadar satış olması beklenir?\n",
        "# y = b + wx \n",
        "reg_model.intercept_[0] + reg_model.coef_[0][0]*150"
      ],
      "metadata": {
        "colab": {
          "base_uri": "https://localhost:8080/"
        },
        "id": "yyvqNYrqHaxL",
        "outputId": "beb4c4ea-410f-4438-97ab-ab0876eff0c2"
      },
      "execution_count": null,
      "outputs": [
        {
          "output_type": "execute_result",
          "data": {
            "text/plain": [
              "14.163089614080658"
            ]
          },
          "metadata": {},
          "execution_count": 9
        }
      ]
    },
    {
      "cell_type": "code",
      "source": [
        "# 500 birimlik tv harcaması olsa ne kadar satış olur?\n",
        "\n",
        "reg_model.intercept_[0] + reg_model.coef_[0][0]*500\n",
        "\n",
        "#televizyonun max değeri 296 biz 500 yazdık yine de sonuç çıktı. Çünkü model öğrendi artık."
      ],
      "metadata": {
        "colab": {
          "base_uri": "https://localhost:8080/"
        },
        "id": "pI44a2ySIUxA",
        "outputId": "edd907eb-1f15-4ed5-c158-c2c2e1b71507"
      },
      "execution_count": null,
      "outputs": [
        {
          "output_type": "execute_result",
          "data": {
            "text/plain": [
              "30.800913765637567"
            ]
          },
          "metadata": {},
          "execution_count": 10
        }
      ]
    },
    {
      "cell_type": "code",
      "source": [
        "df.describe().T"
      ],
      "metadata": {
        "colab": {
          "base_uri": "https://localhost:8080/",
          "height": 175
        },
        "id": "QsWg8rrHIXI8",
        "outputId": "15bcd3bb-cd8f-4849-e43b-649f60b2ea8e"
      },
      "execution_count": null,
      "outputs": [
        {
          "output_type": "execute_result",
          "data": {
            "text/plain": [
              "           count   mean   std  min   25%    50%    75%    max\n",
              "TV        200.00 147.04 85.85 0.70 74.38 149.75 218.82 296.40\n",
              "radio     200.00  23.26 14.85 0.00  9.97  22.90  36.52  49.60\n",
              "newspaper 200.00  30.55 21.78 0.30 12.75  25.75  45.10 114.00\n",
              "sales     200.00  14.02  5.22 1.60 10.38  12.90  17.40  27.00"
            ],
            "text/html": [
              "\n",
              "  <div id=\"df-4902ca86-64e7-43b4-844e-82a0d1010dd8\">\n",
              "    <div class=\"colab-df-container\">\n",
              "      <div>\n",
              "<style scoped>\n",
              "    .dataframe tbody tr th:only-of-type {\n",
              "        vertical-align: middle;\n",
              "    }\n",
              "\n",
              "    .dataframe tbody tr th {\n",
              "        vertical-align: top;\n",
              "    }\n",
              "\n",
              "    .dataframe thead th {\n",
              "        text-align: right;\n",
              "    }\n",
              "</style>\n",
              "<table border=\"1\" class=\"dataframe\">\n",
              "  <thead>\n",
              "    <tr style=\"text-align: right;\">\n",
              "      <th></th>\n",
              "      <th>count</th>\n",
              "      <th>mean</th>\n",
              "      <th>std</th>\n",
              "      <th>min</th>\n",
              "      <th>25%</th>\n",
              "      <th>50%</th>\n",
              "      <th>75%</th>\n",
              "      <th>max</th>\n",
              "    </tr>\n",
              "  </thead>\n",
              "  <tbody>\n",
              "    <tr>\n",
              "      <th>TV</th>\n",
              "      <td>200.00</td>\n",
              "      <td>147.04</td>\n",
              "      <td>85.85</td>\n",
              "      <td>0.70</td>\n",
              "      <td>74.38</td>\n",
              "      <td>149.75</td>\n",
              "      <td>218.82</td>\n",
              "      <td>296.40</td>\n",
              "    </tr>\n",
              "    <tr>\n",
              "      <th>radio</th>\n",
              "      <td>200.00</td>\n",
              "      <td>23.26</td>\n",
              "      <td>14.85</td>\n",
              "      <td>0.00</td>\n",
              "      <td>9.97</td>\n",
              "      <td>22.90</td>\n",
              "      <td>36.52</td>\n",
              "      <td>49.60</td>\n",
              "    </tr>\n",
              "    <tr>\n",
              "      <th>newspaper</th>\n",
              "      <td>200.00</td>\n",
              "      <td>30.55</td>\n",
              "      <td>21.78</td>\n",
              "      <td>0.30</td>\n",
              "      <td>12.75</td>\n",
              "      <td>25.75</td>\n",
              "      <td>45.10</td>\n",
              "      <td>114.00</td>\n",
              "    </tr>\n",
              "    <tr>\n",
              "      <th>sales</th>\n",
              "      <td>200.00</td>\n",
              "      <td>14.02</td>\n",
              "      <td>5.22</td>\n",
              "      <td>1.60</td>\n",
              "      <td>10.38</td>\n",
              "      <td>12.90</td>\n",
              "      <td>17.40</td>\n",
              "      <td>27.00</td>\n",
              "    </tr>\n",
              "  </tbody>\n",
              "</table>\n",
              "</div>\n",
              "      <button class=\"colab-df-convert\" onclick=\"convertToInteractive('df-4902ca86-64e7-43b4-844e-82a0d1010dd8')\"\n",
              "              title=\"Convert this dataframe to an interactive table.\"\n",
              "              style=\"display:none;\">\n",
              "        \n",
              "  <svg xmlns=\"http://www.w3.org/2000/svg\" height=\"24px\"viewBox=\"0 0 24 24\"\n",
              "       width=\"24px\">\n",
              "    <path d=\"M0 0h24v24H0V0z\" fill=\"none\"/>\n",
              "    <path d=\"M18.56 5.44l.94 2.06.94-2.06 2.06-.94-2.06-.94-.94-2.06-.94 2.06-2.06.94zm-11 1L8.5 8.5l.94-2.06 2.06-.94-2.06-.94L8.5 2.5l-.94 2.06-2.06.94zm10 10l.94 2.06.94-2.06 2.06-.94-2.06-.94-.94-2.06-.94 2.06-2.06.94z\"/><path d=\"M17.41 7.96l-1.37-1.37c-.4-.4-.92-.59-1.43-.59-.52 0-1.04.2-1.43.59L10.3 9.45l-7.72 7.72c-.78.78-.78 2.05 0 2.83L4 21.41c.39.39.9.59 1.41.59.51 0 1.02-.2 1.41-.59l7.78-7.78 2.81-2.81c.8-.78.8-2.07 0-2.86zM5.41 20L4 18.59l7.72-7.72 1.47 1.35L5.41 20z\"/>\n",
              "  </svg>\n",
              "      </button>\n",
              "      \n",
              "  <style>\n",
              "    .colab-df-container {\n",
              "      display:flex;\n",
              "      flex-wrap:wrap;\n",
              "      gap: 12px;\n",
              "    }\n",
              "\n",
              "    .colab-df-convert {\n",
              "      background-color: #E8F0FE;\n",
              "      border: none;\n",
              "      border-radius: 50%;\n",
              "      cursor: pointer;\n",
              "      display: none;\n",
              "      fill: #1967D2;\n",
              "      height: 32px;\n",
              "      padding: 0 0 0 0;\n",
              "      width: 32px;\n",
              "    }\n",
              "\n",
              "    .colab-df-convert:hover {\n",
              "      background-color: #E2EBFA;\n",
              "      box-shadow: 0px 1px 2px rgba(60, 64, 67, 0.3), 0px 1px 3px 1px rgba(60, 64, 67, 0.15);\n",
              "      fill: #174EA6;\n",
              "    }\n",
              "\n",
              "    [theme=dark] .colab-df-convert {\n",
              "      background-color: #3B4455;\n",
              "      fill: #D2E3FC;\n",
              "    }\n",
              "\n",
              "    [theme=dark] .colab-df-convert:hover {\n",
              "      background-color: #434B5C;\n",
              "      box-shadow: 0px 1px 3px 1px rgba(0, 0, 0, 0.15);\n",
              "      filter: drop-shadow(0px 1px 2px rgba(0, 0, 0, 0.3));\n",
              "      fill: #FFFFFF;\n",
              "    }\n",
              "  </style>\n",
              "\n",
              "      <script>\n",
              "        const buttonEl =\n",
              "          document.querySelector('#df-4902ca86-64e7-43b4-844e-82a0d1010dd8 button.colab-df-convert');\n",
              "        buttonEl.style.display =\n",
              "          google.colab.kernel.accessAllowed ? 'block' : 'none';\n",
              "\n",
              "        async function convertToInteractive(key) {\n",
              "          const element = document.querySelector('#df-4902ca86-64e7-43b4-844e-82a0d1010dd8');\n",
              "          const dataTable =\n",
              "            await google.colab.kernel.invokeFunction('convertToInteractive',\n",
              "                                                     [key], {});\n",
              "          if (!dataTable) return;\n",
              "\n",
              "          const docLinkHtml = 'Like what you see? Visit the ' +\n",
              "            '<a target=\"_blank\" href=https://colab.research.google.com/notebooks/data_table.ipynb>data table notebook</a>'\n",
              "            + ' to learn more about interactive tables.';\n",
              "          element.innerHTML = '';\n",
              "          dataTable['output_type'] = 'display_data';\n",
              "          await google.colab.output.renderOutput(dataTable, element);\n",
              "          const docLink = document.createElement('div');\n",
              "          docLink.innerHTML = docLinkHtml;\n",
              "          element.appendChild(docLink);\n",
              "        }\n",
              "      </script>\n",
              "    </div>\n",
              "  </div>\n",
              "  "
            ]
          },
          "metadata": {},
          "execution_count": 11
        }
      ]
    },
    {
      "cell_type": "code",
      "source": [
        "# Modelin Görselleştirilmesi\n",
        "g = sns.regplot(x=X, y=y, scatter_kws={'color': 'b', 's': 9},\n",
        "                ci=False, color=\"r\")\n",
        "\n",
        "# ci : güven aralığı\n",
        "#(reg_model.intercept_[0], 2) virgülden sonra 2 bas. olsun\n",
        "g.set_title(f\"Model Denklemi: Sales = {round(reg_model.intercept_[0], 2)} + TV*{round(reg_model.coef_[0][0], 2)}\")\n",
        "g.set_ylabel(\"Satış Sayısı\")\n",
        "g.set_xlabel(\"TV Harcamaları\")\n",
        "plt.xlim(-10, 310)\n",
        "plt.ylim(bottom=0)\n",
        "plt.show()"
      ],
      "metadata": {
        "colab": {
          "base_uri": "https://localhost:8080/",
          "height": 295
        },
        "id": "Nj3gu2MRIZN4",
        "outputId": "e1d96dec-1bc4-47cd-e15d-929ffa2f0733"
      },
      "execution_count": null,
      "outputs": [
        {
          "output_type": "display_data",
          "data": {
            "text/plain": [
              "<Figure size 432x288 with 1 Axes>"
            ],
            "image/png": "[encoded data removed]"
          },
          "metadata": {
            "needs_background": "light"
          }
        }
      ]
    },
    {
      "cell_type": "code",
      "source": [
        "# Tahmin Başarısı\n",
        "\n",
        "y_pred = reg_model.predict(X)\n",
        "mean_squared_error(y, y_pred)\n",
        "\n",
        "# y : gerçek değer\n",
        "# y_pred : tahmin edilen değer\n",
        "\n",
        "# MSE : 10.51"
      ],
      "metadata": {
        "colab": {
          "base_uri": "https://localhost:8080/"
        },
        "id": "SXdv1Zr1IcQx",
        "outputId": "7417636b-f836-466b-e3fb-146aca126748"
      },
      "execution_count": null,
      "outputs": [
        {
          "output_type": "execute_result",
          "data": {
            "text/plain": [
              "10.512652915656757"
            ]
          },
          "metadata": {},
          "execution_count": 13
        }
      ]
    },
    {
      "cell_type": "code",
      "source": [
        "y.mean()\n",
        "\n",
        "# ortalamam 14, hata 10 geldi yani hata oldukça yüksek diyebilirsin."
      ],
      "metadata": {
        "colab": {
          "base_uri": "https://localhost:8080/"
        },
        "id": "Iq0K6wi4IikR",
        "outputId": "19f7b0d2-cf3a-4786-c60d-550e308b8d2a"
      },
      "execution_count": null,
      "outputs": [
        {
          "output_type": "execute_result",
          "data": {
            "text/plain": [
              "sales   14.02\n",
              "dtype: float64"
            ]
          },
          "metadata": {},
          "execution_count": 14
        }
      ]
    },
    {
      "cell_type": "code",
      "source": [
        "y.std()"
      ],
      "metadata": {
        "colab": {
          "base_uri": "https://localhost:8080/"
        },
        "id": "dkgLYF1UIldl",
        "outputId": "7719dc80-4b3c-45e6-ed35-f5707bc4d5cf"
      },
      "execution_count": null,
      "outputs": [
        {
          "output_type": "execute_result",
          "data": {
            "text/plain": [
              "sales   5.22\n",
              "dtype: float64"
            ]
          },
          "metadata": {},
          "execution_count": 15
        }
      ]
    },
    {
      "cell_type": "code",
      "source": [
        "# RMSE\n",
        "np.sqrt(mean_squared_error(y, y_pred))"
      ],
      "metadata": {
        "colab": {
          "base_uri": "https://localhost:8080/"
        },
        "id": "DjqUyoI1InD5",
        "outputId": "233bfa4f-ecad-4930-96d5-4c41226e53b2"
      },
      "execution_count": null,
      "outputs": [
        {
          "output_type": "execute_result",
          "data": {
            "text/plain": [
              "3.2423221486546887"
            ]
          },
          "metadata": {},
          "execution_count": 16
        }
      ]
    },
    {
      "cell_type": "code",
      "source": [
        "# MAE\n",
        "mean_absolute_error(y, y_pred)"
      ],
      "metadata": {
        "colab": {
          "base_uri": "https://localhost:8080/"
        },
        "id": "mGaPKWy1Iqok",
        "outputId": "29e643dc-60b4-4034-acb4-270eced9167c"
      },
      "execution_count": null,
      "outputs": [
        {
          "output_type": "execute_result",
          "data": {
            "text/plain": [
              "2.549806038927486"
            ]
          },
          "metadata": {},
          "execution_count": 17
        }
      ]
    },
    {
      "cell_type": "markdown",
      "source": [
        "Kıyas yaparken MSE, RMSE ve  MAE değerlerini kıyaslamak yerine MSE ilk değeri ile ikinci bulduğun değeri kıyaslamalısın. Yani hataları kendi içinde karşılaştırmalısın."
      ],
      "metadata": {
        "id": "mm6fOMBfMJfi"
      }
    },
    {
      "cell_type": "code",
      "source": [
        "# R-KARE\n",
        "reg_model.score(X, y)\n",
        "\n",
        "# Doğrusal regresyon için önemlidir. Bağımsız değişkenlerin bağımlı değişkeni açıklama yüzdesidir.\n",
        "# 1. Değişken sayısı arttıkça r2 değeri şişmeye meyillidir.\n",
        "# istatistiki çıktılarla ilgilenmiyoruz. (ml yaklaşımıyla optimizasyon yaklaşımıyla yüksek tahmin performansı ile ilgileniyoruz)"
      ],
      "metadata": {
        "colab": {
          "base_uri": "https://localhost:8080/"
        },
        "id": "ugv27rwNIs3R",
        "outputId": "cea8a3cd-0ef0-42b5-d744-f56a1adcb363"
      },
      "execution_count": null,
      "outputs": [
        {
          "output_type": "execute_result",
          "data": {
            "text/plain": [
              "0.611875050850071"
            ]
          },
          "metadata": {},
          "execution_count": 18
        }
      ]
    },
    {
      "cell_type": "code",
      "source": [
        "# Multiple Linear Regression\n",
        "\n",
        "df = pd.read_csv(\"/content/gdrive/My Drive/advertising.csv\")\n",
        "\n",
        "X = df.drop('sales', axis=1)\n",
        "\n",
        "y = df[[\"sales\"]]"
      ],
      "metadata": {
        "id": "XWt_kGVIIupk"
      },
      "execution_count": null,
      "outputs": []
    },
    {
      "cell_type": "code",
      "source": [
        "# Model (test_size=0.20 dolayısıyla train_size= 0.80 olarak parçaladı )\n",
        "\n",
        "X_train, X_test, y_train, y_test = train_test_split(X, y, test_size=0.20, random_state=1)\n",
        "\n",
        "X_train.shape"
      ],
      "metadata": {
        "colab": {
          "base_uri": "https://localhost:8080/"
        },
        "id": "Jh_AeJjxI2Dp",
        "outputId": "304a4c23-f1c1-4bd9-fd1a-46b3c590f913"
      },
      "execution_count": null,
      "outputs": [
        {
          "output_type": "execute_result",
          "data": {
            "text/plain": [
              "(160, 3)"
            ]
          },
          "metadata": {},
          "execution_count": 20
        }
      ]
    },
    {
      "cell_type": "code",
      "source": [
        "y_train.shape"
      ],
      "metadata": {
        "colab": {
          "base_uri": "https://localhost:8080/"
        },
        "id": "dEQgmiLiVWln",
        "outputId": "1d7e355c-3f7a-443a-bea7-498771e67505"
      },
      "execution_count": null,
      "outputs": [
        {
          "output_type": "execute_result",
          "data": {
            "text/plain": [
              "(160, 1)"
            ]
          },
          "metadata": {},
          "execution_count": 21
        }
      ]
    },
    {
      "cell_type": "code",
      "source": [
        "X_test.shape"
      ],
      "metadata": {
        "colab": {
          "base_uri": "https://localhost:8080/"
        },
        "id": "THymsrEzVZoH",
        "outputId": "dd9979ac-a6f5-484a-829a-030ea193bb12"
      },
      "execution_count": null,
      "outputs": [
        {
          "output_type": "execute_result",
          "data": {
            "text/plain": [
              "(40, 3)"
            ]
          },
          "metadata": {},
          "execution_count": 22
        }
      ]
    },
    {
      "cell_type": "code",
      "source": [
        "y_test.shape"
      ],
      "metadata": {
        "colab": {
          "base_uri": "https://localhost:8080/"
        },
        "id": "HKBKfDF_VZtM",
        "outputId": "741d8977-5c9c-499e-9bff-c10efdcd8f10"
      },
      "execution_count": null,
      "outputs": [
        {
          "output_type": "execute_result",
          "data": {
            "text/plain": [
              "(40, 1)"
            ]
          },
          "metadata": {},
          "execution_count": 23
        }
      ]
    },
    {
      "cell_type": "code",
      "source": [
        "reg_model = LinearRegression().fit(X_train, y_train)"
      ],
      "metadata": {
        "id": "GszohCtRVP38"
      },
      "execution_count": null,
      "outputs": []
    },
    {
      "cell_type": "code",
      "source": [
        "# sabit (b - bias)\n",
        "reg_model.intercept_"
      ],
      "metadata": {
        "colab": {
          "base_uri": "https://localhost:8080/"
        },
        "id": "Bkd6chWEI5yv",
        "outputId": "eda99d91-69d7-45d0-c52d-68bb3761a876"
      },
      "execution_count": null,
      "outputs": [
        {
          "output_type": "execute_result",
          "data": {
            "text/plain": [
              "array([2.90794702])"
            ]
          },
          "metadata": {},
          "execution_count": 25
        }
      ]
    },
    {
      "cell_type": "code",
      "source": [
        "# coefficients (w - weights)\n",
        "reg_model.coef_"
      ],
      "metadata": {
        "colab": {
          "base_uri": "https://localhost:8080/"
        },
        "id": "OSbNmnPvI8Bv",
        "outputId": "878ab7a0-6ee3-416f-abb4-1fcce7dcf1f8"
      },
      "execution_count": null,
      "outputs": [
        {
          "output_type": "execute_result",
          "data": {
            "text/plain": [
              "array([[0.0468431 , 0.17854434, 0.00258619]])"
            ]
          },
          "metadata": {},
          "execution_count": 26
        }
      ]
    },
    {
      "cell_type": "code",
      "source": [
        "# Tahmin\n",
        "\n",
        "# Aşağıdaki gözlem değerlerine göre satışın beklenen değeri nedir?\n",
        "\n",
        "# TV: 30\n",
        "# radio: 10\n",
        "# newspaper: 40\n",
        "\n",
        "# y = b + w1*TV + w2*radio + w3*newspaper\n",
        "2.90794702 + 0.0468431*30 + 0.17854434*10 + 0.00258619*40"
      ],
      "metadata": {
        "colab": {
          "base_uri": "https://localhost:8080/"
        },
        "id": "BnfIPMIOI9vg",
        "outputId": "eccd57ba-d819-4d3b-e7ca-9767d74df57a"
      },
      "execution_count": null,
      "outputs": [
        {
          "output_type": "execute_result",
          "data": {
            "text/plain": [
              "6.20213102"
            ]
          },
          "metadata": {},
          "execution_count": 27
        }
      ]
    },
    {
      "cell_type": "code",
      "source": [
        "# yukarıda tek tek el ile yazdık bunu fonksiyonel bir şekilde yazmak istersen aşağıdaki yöntemi dene:\n",
        "\n",
        "yeni_veri = [[30], [10], [40]]\n",
        "yeni_veri = pd.DataFrame(yeni_veri).T\n",
        "yeni_veri"
      ],
      "metadata": {
        "colab": {
          "base_uri": "https://localhost:8080/",
          "height": 81
        },
        "id": "Gl6wlYoKV-wR",
        "outputId": "59dce08f-a7de-4830-a94e-0487f361dd60"
      },
      "execution_count": null,
      "outputs": [
        {
          "output_type": "execute_result",
          "data": {
            "text/plain": [
              "    0   1   2\n",
              "0  30  10  40"
            ],
            "text/html": [
              "\n",
              "  <div id=\"df-da9fa5ba-6ff8-41de-af22-aeb5bd54fdf6\">\n",
              "    <div class=\"colab-df-container\">\n",
              "      <div>\n",
              "<style scoped>\n",
              "    .dataframe tbody tr th:only-of-type {\n",
              "        vertical-align: middle;\n",
              "    }\n",
              "\n",
              "    .dataframe tbody tr th {\n",
              "        vertical-align: top;\n",
              "    }\n",
              "\n",
              "    .dataframe thead th {\n",
              "        text-align: right;\n",
              "    }\n",
              "</style>\n",
              "<table border=\"1\" class=\"dataframe\">\n",
              "  <thead>\n",
              "    <tr style=\"text-align: right;\">\n",
              "      <th></th>\n",
              "      <th>0</th>\n",
              "      <th>1</th>\n",
              "      <th>2</th>\n",
              "    </tr>\n",
              "  </thead>\n",
              "  <tbody>\n",
              "    <tr>\n",
              "      <th>0</th>\n",
              "      <td>30</td>\n",
              "      <td>10</td>\n",
              "      <td>40</td>\n",
              "    </tr>\n",
              "  </tbody>\n",
              "</table>\n",
              "</div>\n",
              "      <button class=\"colab-df-convert\" onclick=\"convertToInteractive('df-da9fa5ba-6ff8-41de-af22-aeb5bd54fdf6')\"\n",
              "              title=\"Convert this dataframe to an interactive table.\"\n",
              "              style=\"display:none;\">\n",
              "        \n",
              "  <svg xmlns=\"http://www.w3.org/2000/svg\" height=\"24px\"viewBox=\"0 0 24 24\"\n",
              "       width=\"24px\">\n",
              "    <path d=\"M0 0h24v24H0V0z\" fill=\"none\"/>\n",
              "    <path d=\"M18.56 5.44l.94 2.06.94-2.06 2.06-.94-2.06-.94-.94-2.06-.94 2.06-2.06.94zm-11 1L8.5 8.5l.94-2.06 2.06-.94-2.06-.94L8.5 2.5l-.94 2.06-2.06.94zm10 10l.94 2.06.94-2.06 2.06-.94-2.06-.94-.94-2.06-.94 2.06-2.06.94z\"/><path d=\"M17.41 7.96l-1.37-1.37c-.4-.4-.92-.59-1.43-.59-.52 0-1.04.2-1.43.59L10.3 9.45l-7.72 7.72c-.78.78-.78 2.05 0 2.83L4 21.41c.39.39.9.59 1.41.59.51 0 1.02-.2 1.41-.59l7.78-7.78 2.81-2.81c.8-.78.8-2.07 0-2.86zM5.41 20L4 18.59l7.72-7.72 1.47 1.35L5.41 20z\"/>\n",
              "  </svg>\n",
              "      </button>\n",
              "      \n",
              "  <style>\n",
              "    .colab-df-container {\n",
              "      display:flex;\n",
              "      flex-wrap:wrap;\n",
              "      gap: 12px;\n",
              "    }\n",
              "\n",
              "    .colab-df-convert {\n",
              "      background-color: #E8F0FE;\n",
              "      border: none;\n",
              "      border-radius: 50%;\n",
              "      cursor: pointer;\n",
              "      display: none;\n",
              "      fill: #1967D2;\n",
              "      height: 32px;\n",
              "      padding: 0 0 0 0;\n",
              "      width: 32px;\n",
              "    }\n",
              "\n",
              "    .colab-df-convert:hover {\n",
              "      background-color: #E2EBFA;\n",
              "      box-shadow: 0px 1px 2px rgba(60, 64, 67, 0.3), 0px 1px 3px 1px rgba(60, 64, 67, 0.15);\n",
              "      fill: #174EA6;\n",
              "    }\n",
              "\n",
              "    [theme=dark] .colab-df-convert {\n",
              "      background-color: #3B4455;\n",
              "      fill: #D2E3FC;\n",
              "    }\n",
              "\n",
              "    [theme=dark] .colab-df-convert:hover {\n",
              "      background-color: #434B5C;\n",
              "      box-shadow: 0px 1px 3px 1px rgba(0, 0, 0, 0.15);\n",
              "      filter: drop-shadow(0px 1px 2px rgba(0, 0, 0, 0.3));\n",
              "      fill: #FFFFFF;\n",
              "    }\n",
              "  </style>\n",
              "\n",
              "      <script>\n",
              "        const buttonEl =\n",
              "          document.querySelector('#df-da9fa5ba-6ff8-41de-af22-aeb5bd54fdf6 button.colab-df-convert');\n",
              "        buttonEl.style.display =\n",
              "          google.colab.kernel.accessAllowed ? 'block' : 'none';\n",
              "\n",
              "        async function convertToInteractive(key) {\n",
              "          const element = document.querySelector('#df-da9fa5ba-6ff8-41de-af22-aeb5bd54fdf6');\n",
              "          const dataTable =\n",
              "            await google.colab.kernel.invokeFunction('convertToInteractive',\n",
              "                                                     [key], {});\n",
              "          if (!dataTable) return;\n",
              "\n",
              "          const docLinkHtml = 'Like what you see? Visit the ' +\n",
              "            '<a target=\"_blank\" href=https://colab.research.google.com/notebooks/data_table.ipynb>data table notebook</a>'\n",
              "            + ' to learn more about interactive tables.';\n",
              "          element.innerHTML = '';\n",
              "          dataTable['output_type'] = 'display_data';\n",
              "          await google.colab.output.renderOutput(dataTable, element);\n",
              "          const docLink = document.createElement('div');\n",
              "          docLink.innerHTML = docLinkHtml;\n",
              "          element.appendChild(docLink);\n",
              "        }\n",
              "      </script>\n",
              "    </div>\n",
              "  </div>\n",
              "  "
            ]
          },
          "metadata": {},
          "execution_count": 28
        }
      ]
    },
    {
      "cell_type": "code",
      "source": [
        "reg_model.predict(yeni_veri)"
      ],
      "metadata": {
        "colab": {
          "base_uri": "https://localhost:8080/"
        },
        "id": "2gyuKTxKXobJ",
        "outputId": "80b8e9e6-88d9-4bd9-ccdb-2b41162dc2c9"
      },
      "execution_count": null,
      "outputs": [
        {
          "output_type": "stream",
          "name": "stderr",
          "text": [
            "/usr/local/lib/python3.7/dist-packages/sklearn/base.py:451: UserWarning: X does not have valid feature names, but LinearRegression was fitted with feature names\n",
            "  \"X does not have valid feature names, but\"\n"
          ]
        },
        {
          "output_type": "execute_result",
          "data": {
            "text/plain": [
              "array([[6.202131]])"
            ]
          },
          "metadata": {},
          "execution_count": 29
        }
      ]
    },
    {
      "cell_type": "markdown",
      "source": [
        "### Tahmin Başarısını Değerlendirme"
      ],
      "metadata": {
        "id": "SEtoMoqlY1Hu"
      }
    },
    {
      "cell_type": "code",
      "source": [
        "# Train RMSE\n",
        "y_pred = reg_model.predict(X_train)\n",
        "np.sqrt(mean_squared_error(y_train, y_pred))\n",
        "\n",
        "#yukarıya kıyasla hata düştü"
      ],
      "metadata": {
        "colab": {
          "base_uri": "https://localhost:8080/"
        },
        "id": "2LUUygneXurd",
        "outputId": "a2cbef1a-58f0-432d-e3d7-2f3025faa5ad"
      },
      "execution_count": null,
      "outputs": [
        {
          "output_type": "execute_result",
          "data": {
            "text/plain": [
              "1.736902590147092"
            ]
          },
          "metadata": {},
          "execution_count": 30
        }
      ]
    },
    {
      "cell_type": "code",
      "source": [
        "# Train RKARE\n",
        "reg_model.score(X_train, y_train)\n",
        "\n",
        "# yukarıda sadece TV değişkeni varken 0.60 lardayken diğer değişkenler eklenin 0.89 lara çıktı."
      ],
      "metadata": {
        "colab": {
          "base_uri": "https://localhost:8080/"
        },
        "id": "zlUhD_2wYIw2",
        "outputId": "fa2a468e-0c68-4cf1-c099-8a56b43eac42"
      },
      "execution_count": null,
      "outputs": [
        {
          "output_type": "execute_result",
          "data": {
            "text/plain": [
              "0.8959372632325174"
            ]
          },
          "metadata": {},
          "execution_count": 31
        }
      ]
    },
    {
      "cell_type": "code",
      "source": [
        "# Test RMSE\n",
        "y_pred = reg_model.predict(X_test)\n",
        "\n",
        "# testteki bağımsız değişkenleri kullanarak bağımlı değişkeni tahmin ediyor\n",
        "\n",
        "np.sqrt(mean_squared_error(y_test, y_pred))\n",
        "\n",
        "#train hatası ile test hatası arasında normalde test hatası, train hatasından daha yüksek çıkar. Burada aksi bir örnek olmuş."
      ],
      "metadata": {
        "colab": {
          "base_uri": "https://localhost:8080/"
        },
        "id": "YhlhbOV7YK17",
        "outputId": "a3029bd5-0cfb-4762-bff9-c944910343b5"
      },
      "execution_count": null,
      "outputs": [
        {
          "output_type": "execute_result",
          "data": {
            "text/plain": [
              "1.4113417558581587"
            ]
          },
          "metadata": {},
          "execution_count": 32
        }
      ]
    },
    {
      "cell_type": "code",
      "source": [
        "# Test RKARE\n",
        "reg_model.score(X_test, y_test)"
      ],
      "metadata": {
        "colab": {
          "base_uri": "https://localhost:8080/"
        },
        "id": "CVP1UYI2YNNU",
        "outputId": "7d9a9a6e-5445-4333-ca9d-365c31586f5e"
      },
      "execution_count": null,
      "outputs": [
        {
          "output_type": "execute_result",
          "data": {
            "text/plain": [
              "0.8927605914615384"
            ]
          },
          "metadata": {},
          "execution_count": 33
        }
      ]
    },
    {
      "cell_type": "code",
      "source": [
        "# 10 Katlı Cross-Validation RMSE\n",
        "np.mean(np.sqrt(-cross_val_score(reg_model,\n",
        "                                 X,\n",
        "                                 y,\n",
        "                                 cv=10,\n",
        "                                 scoring=\"neg_mean_squared_error\")))\n",
        "\n",
        "# neg_mean_squared_error negatif bir değer veriyor dolayısıyla cross_val eksi ile çarptık.\n",
        "# burada hangi hata değerine güvenmeliyiz dersen veri seti çok boyutlu olsaydı fark etmez diyebilirdin \n",
        "# ama az olduğu için 10 katlı çapraz doğrulamaya güvenebilirsin."
      ],
      "metadata": {
        "colab": {
          "base_uri": "https://localhost:8080/"
        },
        "id": "gf15WN4YYPUR",
        "outputId": "f8e29466-699a-43cc-ca37-ee7069cf88d9"
      },
      "execution_count": null,
      "outputs": [
        {
          "output_type": "execute_result",
          "data": {
            "text/plain": [
              "1.6913531708051797"
            ]
          },
          "metadata": {},
          "execution_count": 34
        }
      ]
    },
    {
      "cell_type": "code",
      "source": [
        "# 5 Katlı Cross-Validation RMSE\n",
        "np.mean(np.sqrt(-cross_val_score(reg_model,\n",
        "                                 X,\n",
        "                                 y,\n",
        "                                 cv=5,\n",
        "                                 scoring=\"neg_mean_squared_error\")))"
      ],
      "metadata": {
        "colab": {
          "base_uri": "https://localhost:8080/"
        },
        "id": "itPRmw6ZYRul",
        "outputId": "6575aa23-6cdb-4dfc-d057-568e0eb8cd12"
      },
      "execution_count": null,
      "outputs": [
        {
          "output_type": "execute_result",
          "data": {
            "text/plain": [
              "1.7175247278732086"
            ]
          },
          "metadata": {},
          "execution_count": 35
        }
      ]
    },
    {
      "cell_type": "markdown",
      "source": [
        "# BONUS "
      ],
      "metadata": {
        "id": "uvaeUDbYb42T"
      }
    },
    {
      "cell_type": "code",
      "source": [
        "df = pd.read_csv(\"/content/gdrive/My Drive/advertising.csv\")\n",
        "\n",
        "X = df[\"radio\"]\n",
        "Y = df[\"sales\"]\n",
        "\n",
        "#parametre: modelin veriyi kullanarak, veriden hareketle bulduğu değerlerdir, yani ağırlıklardır. Bu ağırlıklar veri setinden bulunur.\n",
        "\n",
        "#hiperparametre : veri setinden bulunamayan kullanıcı tarafından ayarlanması gereken parametrelerdir."
      ],
      "metadata": {
        "id": "Zre8yZE1e2yu"
      },
      "execution_count": null,
      "outputs": []
    },
    {
      "cell_type": "code",
      "source": [
        "# Simple Linear Regression with Gradient Descent from Scratch\n",
        "\n",
        "# Cost function MSE\n",
        "def cost_function(Y, b, w, X):\n",
        "  m = len(Y)\n",
        "  sse = 0\n",
        "  for i in range(1, m+1):\n",
        "    y_hat = b + w * X[i]\n",
        "    y = Y[i]\n",
        "    sse += (y_hat - y) ** 2\n",
        "\n",
        "  mse = sse / m\n",
        "  return mse\n",
        "\n",
        "#  cost_function görevi MSE değerini hesaplamak. \n",
        "# sse : sum of square error hata kareler toplamı"
      ],
      "metadata": {
        "id": "-qT-fn6AYT8q"
      },
      "execution_count": null,
      "outputs": []
    },
    {
      "cell_type": "code",
      "source": [
        "# update_weights\n",
        "def update_weights(Y, b, w, X, learning_rate):\n",
        "  m = len(Y)\n",
        "  b_deriv_sum = 0\n",
        "  w_deriv_sum = 0\n",
        "\n",
        "  for i in range(1, m+1):\n",
        "    y_hat = b + w * X[i]\n",
        "    y = Y[i]\n",
        "    b_deriv_sum += (y_hat - y)\n",
        "    w_deriv_sum += (y_hat - y) * X[i]\n",
        "\n",
        "  new_b = b - (learning_rate * 1 / m * b_deriv_sum)\n",
        "  new_w = w - (learning_rate * 1 / m * w_deriv_sum)\n",
        "  return new_b, new_w\n",
        "\n",
        "\n",
        "# burada bir iterasyon yok b,w gibi bir ağırlık çifti vardır, onları gözlem birimlerinden geçiriyoruz. \n",
        "# gözlem birimlerinden geçtikten sonra biri sağa biri sola dedi 1/m bakarak ortalama nereye gideceğine karar verir.\n",
        "# batch gradient descent  : b,w gibi belirli ağırlık çiftlerini kullanırak bütün gözlem değerlerine fikrini sormak\n",
        "# stokastik gradyan descent : her iterasyonda sadece bir gözlem birimine gidilir\n",
        "# mini batch gradient descent : 5-10-100 gibi farklı sayıda gözlem birimlerine gidilir."
      ],
      "metadata": {
        "id": "XOKmj5GtYZua"
      },
      "execution_count": null,
      "outputs": []
    },
    {
      "cell_type": "code",
      "source": [
        "# train fonksiyonu\n",
        "def train(Y, initial_b, initial_w, X, learning_rate, num_iters):\n",
        "  \n",
        "  print(\"Starting gradient descent at b = {0}, w = {1}, mse = {2}\".format(initial_b, initial_w,\n",
        "                                                                   cost_function(Y, initial_b, initial_w, X))) #ilk hatanın raporlandığı bölüm\n",
        "  b = initial_b\n",
        "  w = initial_w\n",
        "\n",
        "  cost_history = []\n",
        "\n",
        "  for i in range(num_iters):\n",
        "    b, w = update_weights(Y, b, w, X, learning_rate)\n",
        "    mse = cost_function(Y, b, w, X)\n",
        "    cost_history.append(mse)\n",
        "     \n",
        "    if i % 100 == 0: #her 100 de 1 i raporla\n",
        "      print(\"iter={:d}    b={:.2f}    w={:.4f}    mse={:.4}\".format(i, b, w, mse))\n",
        "\n",
        "\n",
        "  print(\"After {0} iterations b = {1}, w = {2}, mse = {3}\".format(num_iters, b, w, cost_function(Y, b, w, X)))\n",
        "  return cost_history, b, w"
      ],
      "metadata": {
        "id": "Z0TnRugCYfZz"
      },
      "execution_count": null,
      "outputs": []
    },
    {
      "cell_type": "code",
      "source": [
        "# hyperparameters\n",
        "learning_rate = 0.001\n",
        "initial_b = 0.001\n",
        "initial_w = 0.001\n",
        "num_iters = 1000"
      ],
      "metadata": {
        "id": "56xCY21hYhGc"
      },
      "execution_count": null,
      "outputs": []
    },
    {
      "cell_type": "code",
      "source": [
        "cost_history, b, w = train(Y, initial_b, initial_w, X, learning_rate, num_iters)"
      ],
      "metadata": {
        "colab": {
          "base_uri": "https://localhost:8080/"
        },
        "id": "k6Pke4wWYqVG",
        "outputId": "74e30966-2d2d-4e86-8581-30682d98f97a"
      },
      "execution_count": null,
      "outputs": [
        {
          "output_type": "stream",
          "name": "stdout",
          "text": [
            "Starting gradient descent at b = 0.001, w = 0.001, mse = 222.9477491673001\n",
            "iter=0    b=0.01    w=0.3708    mse=53.25\n",
            "iter=100    b=0.28    w=0.4788    mse=41.6\n",
            "iter=200    b=0.54    w=0.4709    mse=40.29\n",
            "iter=300    b=0.79    w=0.4633    mse=39.04\n",
            "iter=400    b=1.03    w=0.4559    mse=37.87\n",
            "iter=500    b=1.27    w=0.4487    mse=36.76\n",
            "iter=600    b=1.49    w=0.4417    mse=35.72\n",
            "iter=700    b=1.72    w=0.4349    mse=34.73\n",
            "iter=800    b=1.93    w=0.4283    mse=33.8\n",
            "iter=900    b=2.14    w=0.4219    mse=32.92\n",
            "After 1000 iterations b = 2.343098266484275, w = 0.41573597707268284, mse = 32.09637512179127\n"
          ]
        }
      ]
    }
  ]
}